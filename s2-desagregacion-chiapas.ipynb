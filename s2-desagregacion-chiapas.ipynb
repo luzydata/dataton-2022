{
 "cells": [
  {
   "cell_type": "code",
   "execution_count": 24,
   "id": "75ced556",
   "metadata": {},
   "outputs": [],
   "source": [
    "import pandas as pd\n",
    "import re"
   ]
  },
  {
   "cell_type": "code",
   "execution_count": 5,
   "id": "f6b249cc",
   "metadata": {},
   "outputs": [],
   "source": [
    "df = pd.read_csv('s2_chiapas_v2.csv')"
   ]
  },
  {
   "cell_type": "code",
   "execution_count": 10,
   "id": "3bfcc388",
   "metadata": {},
   "outputs": [],
   "source": [
    "my_list=df['nivelResponsabilidad'].tolist()"
   ]
  },
  {
   "cell_type": "code",
   "execution_count": 19,
   "id": "15ed4cf4",
   "metadata": {},
   "outputs": [],
   "source": [
    "my_list2=df['tipoProcedimiento'].tolist()"
   ]
  },
  {
   "cell_type": "code",
   "execution_count": 26,
   "id": "ac32e664",
   "metadata": {},
   "outputs": [],
   "source": [
    "responsabilidad = ['ATENCION', 'TRAMITACION', 'RESOLUCION', 'OTRO']"
   ]
  },
  {
   "cell_type": "code",
   "execution_count": 27,
   "id": "197ec913",
   "metadata": {},
   "outputs": [],
   "source": [
    "procedimiento = ['1', '2', '3', '4', '5']\n",
    "procedimiento_dict = {\n",
    "    '1' : 'CONTRATACIONES PUBLICAS',\n",
    "    '2' : 'CONSECIONES LICENCIAS PERMISO AUTORIZACIONES PRORROGAS',\n",
    "    '3' : 'ENAGENACION BIENES',\n",
    "    '4' : 'DICTAMEN Y AVALUO',\n",
    "    '5' : 'OTRO',\n",
    "}"
   ]
  },
  {
   "cell_type": "code",
   "execution_count": 45,
   "id": "001859d2",
   "metadata": {},
   "outputs": [],
   "source": [
    "list_to_add = []\n",
    "for e in my_list:\n",
    "    valores = []\n",
    "    for w in responsabilidad:\n",
    "        start_index = []\n",
    "        start_index.append([i.start() for i in re.finditer(w, e)])\n",
    "        if start_index[0]!= []:\n",
    "            valores.append(w)\n",
    "    list_to_add.append(valores)\n"
   ]
  },
  {
   "cell_type": "code",
   "execution_count": 47,
   "id": "12b95799",
   "metadata": {},
   "outputs": [],
   "source": [
    "df['responsabilidades'] = list_to_add"
   ]
  },
  {
   "cell_type": "code",
   "execution_count": 49,
   "id": "cf8a4776",
   "metadata": {},
   "outputs": [],
   "source": [
    "procedimiento_to_add = []\n",
    "for e in my_list2:\n",
    "    valores = []\n",
    "    for n in procedimiento:\n",
    "        start_index = []\n",
    "        start_index.append([i.start() for i in re.finditer(n, e)])\n",
    "        if start_index[0]!= []:\n",
    "            valores.append(procedimiento_dict[n])\n",
    "    procedimiento_to_add.append(valores)\n"
   ]
  },
  {
   "cell_type": "code",
   "execution_count": 50,
   "id": "ee0a4f25",
   "metadata": {},
   "outputs": [
    {
     "data": {
      "text/plain": [
       "[['CONTRATACIONES PUBLICAS'],\n",
       " ['CONTRATACIONES PUBLICAS', 'ENAGENACION BIENES'],\n",
       " ['CONTRATACIONES PUBLICAS'],\n",
       " ['CONTRATACIONES PUBLICAS', 'ENAGENACION BIENES'],\n",
       " ['CONTRATACIONES PUBLICAS', 'ENAGENACION BIENES'],\n",
       " ['CONTRATACIONES PUBLICAS', 'ENAGENACION BIENES'],\n",
       " ['CONTRATACIONES PUBLICAS', 'ENAGENACION BIENES'],\n",
       " ['CONTRATACIONES PUBLICAS', 'ENAGENACION BIENES'],\n",
       " ['CONTRATACIONES PUBLICAS'],\n",
       " ['CONTRATACIONES PUBLICAS'],\n",
       " ['OTRO']]"
      ]
     },
     "execution_count": 50,
     "metadata": {},
     "output_type": "execute_result"
    }
   ],
   "source": [
    "procedimiento_to_add"
   ]
  },
  {
   "cell_type": "code",
   "execution_count": 51,
   "id": "1f152378",
   "metadata": {},
   "outputs": [],
   "source": [
    "df['procedimiento'] = procedimiento_to_add"
   ]
  },
  {
   "cell_type": "code",
   "execution_count": 53,
   "id": "736dfd27",
   "metadata": {},
   "outputs": [
    {
     "data": {
      "text/html": [
       "<div>\n",
       "<style scoped>\n",
       "    .dataframe tbody tr th:only-of-type {\n",
       "        vertical-align: middle;\n",
       "    }\n",
       "\n",
       "    .dataframe tbody tr th {\n",
       "        vertical-align: top;\n",
       "    }\n",
       "\n",
       "    .dataframe thead th {\n",
       "        text-align: right;\n",
       "    }\n",
       "</style>\n",
       "<table border=\"1\" class=\"dataframe\">\n",
       "  <thead>\n",
       "    <tr style=\"text-align: right;\">\n",
       "      <th></th>\n",
       "      <th>fechaCaptura</th>\n",
       "      <th>nivelResponsabilidad</th>\n",
       "      <th>tipoProcedimiento</th>\n",
       "      <th>institucionDependencia.nombre</th>\n",
       "      <th>puesto.nombre</th>\n",
       "      <th>nombreCompleto</th>\n",
       "      <th>responsabilidades</th>\n",
       "      <th>procedimiento</th>\n",
       "    </tr>\n",
       "  </thead>\n",
       "  <tbody>\n",
       "    <tr>\n",
       "      <th>0</th>\n",
       "      <td>2022-07-22T13:54:33Z</td>\n",
       "      <td>[{'clave': 'A', 'valor': 'ATENCION'}, {'clave'...</td>\n",
       "      <td>[{'clave': 1, 'valor': 'CONTRATACIONES PUBLICA...</td>\n",
       "      <td>Secretaria Ejecutiva del Sistema Anticorrupcio...</td>\n",
       "      <td>JEFE DE LA UNIDAD DE APOYO ADMINISTRATIVO</td>\n",
       "      <td>JORGE ALBERTO NAFATE POZO</td>\n",
       "      <td>[ATENCION, TRAMITACION, RESOLUCION]</td>\n",
       "      <td>[CONTRATACIONES PUBLICAS]</td>\n",
       "    </tr>\n",
       "    <tr>\n",
       "      <th>1</th>\n",
       "      <td>2022-07-22T13:59:51Z</td>\n",
       "      <td>[{'clave': 'A', 'valor': 'ATENCION'}, {'clave'...</td>\n",
       "      <td>[{'clave': 3, 'valor': 'ENAJENACION DE BIENES ...</td>\n",
       "      <td>Secretaria Ejecutiva del Sistema Anticorrupcio...</td>\n",
       "      <td>COORDINADORA DE ARCHIVO</td>\n",
       "      <td>KENIA LIZBETH JIMENEZ ALEGRIA</td>\n",
       "      <td>[ATENCION, TRAMITACION, RESOLUCION]</td>\n",
       "      <td>[CONTRATACIONES PUBLICAS, ENAGENACION BIENES]</td>\n",
       "    </tr>\n",
       "    <tr>\n",
       "      <th>2</th>\n",
       "      <td>2022-07-22T14:06:46Z</td>\n",
       "      <td>[{'clave': 'T', 'valor': 'TRAMITACION'}]</td>\n",
       "      <td>[{'clave': 1, 'valor': 'CONTRATACIONES PUBLICA...</td>\n",
       "      <td>Secretaria Ejecutiva del Sistema Anticorrupcio...</td>\n",
       "      <td>SECRETARIA TECNICA</td>\n",
       "      <td>DAYANHARA AGUILAR BALLINAS</td>\n",
       "      <td>[TRAMITACION]</td>\n",
       "      <td>[CONTRATACIONES PUBLICAS]</td>\n",
       "    </tr>\n",
       "  </tbody>\n",
       "</table>\n",
       "</div>"
      ],
      "text/plain": [
       "           fechaCaptura                               nivelResponsabilidad  \\\n",
       "0  2022-07-22T13:54:33Z  [{'clave': 'A', 'valor': 'ATENCION'}, {'clave'...   \n",
       "1  2022-07-22T13:59:51Z  [{'clave': 'A', 'valor': 'ATENCION'}, {'clave'...   \n",
       "2  2022-07-22T14:06:46Z           [{'clave': 'T', 'valor': 'TRAMITACION'}]   \n",
       "\n",
       "                                   tipoProcedimiento  \\\n",
       "0  [{'clave': 1, 'valor': 'CONTRATACIONES PUBLICA...   \n",
       "1  [{'clave': 3, 'valor': 'ENAJENACION DE BIENES ...   \n",
       "2  [{'clave': 1, 'valor': 'CONTRATACIONES PUBLICA...   \n",
       "\n",
       "                       institucionDependencia.nombre  \\\n",
       "0  Secretaria Ejecutiva del Sistema Anticorrupcio...   \n",
       "1  Secretaria Ejecutiva del Sistema Anticorrupcio...   \n",
       "2  Secretaria Ejecutiva del Sistema Anticorrupcio...   \n",
       "\n",
       "                               puesto.nombre                 nombreCompleto  \\\n",
       "0  JEFE DE LA UNIDAD DE APOYO ADMINISTRATIVO      JORGE ALBERTO NAFATE POZO   \n",
       "1                    COORDINADORA DE ARCHIVO  KENIA LIZBETH JIMENEZ ALEGRIA   \n",
       "2                         SECRETARIA TECNICA     DAYANHARA AGUILAR BALLINAS   \n",
       "\n",
       "                     responsabilidades  \\\n",
       "0  [ATENCION, TRAMITACION, RESOLUCION]   \n",
       "1  [ATENCION, TRAMITACION, RESOLUCION]   \n",
       "2                        [TRAMITACION]   \n",
       "\n",
       "                                   procedimiento  \n",
       "0                      [CONTRATACIONES PUBLICAS]  \n",
       "1  [CONTRATACIONES PUBLICAS, ENAGENACION BIENES]  \n",
       "2                      [CONTRATACIONES PUBLICAS]  "
      ]
     },
     "execution_count": 53,
     "metadata": {},
     "output_type": "execute_result"
    }
   ],
   "source": [
    "df.head(3)"
   ]
  },
  {
   "cell_type": "code",
   "execution_count": 55,
   "id": "1161e9c9",
   "metadata": {},
   "outputs": [],
   "source": [
    "df.drop(['nivelResponsabilidad', 'tipoProcedimiento'], axis=1, inplace=True, errors='raise')"
   ]
  },
  {
   "cell_type": "code",
   "execution_count": 56,
   "id": "4bb68e55",
   "metadata": {},
   "outputs": [],
   "source": [
    "df.to_csv('s2_chiapas_desagregado.csv')"
   ]
  },
  {
   "cell_type": "code",
   "execution_count": null,
   "id": "8fc90a25",
   "metadata": {},
   "outputs": [],
   "source": []
  }
 ],
 "metadata": {
  "kernelspec": {
   "display_name": "Python 3 (ipykernel)",
   "language": "python",
   "name": "python3"
  },
  "language_info": {
   "codemirror_mode": {
    "name": "ipython",
    "version": 3
   },
   "file_extension": ".py",
   "mimetype": "text/x-python",
   "name": "python",
   "nbconvert_exporter": "python",
   "pygments_lexer": "ipython3",
   "version": "3.10.6"
  }
 },
 "nbformat": 4,
 "nbformat_minor": 5
}
