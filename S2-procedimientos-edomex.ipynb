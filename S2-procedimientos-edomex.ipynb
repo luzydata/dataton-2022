{
 "cells": [
  {
   "cell_type": "code",
   "execution_count": 1,
   "id": "6c671b56",
   "metadata": {},
   "outputs": [],
   "source": [
    "import pandas as pd\n",
    "import json\n",
    "import os\n",
    "import psutil\n",
    "import missingno"
   ]
  },
  {
   "cell_type": "markdown",
   "id": "15383222",
   "metadata": {},
   "source": [
    "def get_mem():\n",
    "    # Getting % usage of virtual_memory ( 3rd field)\n",
    "    print('RAM memory % used:', psutil.virtual_memory()[2])\n",
    "    # Getting usage of virtual_memory in GB ( 4th field)\n",
    "    print('RAM Used (GB):', psutil.virtual_memory()[3]/1000000000)"
   ]
  },
  {
   "cell_type": "markdown",
   "id": "984682c6",
   "metadata": {},
   "source": [
    "leer archivos en directorio"
   ]
  },
  {
   "cell_type": "markdown",
   "id": "87fbe1ef",
   "metadata": {},
   "source": [
    "path1 = './raw_data/s1/AGUASCALIENTES/'"
   ]
  },
  {
   "cell_type": "markdown",
   "id": "b17e63e7",
   "metadata": {},
   "source": [
    "#Open a files\n",
    "data_dict = {}\n",
    "with os.scandir(path1) as files:\n",
    "    for entry in files:\n",
    "        with open(os.path.join(path1, entry.name), 'r') as f:\n",
    "            file_data = json.load(f)\n",
    "            data_dict[entry.name[-8:-5]] = file_data"
   ]
  },
  {
   "cell_type": "markdown",
   "id": "85b80577",
   "metadata": {},
   "source": [
    "get_mem()"
   ]
  },
  {
   "cell_type": "markdown",
   "id": "4e179bfc",
   "metadata": {},
   "source": [
    "Revisar si existen id en base sistema 2 corresponden a id de sistema 1"
   ]
  },
  {
   "cell_type": "markdown",
   "id": "6176dcc4",
   "metadata": {},
   "source": [
    "data_dict.keys()"
   ]
  },
  {
   "cell_type": "markdown",
   "id": "b4c44b78",
   "metadata": {},
   "source": [
    "count = 0"
   ]
  },
  {
   "cell_type": "markdown",
   "id": "edca62fc",
   "metadata": {},
   "source": [
    "ids_search=[]\n",
    "for key in data_dict.keys():\n",
    "    for e in data_dict[key]:\n",
    "        count += 1\n",
    "        ids_search.append(e['id'])\n",
    "print(len(ids_search))"
   ]
  },
  {
   "cell_type": "markdown",
   "id": "04efaa00",
   "metadata": {},
   "source": [
    "count"
   ]
  },
  {
   "cell_type": "markdown",
   "id": "1813a1d6",
   "metadata": {},
   "source": [
    "Cargar data base sistema 2"
   ]
  },
  {
   "cell_type": "code",
   "execution_count": 9,
   "id": "6186a21d",
   "metadata": {},
   "outputs": [],
   "source": [
    "final_columns = [\n",
    "    'fechaCaptura',\n",
    "    'nombres', \n",
    "    'primerApellido',\n",
    "    'segundoApellido',\n",
    "    'nivelResponsabilidad',\n",
    "    'tipoProcedimiento',\n",
    "    'institucionDependencia.nombre',\n",
    "    'puesto.nombre',\n",
    "]"
   ]
  },
  {
   "cell_type": "code",
   "execution_count": null,
   "id": "36d14403",
   "metadata": {},
   "outputs": [],
   "source": []
  },
  {
   "cell_type": "code",
   "execution_count": 2,
   "id": "d2af8aaf",
   "metadata": {},
   "outputs": [],
   "source": [
    "path2 = './raw_data/s2/EDOMEX'"
   ]
  },
  {
   "cell_type": "code",
   "execution_count": 3,
   "id": "c663d88e",
   "metadata": {},
   "outputs": [],
   "source": [
    "data_dict = {}\n",
    "with os.scandir(path2) as files:\n",
    "    for entry in files:\n",
    "        with open(os.path.join(path2, entry.name), 'r') as f:\n",
    "            file_data = json.load(f)\n",
    "            data_dict[entry.name[-8:-5]] = file_data"
   ]
  },
  {
   "cell_type": "code",
   "execution_count": 4,
   "id": "691b5eb4",
   "metadata": {},
   "outputs": [],
   "source": [
    "json_names = [k for k in data_dict.keys()]"
   ]
  },
  {
   "cell_type": "code",
   "execution_count": 5,
   "id": "196aff15",
   "metadata": {},
   "outputs": [],
   "source": [
    "data_frames=[]\n",
    "for name in json_names:\n",
    "    data_frames.append(\n",
    "        pd.json_normalize(\n",
    "                    data_dict[name],\n",
    "                    record_path=None,\n",
    "                    meta=None, \n",
    "                    meta_prefix=None, \n",
    "                    record_prefix=None, \n",
    "                    errors='raise', \n",
    "                    sep='.', \n",
    "                    max_level=None,\n",
    "                    )\n",
    "        )\n",
    "    \n",
    "    \n",
    " \n",
    "        "
   ]
  },
  {
   "cell_type": "code",
   "execution_count": 6,
   "id": "230d7649",
   "metadata": {},
   "outputs": [
    {
     "name": "stdout",
     "output_type": "stream",
     "text": [
      "(200, 23)\n",
      "(200, 24)\n",
      "(200, 24)\n",
      "(200, 24)\n",
      "(200, 24)\n",
      "(200, 24)\n",
      "(200, 24)\n",
      "(200, 24)\n",
      "(200, 24)\n",
      "(200, 23)\n",
      "(200, 14)\n",
      "(200, 24)\n",
      "(200, 24)\n",
      "(200, 14)\n",
      "(19, 23)\n",
      "(200, 14)\n",
      "(200, 24)\n",
      "(200, 23)\n"
     ]
    }
   ],
   "source": [
    "for frame in data_frames:\n",
    "    print(frame.shape)"
   ]
  },
  {
   "cell_type": "code",
   "execution_count": 8,
   "id": "311cc378",
   "metadata": {},
   "outputs": [
    {
     "data": {
      "text/html": [
       "<div>\n",
       "<style scoped>\n",
       "    .dataframe tbody tr th:only-of-type {\n",
       "        vertical-align: middle;\n",
       "    }\n",
       "\n",
       "    .dataframe tbody tr th {\n",
       "        vertical-align: top;\n",
       "    }\n",
       "\n",
       "    .dataframe thead th {\n",
       "        text-align: right;\n",
       "    }\n",
       "</style>\n",
       "<table border=\"1\" class=\"dataframe\">\n",
       "  <thead>\n",
       "    <tr style=\"text-align: right;\">\n",
       "      <th></th>\n",
       "      <th>id</th>\n",
       "      <th>fechaCaptura</th>\n",
       "      <th>nombres</th>\n",
       "      <th>primerApellido</th>\n",
       "      <th>segundoApellido</th>\n",
       "      <th>nivelResponsabilidad</th>\n",
       "      <th>tipoProcedimiento</th>\n",
       "      <th>institucionDependencia.nombre</th>\n",
       "      <th>institucionDependencia.siglas</th>\n",
       "      <th>institucionDependencia.clave</th>\n",
       "      <th>puesto.nombre</th>\n",
       "      <th>puesto.nivel</th>\n",
       "      <th>superiorInmediato.primerApellido</th>\n",
       "      <th>superiorInmediato.segundoApellido</th>\n",
       "    </tr>\n",
       "  </thead>\n",
       "  <tbody>\n",
       "    <tr>\n",
       "      <th>0</th>\n",
       "      <td>62d3dafab598ee27666c1d4f</td>\n",
       "      <td>2015-11-04T20:37:35Z</td>\n",
       "      <td>FERMIN</td>\n",
       "      <td>TRINIDAD</td>\n",
       "      <td>SAN JUAN</td>\n",
       "      <td>[{'clave': 'A', 'valor': 'ATENCIÓN'}, {'clave'...</td>\n",
       "      <td>[{'clave': 1, 'valor': 'CONTRATACIONES PÚBLICA...</td>\n",
       "      <td>Secretaría de Finanzas</td>\n",
       "      <td>finanzas</td>\n",
       "      <td>eje-013</td>\n",
       "      <td>Secretaria \"D\"</td>\n",
       "      <td>KZF50</td>\n",
       "      <td>CAMPUZANO</td>\n",
       "      <td>RAMIREZ</td>\n",
       "    </tr>\n",
       "    <tr>\n",
       "      <th>1</th>\n",
       "      <td>62d3dafab598ee27666c1d56</td>\n",
       "      <td>2015-11-05T11:01:38Z</td>\n",
       "      <td>MEDARDO ALFREDO</td>\n",
       "      <td>DOMINGUEZ</td>\n",
       "      <td>TORRES</td>\n",
       "      <td>[{'clave': 'A', 'valor': 'ATENCIÓN'}, {'clave'...</td>\n",
       "      <td>[{'clave': 1, 'valor': 'CONTRATACIONES PÚBLICA...</td>\n",
       "      <td>Secretaría de Finanzas</td>\n",
       "      <td>finanzas</td>\n",
       "      <td>eje-013</td>\n",
       "      <td>Jefe \"A\" Proyecto</td>\n",
       "      <td>BGIQ0</td>\n",
       "      <td>RAMOS</td>\n",
       "      <td>VEGA</td>\n",
       "    </tr>\n",
       "    <tr>\n",
       "      <th>2</th>\n",
       "      <td>6375166e7943e2ab46eb9833</td>\n",
       "      <td>2015-11-05T11:54:34Z</td>\n",
       "      <td>MONICA EVA</td>\n",
       "      <td>ESQUIVEL</td>\n",
       "      <td>VARGAS</td>\n",
       "      <td>[{'clave': 'A', 'valor': 'ATENCIÓN'}]</td>\n",
       "      <td>[{'clave': 1, 'valor': 'CONTRATACIONES PÚBLICA...</td>\n",
       "      <td>Secretaría del Medio Ambiente</td>\n",
       "      <td>sma</td>\n",
       "      <td>eje-081</td>\n",
       "      <td>Jefe B De Proyecto</td>\n",
       "      <td>354QG</td>\n",
       "      <td></td>\n",
       "      <td></td>\n",
       "    </tr>\n",
       "    <tr>\n",
       "      <th>3</th>\n",
       "      <td>6375166e7943e2ab46eb9838</td>\n",
       "      <td>2015-11-05T12:01:51Z</td>\n",
       "      <td>JOSE LUIS</td>\n",
       "      <td>RAMIREZ</td>\n",
       "      <td>ARROYO</td>\n",
       "      <td>[{'clave': 'T', 'valor': 'TRAMITACIÓN'}]</td>\n",
       "      <td>[{'clave': 2, 'valor': 'CONCESIONES, LICENCIAS...</td>\n",
       "      <td>Secretaría del Medio Ambiente</td>\n",
       "      <td>sma</td>\n",
       "      <td>eje-081</td>\n",
       "      <td>Inspector De Ecología</td>\n",
       "      <td>EV3I5</td>\n",
       "      <td></td>\n",
       "      <td></td>\n",
       "    </tr>\n",
       "    <tr>\n",
       "      <th>4</th>\n",
       "      <td>6375166e7943e2ab46eb983f</td>\n",
       "      <td>2015-11-05T12:04:17Z</td>\n",
       "      <td>VIRIDIANA</td>\n",
       "      <td>MARTÍNEZ</td>\n",
       "      <td>MENDEZ</td>\n",
       "      <td>[{'clave': 'A', 'valor': 'ATENCIÓN'}, {'clave'...</td>\n",
       "      <td>[{'clave': 2, 'valor': 'CONCESIONES, LICENCIAS...</td>\n",
       "      <td>Secretaría del Medio Ambiente</td>\n",
       "      <td>sma</td>\n",
       "      <td>eje-081</td>\n",
       "      <td>Inspector De Ecología</td>\n",
       "      <td>EV3I5</td>\n",
       "      <td></td>\n",
       "      <td></td>\n",
       "    </tr>\n",
       "  </tbody>\n",
       "</table>\n",
       "</div>"
      ],
      "text/plain": [
       "                         id          fechaCaptura          nombres  \\\n",
       "0  62d3dafab598ee27666c1d4f  2015-11-04T20:37:35Z           FERMIN   \n",
       "1  62d3dafab598ee27666c1d56  2015-11-05T11:01:38Z  MEDARDO ALFREDO   \n",
       "2  6375166e7943e2ab46eb9833  2015-11-05T11:54:34Z       MONICA EVA   \n",
       "3  6375166e7943e2ab46eb9838  2015-11-05T12:01:51Z        JOSE LUIS   \n",
       "4  6375166e7943e2ab46eb983f  2015-11-05T12:04:17Z        VIRIDIANA   \n",
       "\n",
       "  primerApellido segundoApellido  \\\n",
       "0       TRINIDAD        SAN JUAN   \n",
       "1      DOMINGUEZ          TORRES   \n",
       "2       ESQUIVEL          VARGAS   \n",
       "3        RAMIREZ          ARROYO   \n",
       "4       MARTÍNEZ          MENDEZ   \n",
       "\n",
       "                                nivelResponsabilidad  \\\n",
       "0  [{'clave': 'A', 'valor': 'ATENCIÓN'}, {'clave'...   \n",
       "1  [{'clave': 'A', 'valor': 'ATENCIÓN'}, {'clave'...   \n",
       "2              [{'clave': 'A', 'valor': 'ATENCIÓN'}]   \n",
       "3           [{'clave': 'T', 'valor': 'TRAMITACIÓN'}]   \n",
       "4  [{'clave': 'A', 'valor': 'ATENCIÓN'}, {'clave'...   \n",
       "\n",
       "                                   tipoProcedimiento  \\\n",
       "0  [{'clave': 1, 'valor': 'CONTRATACIONES PÚBLICA...   \n",
       "1  [{'clave': 1, 'valor': 'CONTRATACIONES PÚBLICA...   \n",
       "2  [{'clave': 1, 'valor': 'CONTRATACIONES PÚBLICA...   \n",
       "3  [{'clave': 2, 'valor': 'CONCESIONES, LICENCIAS...   \n",
       "4  [{'clave': 2, 'valor': 'CONCESIONES, LICENCIAS...   \n",
       "\n",
       "   institucionDependencia.nombre institucionDependencia.siglas  \\\n",
       "0         Secretaría de Finanzas                      finanzas   \n",
       "1         Secretaría de Finanzas                      finanzas   \n",
       "2  Secretaría del Medio Ambiente                           sma   \n",
       "3  Secretaría del Medio Ambiente                           sma   \n",
       "4  Secretaría del Medio Ambiente                           sma   \n",
       "\n",
       "  institucionDependencia.clave          puesto.nombre puesto.nivel  \\\n",
       "0                      eje-013         Secretaria \"D\"        KZF50   \n",
       "1                      eje-013      Jefe \"A\" Proyecto        BGIQ0   \n",
       "2                      eje-081     Jefe B De Proyecto        354QG   \n",
       "3                      eje-081  Inspector De Ecología        EV3I5   \n",
       "4                      eje-081  Inspector De Ecología        EV3I5   \n",
       "\n",
       "  superiorInmediato.primerApellido superiorInmediato.segundoApellido  \n",
       "0                        CAMPUZANO                           RAMIREZ  \n",
       "1                            RAMOS                              VEGA  \n",
       "2                                                                     \n",
       "3                                                                     \n",
       "4                                                                     "
      ]
     },
     "execution_count": 8,
     "metadata": {},
     "output_type": "execute_result"
    }
   ],
   "source": [
    "data_frames[10].head()"
   ]
  },
  {
   "cell_type": "markdown",
   "id": "8ec521e9",
   "metadata": {},
   "source": [
    "count = 0\n",
    "for frame in data_frames:\n",
    "    print(count)\n",
    "#frame['nivelResponsabilidad'] = frame['nivelResponsabilidad'].apply(lambda col: col[0])\n",
    "#frame['tipoProcedimiento'] = frame['tipoProcedimiento'].apply(lambda col: col[0])\n",
    "    \n",
    "#frame['nivelResponsabilidad'] = frame['nivelResponsabilidad'].apply(lambda col: col['clave'])\n",
    "#frame['tipoProcedimiento'] = frame['tipoProcedimiento'].apply(lambda col: col['clave'])\n",
    "    try:\n",
    "        frame.drop(['id'], axis=1, inplace=True, errors='raise')\n",
    "    except:\n",
    "        print('no id')\n",
    "        pass\n",
    "    try:\n",
    "        frame.drop(['puesto.nivel'], axis=1, inplace=True, errors='raise')\n",
    "    except:\n",
    "        print('no puesto.nivel')\n",
    "        pass\n",
    "    try:\n",
    "        frame.drop(['institucionDependencia.siglas'], axis=1, inplace=True, errors='raise')\n",
    "    except:\n",
    "        print('no institucionDependencia.siglas')\n",
    "        pass\n",
    "    try:\n",
    "        frame.drop(['ramo.clave'], axis=1, inplace=True, errors='raise')\n",
    "    except:\n",
    "        print('no ramo.clave')\n",
    "        pass\n",
    "    try:\n",
    "        frame.drop(['ramo.valor'], axis=1, inplace=True, errors='raise')\n",
    "    except:\n",
    "        print('no ramo.valor')\n",
    "        pass\n",
    "    try:\n",
    "        frame.drop(['tipoArea'], axis=1, inplace=True, errors='raise')\n",
    "    except:\n",
    "        print('no tipoArea')\n",
    "        pass\n",
    "    try:\n",
    "        frame.drop(['superiorInmediato.puesto.nivel'], axis=1, inplace=True, errors='raise')\n",
    "    except:\n",
    "        print('no superiorInmediato.puesto.nivel')\n",
    "        pass\n",
    "    \n",
    "    count += 1\n",
    "    "
   ]
  },
  {
   "cell_type": "code",
   "execution_count": 11,
   "id": "9b1b5341",
   "metadata": {},
   "outputs": [],
   "source": [
    "data_frames2 = []\n",
    "for frame in data_frames:\n",
    "    data_frames2.append(frame[frame.columns.intersection(final_columns)])"
   ]
  },
  {
   "cell_type": "markdown",
   "id": "5c318756",
   "metadata": {},
   "source": [
    "ags0['nivelResponsabilidad'] = ags0['nivelResponsabilidad'].apply(lambda col: col[0])"
   ]
  },
  {
   "cell_type": "markdown",
   "id": "16a65f30",
   "metadata": {},
   "source": [
    "ags0['tipoProcedimiento'] = ags0['tipoProcedimiento'].apply(lambda col: col[0])"
   ]
  },
  {
   "cell_type": "markdown",
   "id": "a80ce922",
   "metadata": {},
   "source": [
    "ags0['nivelResponsabilidad'] = ags0['nivelResponsabilidad'].apply(lambda col: col['clave'])"
   ]
  },
  {
   "cell_type": "markdown",
   "id": "1d382b17",
   "metadata": {},
   "source": [
    "ags0['tipoProcedimiento'] = ags0['tipoProcedimiento'].apply(lambda col: col['clave'])"
   ]
  },
  {
   "cell_type": "code",
   "execution_count": null,
   "id": "ab4e6f0f",
   "metadata": {},
   "outputs": [],
   "source": []
  },
  {
   "cell_type": "code",
   "execution_count": 12,
   "id": "94d16b8c",
   "metadata": {},
   "outputs": [
    {
     "name": "stdout",
     "output_type": "stream",
     "text": [
      "(200, 8)\n",
      "(200, 8)\n",
      "(200, 8)\n",
      "(200, 8)\n",
      "(200, 8)\n",
      "(200, 8)\n",
      "(200, 8)\n",
      "(200, 8)\n",
      "(200, 8)\n",
      "(200, 8)\n",
      "(200, 8)\n",
      "(200, 8)\n",
      "(200, 8)\n",
      "(200, 8)\n",
      "(19, 8)\n",
      "(200, 8)\n",
      "(200, 8)\n",
      "(200, 8)\n"
     ]
    }
   ],
   "source": [
    "for frame in data_frames2:\n",
    "    print(frame.shape)"
   ]
  },
  {
   "cell_type": "code",
   "execution_count": 14,
   "id": "0555e0b6",
   "metadata": {},
   "outputs": [],
   "source": [
    "final = pd.concat([f for f in data_frames2], axis=0)"
   ]
  },
  {
   "cell_type": "code",
   "execution_count": 15,
   "id": "36a4aa73",
   "metadata": {},
   "outputs": [
    {
     "data": {
      "text/plain": [
       "<AxesSubplot: >"
      ]
     },
     "execution_count": 15,
     "metadata": {},
     "output_type": "execute_result"
    },
    {
     "data": {
      "image/png": "[encoded data removed]",
      "text/plain": [
       "<Figure size 2500x1000 with 2 Axes>"
      ]
     },
     "metadata": {},
     "output_type": "display_data"
    }
   ],
   "source": [
    "missingno.matrix(final)"
   ]
  },
  {
   "cell_type": "code",
   "execution_count": 16,
   "id": "4ffe6ffc",
   "metadata": {},
   "outputs": [],
   "source": [
    "final.to_csv('edomex_v1.csv')"
   ]
  },
  {
   "cell_type": "code",
   "execution_count": null,
   "id": "8ad25ab5",
   "metadata": {},
   "outputs": [],
   "source": []
  }
 ],
 "metadata": {
  "kernelspec": {
   "display_name": "Python 3 (ipykernel)",
   "language": "python",
   "name": "python3"
  },
  "language_info": {
   "codemirror_mode": {
    "name": "ipython",
    "version": 3
   },
   "file_extension": ".py",
   "mimetype": "text/x-python",
   "name": "python",
   "nbconvert_exporter": "python",
   "pygments_lexer": "ipython3",
   "version": "3.10.6"
  }
 },
 "nbformat": 4,
 "nbformat_minor": 5
}
