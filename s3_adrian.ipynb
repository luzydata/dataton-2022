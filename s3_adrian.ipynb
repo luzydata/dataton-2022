{
 "cells": [
  {
   "cell_type": "code",
   "execution_count": null,
   "metadata": {
    "colab": {
     "base_uri": "https://localhost:8080/"
    },
    "id": "vsR2a1Xwj1NO",
    "outputId": "b2a459af-2923-45a6-a9c7-0a0ea1c1dd9f"
   },
   "outputs": [
    {
     "name": "stdout",
     "output_type": "stream",
     "text": [
      "Drive already mounted at /content/drive; to attempt to forcibly remount, call drive.mount(\"/content/drive\", force_remount=True).\n"
     ]
    }
   ],
   "source": [
    "from google.colab import drive\n",
    "drive.mount('/content/drive')"
   ]
  },
  {
   "cell_type": "code",
   "execution_count": null,
   "metadata": {
    "id": "HpO7-xopiyW5"
   },
   "outputs": [],
   "source": [
    "import pandas as pd\n",
    "import numpy as np\n",
    "import json \n",
    "import os"
   ]
  },
  {
   "cell_type": "code",
   "execution_count": null,
   "metadata": {
    "id": "_4_uKYUziyXA"
   },
   "outputs": [],
   "source": [
    "def read_all_json(folder_path, state_name):\n",
    "    df = pd.DataFrame()\n",
    "    for file in os.listdir(folder_path):\n",
    "        file_path = f\"{folder_path}/{file}\"\n",
    "        f = open(file_path, encoding=\"utf8\")\n",
    "        data = json.load(f)\n",
    "        df_1 = pd.json_normalize(data, max_level=2)\n",
    "        df_1 = df_1.drop(['documentos'], axis=1, errors='ignore')\n",
    "        df_2 = pd.json_normalize(data, record_path=['tipoSancion'], record_prefix='tipoSancion.')\n",
    "        df_3 = df_1.join(df_2)\n",
    "        df_3['estado'] = state_name\n",
    "        df = pd.concat([df, df_3])\n",
    "    return df"
   ]
  },
  {
   "cell_type": "code",
   "execution_count": null,
   "metadata": {
    "id": "jehxDFJXhdoY"
   },
   "outputs": [],
   "source": [
    "def name_clean(df):\n",
    "  df['servidorPublicoSancionado.nombreCompleto'] = df['servidorPublicoSancionado.nombres'] + ' ' + df['servidorPublicoSancionado.primerApellido'] + ' ' + df['servidorPublicoSancionado.segundoApellido']\n",
    "  df = df.drop(['servidorPublicoSancionado.nombres', 'servidorPublicoSancionado.primerApellido', 'servidorPublicoSancionado.segundoApellido'], axis=1)\n",
    "  df = df.drop(['expediente', 'resolucion.url', 'servidorPublicoSancionado.genero.valor', \n",
    "                        'multa.moneda.valor', 'tipoSancion.valor', 'tipoSancion._id', '__v'], axis=1, errors='ignore')\n",
    "  return df"
   ]
  },
  {
   "cell_type": "code",
   "execution_count": null,
   "metadata": {
    "colab": {
     "base_uri": "https://localhost:8080/",
     "height": 226
    },
    "id": "KQk1PKIwiyXG",
    "outputId": "726454bc-e676-467c-9695-acda6ce289bb"
   },
   "outputs": [
    {
     "data": {
      "text/html": [
       "\n",
       "  <div id=\"df-98fe6a9d-0bf1-487b-b348-fe9e441ec40a\">\n",
       "    <div class=\"colab-df-container\">\n",
       "      <div>\n",
       "<style scoped>\n",
       "    .dataframe tbody tr th:only-of-type {\n",
       "        vertical-align: middle;\n",
       "    }\n",
       "\n",
       "    .dataframe tbody tr th {\n",
       "        vertical-align: top;\n",
       "    }\n",
       "\n",
       "    .dataframe thead th {\n",
       "        text-align: right;\n",
       "    }\n",
       "</style>\n",
       "<table border=\"1\" class=\"dataframe\">\n",
       "  <thead>\n",
       "    <tr style=\"text-align: right;\">\n",
       "      <th></th>\n",
       "      <th>id</th>\n",
       "      <th>fechaCaptura</th>\n",
       "      <th>expediente</th>\n",
       "      <th>autoridadSancionadora</th>\n",
       "      <th>tipoSancion</th>\n",
       "      <th>causaMotivoHechos</th>\n",
       "      <th>institucionDependencia.nombre</th>\n",
       "      <th>institucionDependencia.siglas</th>\n",
       "      <th>institucionDependencia.clave</th>\n",
       "      <th>servidorPublicoSancionado.nombres</th>\n",
       "      <th>...</th>\n",
       "      <th>resolucion.fechaResolucion</th>\n",
       "      <th>multa.monto</th>\n",
       "      <th>multa.moneda.clave</th>\n",
       "      <th>multa.moneda.valor</th>\n",
       "      <th>inhabilitacion.plazo</th>\n",
       "      <th>inhabilitacion.fechaInicial</th>\n",
       "      <th>inhabilitacion.fechaFinal</th>\n",
       "      <th>tipoSancion.clave</th>\n",
       "      <th>tipoSancion.valor</th>\n",
       "      <th>estado</th>\n",
       "    </tr>\n",
       "  </thead>\n",
       "  <tbody>\n",
       "    <tr>\n",
       "      <th>0</th>\n",
       "      <td>b411f02b-5ea7-489e-93e5-9eca24d090f6</td>\n",
       "      <td>2022-05-06T00:00:00Z</td>\n",
       "      <td>CA/012/2022</td>\n",
       "      <td>DATOS NO PROPORCIONADOS</td>\n",
       "      <td>[{'clave': 'I', 'valor': 'INHABILITADO'}]</td>\n",
       "      <td>DATOS NO PROPORCIONADOS</td>\n",
       "      <td>Fiscalia General del Estado</td>\n",
       "      <td>FGE</td>\n",
       "      <td>78</td>\n",
       "      <td>ANDRES</td>\n",
       "      <td>...</td>\n",
       "      <td>2022-01-12</td>\n",
       "      <td>0</td>\n",
       "      <td>MXN</td>\n",
       "      <td>PESO MEXICANO</td>\n",
       "      <td>3 MESES</td>\n",
       "      <td>2022-02-15</td>\n",
       "      <td>2022-05-15</td>\n",
       "      <td>I</td>\n",
       "      <td>INHABILITADO</td>\n",
       "      <td>CHIAPAS</td>\n",
       "    </tr>\n",
       "  </tbody>\n",
       "</table>\n",
       "<p>1 rows × 29 columns</p>\n",
       "</div>\n",
       "      <button class=\"colab-df-convert\" onclick=\"convertToInteractive('df-98fe6a9d-0bf1-487b-b348-fe9e441ec40a')\"\n",
       "              title=\"Convert this dataframe to an interactive table.\"\n",
       "              style=\"display:none;\">\n",
       "        \n",
       "  <svg xmlns=\"http://www.w3.org/2000/svg\" height=\"24px\"viewBox=\"0 0 24 24\"\n",
       "       width=\"24px\">\n",
       "    <path d=\"M0 0h24v24H0V0z\" fill=\"none\"/>\n",
       "    <path d=\"M18.56 5.44l.94 2.06.94-2.06 2.06-.94-2.06-.94-.94-2.06-.94 2.06-2.06.94zm-11 1L8.5 8.5l.94-2.06 2.06-.94-2.06-.94L8.5 2.5l-.94 2.06-2.06.94zm10 10l.94 2.06.94-2.06 2.06-.94-2.06-.94-.94-2.06-.94 2.06-2.06.94z\"/><path d=\"M17.41 7.96l-1.37-1.37c-.4-.4-.92-.59-1.43-.59-.52 0-1.04.2-1.43.59L10.3 9.45l-7.72 7.72c-.78.78-.78 2.05 0 2.83L4 21.41c.39.39.9.59 1.41.59.51 0 1.02-.2 1.41-.59l7.78-7.78 2.81-2.81c.8-.78.8-2.07 0-2.86zM5.41 20L4 18.59l7.72-7.72 1.47 1.35L5.41 20z\"/>\n",
       "  </svg>\n",
       "      </button>\n",
       "      \n",
       "  <style>\n",
       "    .colab-df-container {\n",
       "      display:flex;\n",
       "      flex-wrap:wrap;\n",
       "      gap: 12px;\n",
       "    }\n",
       "\n",
       "    .colab-df-convert {\n",
       "      background-color: #E8F0FE;\n",
       "      border: none;\n",
       "      border-radius: 50%;\n",
       "      cursor: pointer;\n",
       "      display: none;\n",
       "      fill: #1967D2;\n",
       "      height: 32px;\n",
       "      padding: 0 0 0 0;\n",
       "      width: 32px;\n",
       "    }\n",
       "\n",
       "    .colab-df-convert:hover {\n",
       "      background-color: #E2EBFA;\n",
       "      box-shadow: 0px 1px 2px rgba(60, 64, 67, 0.3), 0px 1px 3px 1px rgba(60, 64, 67, 0.15);\n",
       "      fill: #174EA6;\n",
       "    }\n",
       "\n",
       "    [theme=dark] .colab-df-convert {\n",
       "      background-color: #3B4455;\n",
       "      fill: #D2E3FC;\n",
       "    }\n",
       "\n",
       "    [theme=dark] .colab-df-convert:hover {\n",
       "      background-color: #434B5C;\n",
       "      box-shadow: 0px 1px 3px 1px rgba(0, 0, 0, 0.15);\n",
       "      filter: drop-shadow(0px 1px 2px rgba(0, 0, 0, 0.3));\n",
       "      fill: #FFFFFF;\n",
       "    }\n",
       "  </style>\n",
       "\n",
       "      <script>\n",
       "        const buttonEl =\n",
       "          document.querySelector('#df-98fe6a9d-0bf1-487b-b348-fe9e441ec40a button.colab-df-convert');\n",
       "        buttonEl.style.display =\n",
       "          google.colab.kernel.accessAllowed ? 'block' : 'none';\n",
       "\n",
       "        async function convertToInteractive(key) {\n",
       "          const element = document.querySelector('#df-98fe6a9d-0bf1-487b-b348-fe9e441ec40a');\n",
       "          const dataTable =\n",
       "            await google.colab.kernel.invokeFunction('convertToInteractive',\n",
       "                                                     [key], {});\n",
       "          if (!dataTable) return;\n",
       "\n",
       "          const docLinkHtml = 'Like what you see? Visit the ' +\n",
       "            '<a target=\"_blank\" href=https://colab.research.google.com/notebooks/data_table.ipynb>data table notebook</a>'\n",
       "            + ' to learn more about interactive tables.';\n",
       "          element.innerHTML = '';\n",
       "          dataTable['output_type'] = 'display_data';\n",
       "          await google.colab.output.renderOutput(dataTable, element);\n",
       "          const docLink = document.createElement('div');\n",
       "          docLink.innerHTML = docLinkHtml;\n",
       "          element.appendChild(docLink);\n",
       "        }\n",
       "      </script>\n",
       "    </div>\n",
       "  </div>\n",
       "  "
      ],
      "text/plain": [
       "                                     id          fechaCaptura   expediente  \\\n",
       "0  b411f02b-5ea7-489e-93e5-9eca24d090f6  2022-05-06T00:00:00Z  CA/012/2022   \n",
       "\n",
       "     autoridadSancionadora                                tipoSancion  \\\n",
       "0  DATOS NO PROPORCIONADOS  [{'clave': 'I', 'valor': 'INHABILITADO'}]   \n",
       "\n",
       "         causaMotivoHechos institucionDependencia.nombre  \\\n",
       "0  DATOS NO PROPORCIONADOS   Fiscalia General del Estado   \n",
       "\n",
       "  institucionDependencia.siglas institucionDependencia.clave  \\\n",
       "0                           FGE                           78   \n",
       "\n",
       "  servidorPublicoSancionado.nombres  ... resolucion.fechaResolucion  \\\n",
       "0                            ANDRES  ...                 2022-01-12   \n",
       "\n",
       "  multa.monto multa.moneda.clave multa.moneda.valor inhabilitacion.plazo  \\\n",
       "0           0                MXN      PESO MEXICANO              3 MESES   \n",
       "\n",
       "  inhabilitacion.fechaInicial inhabilitacion.fechaFinal tipoSancion.clave  \\\n",
       "0                  2022-02-15                2022-05-15                 I   \n",
       "\n",
       "  tipoSancion.valor   estado  \n",
       "0      INHABILITADO  CHIAPAS  \n",
       "\n",
       "[1 rows x 29 columns]"
      ]
     },
     "execution_count": 5,
     "metadata": {},
     "output_type": "execute_result"
    }
   ],
   "source": [
    "chiapas = read_all_json('/content/drive/MyDrive/Colab Notebooks/dataton_2022/s3s/CHIAPAS', 'CHIAPAS')\n",
    "chiapas.head(1)"
   ]
  },
  {
   "cell_type": "code",
   "execution_count": null,
   "metadata": {
    "colab": {
     "base_uri": "https://localhost:8080/"
    },
    "id": "_Xg2Sz9QdJyn",
    "outputId": "1f215683-ebbe-4832-bcb7-1f6c756343e6"
   },
   "outputs": [
    {
     "data": {
      "text/plain": [
       "Index(['id', 'fechaCaptura', 'expediente', 'autoridadSancionadora',\n",
       "       'tipoSancion', 'causaMotivoHechos', 'institucionDependencia.nombre',\n",
       "       'institucionDependencia.siglas', 'institucionDependencia.clave',\n",
       "       'servidorPublicoSancionado.nombres',\n",
       "       'servidorPublicoSancionado.primerApellido',\n",
       "       'servidorPublicoSancionado.segundoApellido',\n",
       "       'servidorPublicoSancionado.genero.clave',\n",
       "       'servidorPublicoSancionado.genero.valor',\n",
       "       'servidorPublicoSancionado.puesto', 'servidorPublicoSancionado.nivel',\n",
       "       'tipoFalta.clave', 'tipoFalta.valor', 'resolucion.url',\n",
       "       'resolucion.fechaResolucion', 'multa.monto', 'multa.moneda.clave',\n",
       "       'multa.moneda.valor', 'inhabilitacion.plazo',\n",
       "       'inhabilitacion.fechaInicial', 'inhabilitacion.fechaFinal',\n",
       "       'tipoSancion.clave', 'tipoSancion.valor', 'estado'],\n",
       "      dtype='object')"
      ]
     },
     "execution_count": 6,
     "metadata": {},
     "output_type": "execute_result"
    }
   ],
   "source": [
    "chiapas.columns"
   ]
  },
  {
   "cell_type": "code",
   "execution_count": null,
   "metadata": {
    "id": "x_l4t0Fl_3dL"
   },
   "outputs": [],
   "source": [
    "chiapas = name_clean(chiapas)"
   ]
  },
  {
   "cell_type": "code",
   "execution_count": null,
   "metadata": {
    "colab": {
     "base_uri": "https://localhost:8080/"
    },
    "id": "AYgKNOARfGXm",
    "outputId": "39f65df7-d0ce-4683-8db6-97a3526b397c"
   },
   "outputs": [
    {
     "data": {
      "text/plain": [
       "(27, 22)"
      ]
     },
     "execution_count": 8,
     "metadata": {},
     "output_type": "execute_result"
    }
   ],
   "source": [
    "chiapas.shape"
   ]
  },
  {
   "cell_type": "code",
   "execution_count": null,
   "metadata": {
    "colab": {
     "base_uri": "https://localhost:8080/",
     "height": 226
    },
    "id": "18q0EgcPiyXJ",
    "outputId": "a3601519-86f5-4744-e047-4111ae594082"
   },
   "outputs": [
    {
     "data": {
      "text/html": [
       "\n",
       "  <div id=\"df-8bb1dcdb-0b31-481e-b539-877d94d3c4f5\">\n",
       "    <div class=\"colab-df-container\">\n",
       "      <div>\n",
       "<style scoped>\n",
       "    .dataframe tbody tr th:only-of-type {\n",
       "        vertical-align: middle;\n",
       "    }\n",
       "\n",
       "    .dataframe tbody tr th {\n",
       "        vertical-align: top;\n",
       "    }\n",
       "\n",
       "    .dataframe thead th {\n",
       "        text-align: right;\n",
       "    }\n",
       "</style>\n",
       "<table border=\"1\" class=\"dataframe\">\n",
       "  <thead>\n",
       "    <tr style=\"text-align: right;\">\n",
       "      <th></th>\n",
       "      <th>id</th>\n",
       "      <th>fechaCaptura</th>\n",
       "      <th>expediente</th>\n",
       "      <th>autoridadSancionadora</th>\n",
       "      <th>tipoSancion</th>\n",
       "      <th>causaMotivoHechos</th>\n",
       "      <th>institucionDependencia.nombre</th>\n",
       "      <th>institucionDependencia.siglas</th>\n",
       "      <th>servidorPublicoSancionado.genero.clave</th>\n",
       "      <th>servidorPublicoSancionado.genero.valor</th>\n",
       "      <th>...</th>\n",
       "      <th>tipoFalta.valor</th>\n",
       "      <th>resolucion.url</th>\n",
       "      <th>resolucion.fechaResolucion</th>\n",
       "      <th>inhabilitacion.plazo</th>\n",
       "      <th>inhabilitacion.fechaInicial</th>\n",
       "      <th>inhabilitacion.fechaFinal</th>\n",
       "      <th>tipoSancion.clave</th>\n",
       "      <th>tipoSancion.valor</th>\n",
       "      <th>tipoSancion.descripcion</th>\n",
       "      <th>estado</th>\n",
       "    </tr>\n",
       "  </thead>\n",
       "  <tbody>\n",
       "    <tr>\n",
       "      <th>0</th>\n",
       "      <td>616ee08322b3267f3eae7d6a</td>\n",
       "      <td>2021-09-27T00:00:00Z</td>\n",
       "      <td>C.R.LXVIII.P.J.P.03/2021</td>\n",
       "      <td>CONGRESO DEL ESTADO DE DURANGO</td>\n",
       "      <td>[{'clave': 'D', 'valor': 'DESTITUCIÓN', 'descr...</td>\n",
       "      <td>EJERCICIO INDEBIDO DE FUNCIONES PÚBLICAS, INFR...</td>\n",
       "      <td>COMISION DE RESPONSABILIDADES DEL CONGRESO DEL...</td>\n",
       "      <td>CRCED</td>\n",
       "      <td>M</td>\n",
       "      <td>MASCULINO</td>\n",
       "      <td>...</td>\n",
       "      <td>OBSTRUCCIÓN DE LA JUSTICIA</td>\n",
       "      <td>http://congresodurango.gob.mx/Archivos/LXVIII/...</td>\n",
       "      <td>2021-08-14</td>\n",
       "      <td>7 años</td>\n",
       "      <td>2021-08-14</td>\n",
       "      <td>2028-08-14</td>\n",
       "      <td>D</td>\n",
       "      <td>DESTITUCIÓN</td>\n",
       "      <td>DESTITUCIÓN</td>\n",
       "      <td>DURANGO</td>\n",
       "    </tr>\n",
       "  </tbody>\n",
       "</table>\n",
       "<p>1 rows × 25 columns</p>\n",
       "</div>\n",
       "      <button class=\"colab-df-convert\" onclick=\"convertToInteractive('df-8bb1dcdb-0b31-481e-b539-877d94d3c4f5')\"\n",
       "              title=\"Convert this dataframe to an interactive table.\"\n",
       "              style=\"display:none;\">\n",
       "        \n",
       "  <svg xmlns=\"http://www.w3.org/2000/svg\" height=\"24px\"viewBox=\"0 0 24 24\"\n",
       "       width=\"24px\">\n",
       "    <path d=\"M0 0h24v24H0V0z\" fill=\"none\"/>\n",
       "    <path d=\"M18.56 5.44l.94 2.06.94-2.06 2.06-.94-2.06-.94-.94-2.06-.94 2.06-2.06.94zm-11 1L8.5 8.5l.94-2.06 2.06-.94-2.06-.94L8.5 2.5l-.94 2.06-2.06.94zm10 10l.94 2.06.94-2.06 2.06-.94-2.06-.94-.94-2.06-.94 2.06-2.06.94z\"/><path d=\"M17.41 7.96l-1.37-1.37c-.4-.4-.92-.59-1.43-.59-.52 0-1.04.2-1.43.59L10.3 9.45l-7.72 7.72c-.78.78-.78 2.05 0 2.83L4 21.41c.39.39.9.59 1.41.59.51 0 1.02-.2 1.41-.59l7.78-7.78 2.81-2.81c.8-.78.8-2.07 0-2.86zM5.41 20L4 18.59l7.72-7.72 1.47 1.35L5.41 20z\"/>\n",
       "  </svg>\n",
       "      </button>\n",
       "      \n",
       "  <style>\n",
       "    .colab-df-container {\n",
       "      display:flex;\n",
       "      flex-wrap:wrap;\n",
       "      gap: 12px;\n",
       "    }\n",
       "\n",
       "    .colab-df-convert {\n",
       "      background-color: #E8F0FE;\n",
       "      border: none;\n",
       "      border-radius: 50%;\n",
       "      cursor: pointer;\n",
       "      display: none;\n",
       "      fill: #1967D2;\n",
       "      height: 32px;\n",
       "      padding: 0 0 0 0;\n",
       "      width: 32px;\n",
       "    }\n",
       "\n",
       "    .colab-df-convert:hover {\n",
       "      background-color: #E2EBFA;\n",
       "      box-shadow: 0px 1px 2px rgba(60, 64, 67, 0.3), 0px 1px 3px 1px rgba(60, 64, 67, 0.15);\n",
       "      fill: #174EA6;\n",
       "    }\n",
       "\n",
       "    [theme=dark] .colab-df-convert {\n",
       "      background-color: #3B4455;\n",
       "      fill: #D2E3FC;\n",
       "    }\n",
       "\n",
       "    [theme=dark] .colab-df-convert:hover {\n",
       "      background-color: #434B5C;\n",
       "      box-shadow: 0px 1px 3px 1px rgba(0, 0, 0, 0.15);\n",
       "      filter: drop-shadow(0px 1px 2px rgba(0, 0, 0, 0.3));\n",
       "      fill: #FFFFFF;\n",
       "    }\n",
       "  </style>\n",
       "\n",
       "      <script>\n",
       "        const buttonEl =\n",
       "          document.querySelector('#df-8bb1dcdb-0b31-481e-b539-877d94d3c4f5 button.colab-df-convert');\n",
       "        buttonEl.style.display =\n",
       "          google.colab.kernel.accessAllowed ? 'block' : 'none';\n",
       "\n",
       "        async function convertToInteractive(key) {\n",
       "          const element = document.querySelector('#df-8bb1dcdb-0b31-481e-b539-877d94d3c4f5');\n",
       "          const dataTable =\n",
       "            await google.colab.kernel.invokeFunction('convertToInteractive',\n",
       "                                                     [key], {});\n",
       "          if (!dataTable) return;\n",
       "\n",
       "          const docLinkHtml = 'Like what you see? Visit the ' +\n",
       "            '<a target=\"_blank\" href=https://colab.research.google.com/notebooks/data_table.ipynb>data table notebook</a>'\n",
       "            + ' to learn more about interactive tables.';\n",
       "          element.innerHTML = '';\n",
       "          dataTable['output_type'] = 'display_data';\n",
       "          await google.colab.output.renderOutput(dataTable, element);\n",
       "          const docLink = document.createElement('div');\n",
       "          docLink.innerHTML = docLinkHtml;\n",
       "          element.appendChild(docLink);\n",
       "        }\n",
       "      </script>\n",
       "    </div>\n",
       "  </div>\n",
       "  "
      ],
      "text/plain": [
       "                         id          fechaCaptura                expediente  \\\n",
       "0  616ee08322b3267f3eae7d6a  2021-09-27T00:00:00Z  C.R.LXVIII.P.J.P.03/2021   \n",
       "\n",
       "            autoridadSancionadora  \\\n",
       "0  CONGRESO DEL ESTADO DE DURANGO   \n",
       "\n",
       "                                         tipoSancion  \\\n",
       "0  [{'clave': 'D', 'valor': 'DESTITUCIÓN', 'descr...   \n",
       "\n",
       "                                   causaMotivoHechos  \\\n",
       "0  EJERCICIO INDEBIDO DE FUNCIONES PÚBLICAS, INFR...   \n",
       "\n",
       "                       institucionDependencia.nombre  \\\n",
       "0  COMISION DE RESPONSABILIDADES DEL CONGRESO DEL...   \n",
       "\n",
       "  institucionDependencia.siglas servidorPublicoSancionado.genero.clave  \\\n",
       "0                         CRCED                                      M   \n",
       "\n",
       "  servidorPublicoSancionado.genero.valor  ...             tipoFalta.valor  \\\n",
       "0                              MASCULINO  ...  OBSTRUCCIÓN DE LA JUSTICIA   \n",
       "\n",
       "                                      resolucion.url  \\\n",
       "0  http://congresodurango.gob.mx/Archivos/LXVIII/...   \n",
       "\n",
       "  resolucion.fechaResolucion inhabilitacion.plazo inhabilitacion.fechaInicial  \\\n",
       "0                 2021-08-14               7 años                  2021-08-14   \n",
       "\n",
       "  inhabilitacion.fechaFinal tipoSancion.clave tipoSancion.valor  \\\n",
       "0                2028-08-14                 D       DESTITUCIÓN   \n",
       "\n",
       "  tipoSancion.descripcion   estado  \n",
       "0             DESTITUCIÓN  DURANGO  \n",
       "\n",
       "[1 rows x 25 columns]"
      ]
     },
     "execution_count": 9,
     "metadata": {},
     "output_type": "execute_result"
    }
   ],
   "source": [
    "durango = read_all_json('/content/drive/MyDrive/Colab Notebooks/dataton_2022/s3s/DURANGO', 'DURANGO')\n",
    "durango.head(1)"
   ]
  },
  {
   "cell_type": "code",
   "execution_count": null,
   "metadata": {
    "colab": {
     "base_uri": "https://localhost:8080/"
    },
    "id": "71W-ZVEBhNcG",
    "outputId": "99c5f622-5c8f-4365-eccc-5606a886321c"
   },
   "outputs": [
    {
     "data": {
      "text/plain": [
       "Index(['id', 'fechaCaptura', 'expediente', 'autoridadSancionadora',\n",
       "       'tipoSancion', 'causaMotivoHechos', 'institucionDependencia.nombre',\n",
       "       'institucionDependencia.siglas',\n",
       "       'servidorPublicoSancionado.genero.clave',\n",
       "       'servidorPublicoSancionado.genero.valor',\n",
       "       'servidorPublicoSancionado.nombres',\n",
       "       'servidorPublicoSancionado.primerApellido',\n",
       "       'servidorPublicoSancionado.segundoApellido',\n",
       "       'servidorPublicoSancionado.puesto', 'tipoFalta.clave',\n",
       "       'tipoFalta.valor', 'resolucion.url', 'resolucion.fechaResolucion',\n",
       "       'inhabilitacion.plazo', 'inhabilitacion.fechaInicial',\n",
       "       'inhabilitacion.fechaFinal', 'tipoSancion.clave', 'tipoSancion.valor',\n",
       "       'tipoSancion.descripcion', 'estado'],\n",
       "      dtype='object')"
      ]
     },
     "execution_count": 10,
     "metadata": {},
     "output_type": "execute_result"
    }
   ],
   "source": [
    "durango.columns"
   ]
  },
  {
   "cell_type": "code",
   "execution_count": null,
   "metadata": {
    "id": "z2unOvBBhRHt"
   },
   "outputs": [],
   "source": [
    "durango = name_clean(durango)"
   ]
  },
  {
   "cell_type": "code",
   "execution_count": null,
   "metadata": {
    "colab": {
     "base_uri": "https://localhost:8080/"
    },
    "id": "AUHEO_aki9wL",
    "outputId": "fa9b989f-2eae-479d-d783-6347a1ae057a"
   },
   "outputs": [
    {
     "data": {
      "text/plain": [
       "(1, 19)"
      ]
     },
     "execution_count": 12,
     "metadata": {},
     "output_type": "execute_result"
    }
   ],
   "source": [
    "durango.shape"
   ]
  },
  {
   "cell_type": "code",
   "execution_count": null,
   "metadata": {
    "colab": {
     "base_uri": "https://localhost:8080/",
     "height": 244
    },
    "id": "NPf4CBBQiyXL",
    "outputId": "5b83fda9-ee29-4ba2-d1e4-2e133db972cd"
   },
   "outputs": [
    {
     "data": {
      "text/html": [
       "\n",
       "  <div id=\"df-bc8b4c30-4ca1-4041-98c1-8c5fd7730fe9\">\n",
       "    <div class=\"colab-df-container\">\n",
       "      <div>\n",
       "<style scoped>\n",
       "    .dataframe tbody tr th:only-of-type {\n",
       "        vertical-align: middle;\n",
       "    }\n",
       "\n",
       "    .dataframe tbody tr th {\n",
       "        vertical-align: top;\n",
       "    }\n",
       "\n",
       "    .dataframe thead th {\n",
       "        text-align: right;\n",
       "    }\n",
       "</style>\n",
       "<table border=\"1\" class=\"dataframe\">\n",
       "  <thead>\n",
       "    <tr style=\"text-align: right;\">\n",
       "      <th></th>\n",
       "      <th>id</th>\n",
       "      <th>fechaCaptura</th>\n",
       "      <th>expediente</th>\n",
       "      <th>autoridadSancionadora</th>\n",
       "      <th>tipoSancion</th>\n",
       "      <th>causaMotivoHechos</th>\n",
       "      <th>observaciones</th>\n",
       "      <th>institucionDependencia.nombre</th>\n",
       "      <th>institucionDependencia.siglas</th>\n",
       "      <th>institucionDependencia.clave</th>\n",
       "      <th>...</th>\n",
       "      <th>multa.monto</th>\n",
       "      <th>multa.moneda.clave</th>\n",
       "      <th>multa.moneda.valor</th>\n",
       "      <th>inhabilitacion.plazo</th>\n",
       "      <th>inhabilitacion.fechaInicial</th>\n",
       "      <th>inhabilitacion.fechaFinal</th>\n",
       "      <th>tipoSancion.clave</th>\n",
       "      <th>tipoSancion.valor</th>\n",
       "      <th>tipoSancion.descripcion</th>\n",
       "      <th>estado</th>\n",
       "    </tr>\n",
       "  </thead>\n",
       "  <tbody>\n",
       "    <tr>\n",
       "      <th>0</th>\n",
       "      <td>62b5d493a069d2c71acd3b7e</td>\n",
       "      <td>2020-11-09T10:19:56Z</td>\n",
       "      <td>10/2019</td>\n",
       "      <td>NOVENA SALA ESPECIALIZADA EN MATERIA DE RESPON...</td>\n",
       "      <td>[{'clave': 'I', 'valor': 'INHABILITADO', 'desc...</td>\n",
       "      <td>COHECHO,</td>\n",
       "      <td>EMPLEO, CARGO O COMISIÓN AL MOMENTO DE LA REAL...</td>\n",
       "      <td>FISCALÍA GENERAL DE JUSTICIA DEL ESTADO DE MÉXICO</td>\n",
       "      <td>FGJEM</td>\n",
       "      <td>oau-002</td>\n",
       "      <td>...</td>\n",
       "      <td>0.0</td>\n",
       "      <td>MXN</td>\n",
       "      <td>PESO MEXICANO</td>\n",
       "      <td>0 día(s) 4 mes(es) 4 año(s)</td>\n",
       "      <td>NaN</td>\n",
       "      <td>NaN</td>\n",
       "      <td>I</td>\n",
       "      <td>INHABILITADO</td>\n",
       "      <td>INHABILITADO</td>\n",
       "      <td>EDOMEX</td>\n",
       "    </tr>\n",
       "  </tbody>\n",
       "</table>\n",
       "<p>1 rows × 31 columns</p>\n",
       "</div>\n",
       "      <button class=\"colab-df-convert\" onclick=\"convertToInteractive('df-bc8b4c30-4ca1-4041-98c1-8c5fd7730fe9')\"\n",
       "              title=\"Convert this dataframe to an interactive table.\"\n",
       "              style=\"display:none;\">\n",
       "        \n",
       "  <svg xmlns=\"http://www.w3.org/2000/svg\" height=\"24px\"viewBox=\"0 0 24 24\"\n",
       "       width=\"24px\">\n",
       "    <path d=\"M0 0h24v24H0V0z\" fill=\"none\"/>\n",
       "    <path d=\"M18.56 5.44l.94 2.06.94-2.06 2.06-.94-2.06-.94-.94-2.06-.94 2.06-2.06.94zm-11 1L8.5 8.5l.94-2.06 2.06-.94-2.06-.94L8.5 2.5l-.94 2.06-2.06.94zm10 10l.94 2.06.94-2.06 2.06-.94-2.06-.94-.94-2.06-.94 2.06-2.06.94z\"/><path d=\"M17.41 7.96l-1.37-1.37c-.4-.4-.92-.59-1.43-.59-.52 0-1.04.2-1.43.59L10.3 9.45l-7.72 7.72c-.78.78-.78 2.05 0 2.83L4 21.41c.39.39.9.59 1.41.59.51 0 1.02-.2 1.41-.59l7.78-7.78 2.81-2.81c.8-.78.8-2.07 0-2.86zM5.41 20L4 18.59l7.72-7.72 1.47 1.35L5.41 20z\"/>\n",
       "  </svg>\n",
       "      </button>\n",
       "      \n",
       "  <style>\n",
       "    .colab-df-container {\n",
       "      display:flex;\n",
       "      flex-wrap:wrap;\n",
       "      gap: 12px;\n",
       "    }\n",
       "\n",
       "    .colab-df-convert {\n",
       "      background-color: #E8F0FE;\n",
       "      border: none;\n",
       "      border-radius: 50%;\n",
       "      cursor: pointer;\n",
       "      display: none;\n",
       "      fill: #1967D2;\n",
       "      height: 32px;\n",
       "      padding: 0 0 0 0;\n",
       "      width: 32px;\n",
       "    }\n",
       "\n",
       "    .colab-df-convert:hover {\n",
       "      background-color: #E2EBFA;\n",
       "      box-shadow: 0px 1px 2px rgba(60, 64, 67, 0.3), 0px 1px 3px 1px rgba(60, 64, 67, 0.15);\n",
       "      fill: #174EA6;\n",
       "    }\n",
       "\n",
       "    [theme=dark] .colab-df-convert {\n",
       "      background-color: #3B4455;\n",
       "      fill: #D2E3FC;\n",
       "    }\n",
       "\n",
       "    [theme=dark] .colab-df-convert:hover {\n",
       "      background-color: #434B5C;\n",
       "      box-shadow: 0px 1px 3px 1px rgba(0, 0, 0, 0.15);\n",
       "      filter: drop-shadow(0px 1px 2px rgba(0, 0, 0, 0.3));\n",
       "      fill: #FFFFFF;\n",
       "    }\n",
       "  </style>\n",
       "\n",
       "      <script>\n",
       "        const buttonEl =\n",
       "          document.querySelector('#df-bc8b4c30-4ca1-4041-98c1-8c5fd7730fe9 button.colab-df-convert');\n",
       "        buttonEl.style.display =\n",
       "          google.colab.kernel.accessAllowed ? 'block' : 'none';\n",
       "\n",
       "        async function convertToInteractive(key) {\n",
       "          const element = document.querySelector('#df-bc8b4c30-4ca1-4041-98c1-8c5fd7730fe9');\n",
       "          const dataTable =\n",
       "            await google.colab.kernel.invokeFunction('convertToInteractive',\n",
       "                                                     [key], {});\n",
       "          if (!dataTable) return;\n",
       "\n",
       "          const docLinkHtml = 'Like what you see? Visit the ' +\n",
       "            '<a target=\"_blank\" href=https://colab.research.google.com/notebooks/data_table.ipynb>data table notebook</a>'\n",
       "            + ' to learn more about interactive tables.';\n",
       "          element.innerHTML = '';\n",
       "          dataTable['output_type'] = 'display_data';\n",
       "          await google.colab.output.renderOutput(dataTable, element);\n",
       "          const docLink = document.createElement('div');\n",
       "          docLink.innerHTML = docLinkHtml;\n",
       "          element.appendChild(docLink);\n",
       "        }\n",
       "      </script>\n",
       "    </div>\n",
       "  </div>\n",
       "  "
      ],
      "text/plain": [
       "                         id          fechaCaptura expediente  \\\n",
       "0  62b5d493a069d2c71acd3b7e  2020-11-09T10:19:56Z    10/2019   \n",
       "\n",
       "                               autoridadSancionadora  \\\n",
       "0  NOVENA SALA ESPECIALIZADA EN MATERIA DE RESPON...   \n",
       "\n",
       "                                         tipoSancion causaMotivoHechos  \\\n",
       "0  [{'clave': 'I', 'valor': 'INHABILITADO', 'desc...         COHECHO,    \n",
       "\n",
       "                                       observaciones  \\\n",
       "0  EMPLEO, CARGO O COMISIÓN AL MOMENTO DE LA REAL...   \n",
       "\n",
       "                       institucionDependencia.nombre  \\\n",
       "0  FISCALÍA GENERAL DE JUSTICIA DEL ESTADO DE MÉXICO   \n",
       "\n",
       "  institucionDependencia.siglas institucionDependencia.clave  ... multa.monto  \\\n",
       "0                         FGJEM                      oau-002  ...         0.0   \n",
       "\n",
       "  multa.moneda.clave multa.moneda.valor         inhabilitacion.plazo  \\\n",
       "0                MXN      PESO MEXICANO  0 día(s) 4 mes(es) 4 año(s)   \n",
       "\n",
       "  inhabilitacion.fechaInicial inhabilitacion.fechaFinal tipoSancion.clave  \\\n",
       "0                         NaN                       NaN                 I   \n",
       "\n",
       "  tipoSancion.valor tipoSancion.descripcion  estado  \n",
       "0      INHABILITADO            INHABILITADO  EDOMEX  \n",
       "\n",
       "[1 rows x 31 columns]"
      ]
     },
     "execution_count": 13,
     "metadata": {},
     "output_type": "execute_result"
    }
   ],
   "source": [
    "edomex = read_all_json('/content/drive/MyDrive/Colab Notebooks/dataton_2022/s3s/EDOMEX', 'EDOMEX')\n",
    "edomex.head(1)"
   ]
  },
  {
   "cell_type": "code",
   "execution_count": null,
   "metadata": {
    "colab": {
     "base_uri": "https://localhost:8080/"
    },
    "id": "h9c_h6oyjFCR",
    "outputId": "b95865db-6bfb-4d6c-95f4-7c376e5f8d47"
   },
   "outputs": [
    {
     "data": {
      "text/plain": [
       "Index(['id', 'fechaCaptura', 'expediente', 'autoridadSancionadora',\n",
       "       'tipoSancion', 'causaMotivoHechos', 'observaciones',\n",
       "       'institucionDependencia.nombre', 'institucionDependencia.siglas',\n",
       "       'institucionDependencia.clave', 'servidorPublicoSancionado.nombres',\n",
       "       'servidorPublicoSancionado.primerApellido',\n",
       "       'servidorPublicoSancionado.segundoApellido',\n",
       "       'servidorPublicoSancionado.genero.clave',\n",
       "       'servidorPublicoSancionado.genero.valor',\n",
       "       'servidorPublicoSancionado.puesto', 'tipoFalta.clave',\n",
       "       'tipoFalta.valor', 'tipoFalta.descripcion', 'resolucion.url',\n",
       "       'resolucion.fechaResolucion', 'multa.monto', 'multa.moneda.clave',\n",
       "       'multa.moneda.valor', 'inhabilitacion.plazo',\n",
       "       'inhabilitacion.fechaInicial', 'inhabilitacion.fechaFinal',\n",
       "       'tipoSancion.clave', 'tipoSancion.valor', 'tipoSancion.descripcion',\n",
       "       'estado'],\n",
       "      dtype='object')"
      ]
     },
     "execution_count": 14,
     "metadata": {},
     "output_type": "execute_result"
    }
   ],
   "source": [
    "edomex.columns"
   ]
  },
  {
   "cell_type": "code",
   "execution_count": null,
   "metadata": {
    "id": "qHLE-b5VjIAd"
   },
   "outputs": [],
   "source": [
    "edomex = name_clean(edomex)"
   ]
  },
  {
   "cell_type": "code",
   "execution_count": null,
   "metadata": {
    "colab": {
     "base_uri": "https://localhost:8080/"
    },
    "id": "LZHmmAf5jbGG",
    "outputId": "08adc791-a353-4bf1-d14f-3c101ae76713"
   },
   "outputs": [
    {
     "data": {
      "text/plain": [
       "(96, 24)"
      ]
     },
     "execution_count": 16,
     "metadata": {},
     "output_type": "execute_result"
    }
   ],
   "source": [
    "edomex.shape"
   ]
  },
  {
   "cell_type": "code",
   "execution_count": null,
   "metadata": {
    "colab": {
     "base_uri": "https://localhost:8080/",
     "height": 226
    },
    "id": "Js_5dzrbmOqL",
    "outputId": "ccfe3287-5a65-4f37-9d5c-27a737c8fe85"
   },
   "outputs": [
    {
     "data": {
      "text/html": [
       "\n",
       "  <div id=\"df-0ed81cc2-8cfe-4107-8a97-1a8a8bd8f2f6\">\n",
       "    <div class=\"colab-df-container\">\n",
       "      <div>\n",
       "<style scoped>\n",
       "    .dataframe tbody tr th:only-of-type {\n",
       "        vertical-align: middle;\n",
       "    }\n",
       "\n",
       "    .dataframe tbody tr th {\n",
       "        vertical-align: top;\n",
       "    }\n",
       "\n",
       "    .dataframe thead th {\n",
       "        text-align: right;\n",
       "    }\n",
       "</style>\n",
       "<table border=\"1\" class=\"dataframe\">\n",
       "  <thead>\n",
       "    <tr style=\"text-align: right;\">\n",
       "      <th></th>\n",
       "      <th>id</th>\n",
       "      <th>fechaCaptura</th>\n",
       "      <th>expediente</th>\n",
       "      <th>objetoContrato</th>\n",
       "      <th>autoridadSancionadora</th>\n",
       "      <th>tipoFalta</th>\n",
       "      <th>tipoSancion</th>\n",
       "      <th>causaMotivoHechos</th>\n",
       "      <th>acto</th>\n",
       "      <th>observaciones</th>\n",
       "      <th>...</th>\n",
       "      <th>resolucion.sentido</th>\n",
       "      <th>resolucion.url</th>\n",
       "      <th>multa.monto</th>\n",
       "      <th>multa.moneda.clave</th>\n",
       "      <th>multa.moneda.valor</th>\n",
       "      <th>inhabilitacion.plazo</th>\n",
       "      <th>tipoSancion.clave</th>\n",
       "      <th>tipoSancion.valor</th>\n",
       "      <th>tipoSancion.descripcion</th>\n",
       "      <th>estado</th>\n",
       "    </tr>\n",
       "  </thead>\n",
       "  <tbody>\n",
       "    <tr>\n",
       "      <th>0</th>\n",
       "      <td>622799f073ed865c36ba7cd5</td>\n",
       "      <td>2020-11-09T11:30:55Z</td>\n",
       "      <td>07/2018</td>\n",
       "      <td></td>\n",
       "      <td>OCTAVA SALA ESPECIALIZADA EN MATERIA DE RESPON...</td>\n",
       "      <td>ADMINISTRATIVA GRAVE</td>\n",
       "      <td>[{'clave': 'SE', 'valor': 'SANCIÓN ECONÓMICA',...</td>\n",
       "      <td>UTILIZACIÓN DE INFORMACIÓN FALSA,</td>\n",
       "      <td></td>\n",
       "      <td></td>\n",
       "      <td>...</td>\n",
       "      <td></td>\n",
       "      <td>https://trijaem.gob.mx/sentencias</td>\n",
       "      <td>7549.0</td>\n",
       "      <td>MXN</td>\n",
       "      <td>Peso Mexicano</td>\n",
       "      <td>NaN</td>\n",
       "      <td>SE</td>\n",
       "      <td>SANCIÓN ECONÓMICA</td>\n",
       "      <td>SANCIÓN ECONÓMICA</td>\n",
       "      <td>EDOMEX</td>\n",
       "    </tr>\n",
       "  </tbody>\n",
       "</table>\n",
       "<p>1 rows × 29 columns</p>\n",
       "</div>\n",
       "      <button class=\"colab-df-convert\" onclick=\"convertToInteractive('df-0ed81cc2-8cfe-4107-8a97-1a8a8bd8f2f6')\"\n",
       "              title=\"Convert this dataframe to an interactive table.\"\n",
       "              style=\"display:none;\">\n",
       "        \n",
       "  <svg xmlns=\"http://www.w3.org/2000/svg\" height=\"24px\"viewBox=\"0 0 24 24\"\n",
       "       width=\"24px\">\n",
       "    <path d=\"M0 0h24v24H0V0z\" fill=\"none\"/>\n",
       "    <path d=\"M18.56 5.44l.94 2.06.94-2.06 2.06-.94-2.06-.94-.94-2.06-.94 2.06-2.06.94zm-11 1L8.5 8.5l.94-2.06 2.06-.94-2.06-.94L8.5 2.5l-.94 2.06-2.06.94zm10 10l.94 2.06.94-2.06 2.06-.94-2.06-.94-.94-2.06-.94 2.06-2.06.94z\"/><path d=\"M17.41 7.96l-1.37-1.37c-.4-.4-.92-.59-1.43-.59-.52 0-1.04.2-1.43.59L10.3 9.45l-7.72 7.72c-.78.78-.78 2.05 0 2.83L4 21.41c.39.39.9.59 1.41.59.51 0 1.02-.2 1.41-.59l7.78-7.78 2.81-2.81c.8-.78.8-2.07 0-2.86zM5.41 20L4 18.59l7.72-7.72 1.47 1.35L5.41 20z\"/>\n",
       "  </svg>\n",
       "      </button>\n",
       "      \n",
       "  <style>\n",
       "    .colab-df-container {\n",
       "      display:flex;\n",
       "      flex-wrap:wrap;\n",
       "      gap: 12px;\n",
       "    }\n",
       "\n",
       "    .colab-df-convert {\n",
       "      background-color: #E8F0FE;\n",
       "      border: none;\n",
       "      border-radius: 50%;\n",
       "      cursor: pointer;\n",
       "      display: none;\n",
       "      fill: #1967D2;\n",
       "      height: 32px;\n",
       "      padding: 0 0 0 0;\n",
       "      width: 32px;\n",
       "    }\n",
       "\n",
       "    .colab-df-convert:hover {\n",
       "      background-color: #E2EBFA;\n",
       "      box-shadow: 0px 1px 2px rgba(60, 64, 67, 0.3), 0px 1px 3px 1px rgba(60, 64, 67, 0.15);\n",
       "      fill: #174EA6;\n",
       "    }\n",
       "\n",
       "    [theme=dark] .colab-df-convert {\n",
       "      background-color: #3B4455;\n",
       "      fill: #D2E3FC;\n",
       "    }\n",
       "\n",
       "    [theme=dark] .colab-df-convert:hover {\n",
       "      background-color: #434B5C;\n",
       "      box-shadow: 0px 1px 3px 1px rgba(0, 0, 0, 0.15);\n",
       "      filter: drop-shadow(0px 1px 2px rgba(0, 0, 0, 0.3));\n",
       "      fill: #FFFFFF;\n",
       "    }\n",
       "  </style>\n",
       "\n",
       "      <script>\n",
       "        const buttonEl =\n",
       "          document.querySelector('#df-0ed81cc2-8cfe-4107-8a97-1a8a8bd8f2f6 button.colab-df-convert');\n",
       "        buttonEl.style.display =\n",
       "          google.colab.kernel.accessAllowed ? 'block' : 'none';\n",
       "\n",
       "        async function convertToInteractive(key) {\n",
       "          const element = document.querySelector('#df-0ed81cc2-8cfe-4107-8a97-1a8a8bd8f2f6');\n",
       "          const dataTable =\n",
       "            await google.colab.kernel.invokeFunction('convertToInteractive',\n",
       "                                                     [key], {});\n",
       "          if (!dataTable) return;\n",
       "\n",
       "          const docLinkHtml = 'Like what you see? Visit the ' +\n",
       "            '<a target=\"_blank\" href=https://colab.research.google.com/notebooks/data_table.ipynb>data table notebook</a>'\n",
       "            + ' to learn more about interactive tables.';\n",
       "          element.innerHTML = '';\n",
       "          dataTable['output_type'] = 'display_data';\n",
       "          await google.colab.output.renderOutput(dataTable, element);\n",
       "          const docLink = document.createElement('div');\n",
       "          docLink.innerHTML = docLinkHtml;\n",
       "          element.appendChild(docLink);\n",
       "        }\n",
       "      </script>\n",
       "    </div>\n",
       "  </div>\n",
       "  "
      ],
      "text/plain": [
       "                         id          fechaCaptura expediente objetoContrato  \\\n",
       "0  622799f073ed865c36ba7cd5  2020-11-09T11:30:55Z    07/2018                  \n",
       "\n",
       "                               autoridadSancionadora             tipoFalta  \\\n",
       "0  OCTAVA SALA ESPECIALIZADA EN MATERIA DE RESPON...  ADMINISTRATIVA GRAVE   \n",
       "\n",
       "                                         tipoSancion  \\\n",
       "0  [{'clave': 'SE', 'valor': 'SANCIÓN ECONÓMICA',...   \n",
       "\n",
       "                    causaMotivoHechos acto observaciones  ...  \\\n",
       "0  UTILIZACIÓN DE INFORMACIÓN FALSA,                      ...   \n",
       "\n",
       "  resolucion.sentido                     resolucion.url multa.monto  \\\n",
       "0                     https://trijaem.gob.mx/sentencias      7549.0   \n",
       "\n",
       "  multa.moneda.clave multa.moneda.valor inhabilitacion.plazo  \\\n",
       "0                MXN      Peso Mexicano                  NaN   \n",
       "\n",
       "  tipoSancion.clave  tipoSancion.valor tipoSancion.descripcion  estado  \n",
       "0                SE  SANCIÓN ECONÓMICA       SANCIÓN ECONÓMICA  EDOMEX  \n",
       "\n",
       "[1 rows x 29 columns]"
      ]
     },
     "execution_count": 17,
     "metadata": {},
     "output_type": "execute_result"
    }
   ],
   "source": [
    "edomex_2 = read_all_json('/content/drive/MyDrive/Colab Notebooks/dataton_2022/s3p/EDOMEX', 'EDOMEX')\n",
    "edomex_2.head(1)"
   ]
  },
  {
   "cell_type": "code",
   "execution_count": null,
   "metadata": {
    "colab": {
     "base_uri": "https://localhost:8080/"
    },
    "id": "jNxZozdbj_Zq",
    "outputId": "62a5feaf-384e-4a10-d0e5-e8cb4a3264f9"
   },
   "outputs": [
    {
     "data": {
      "text/plain": [
       "Index(['id', 'fechaCaptura', 'expediente', 'objetoContrato',\n",
       "       'autoridadSancionadora', 'tipoFalta', 'tipoSancion',\n",
       "       'causaMotivoHechos', 'acto', 'observaciones',\n",
       "       'institucionDependencia.nombre', 'institucionDependencia.siglas',\n",
       "       'institucionDependencia.clave',\n",
       "       'particularSancionado.nombreRazonSocial',\n",
       "       'particularSancionado.objetoSocial', 'particularSancionado.tipoPersona',\n",
       "       'responsableSancion.nombres', 'responsableSancion.primerApellido',\n",
       "       'responsableSancion.segundoApellido', 'resolucion.sentido',\n",
       "       'resolucion.url', 'multa.monto', 'multa.moneda.clave',\n",
       "       'multa.moneda.valor', 'inhabilitacion.plazo', 'tipoSancion.clave',\n",
       "       'tipoSancion.valor', 'tipoSancion.descripcion', 'estado'],\n",
       "      dtype='object')"
      ]
     },
     "execution_count": 18,
     "metadata": {},
     "output_type": "execute_result"
    }
   ],
   "source": [
    "edomex_2.columns"
   ]
  },
  {
   "cell_type": "code",
   "execution_count": null,
   "metadata": {
    "id": "fDKtpsmWkDru"
   },
   "outputs": [],
   "source": [
    "edomex_2 = edomex_2.drop(['expediente', 'resolucion.url', 'servidorPublicoSancionado.genero.valor', \n",
    "                        'multa.moneda.valor', 'tipoSancion.valor'], axis=1, errors='ignore')"
   ]
  },
  {
   "cell_type": "code",
   "execution_count": null,
   "metadata": {
    "id": "ouXwMAefmpXN"
   },
   "outputs": [],
   "source": [
    "edomex_2.rename(columns={'particularSancionado.nombreRazonSocial': 'servidorPublicoSancionado.nombreCompleto'}, inplace=True)"
   ]
  },
  {
   "cell_type": "code",
   "execution_count": null,
   "metadata": {
    "id": "WXKenUMwnLsh"
   },
   "outputs": [],
   "source": [
    "edomex_2 = edomex_2.drop(['particularSancionado.objetoSocial', 'particularSancionado.tipoPersona', \n",
    "                          'responsableSancion.nombres', 'responsableSancion.primerApellido',\n",
    "                        'responsableSancion.segundoApellido', 'resolucion.sentido'], axis=1, errors='ignore')"
   ]
  },
  {
   "cell_type": "code",
   "execution_count": null,
   "metadata": {
    "colab": {
     "base_uri": "https://localhost:8080/"
    },
    "id": "_KT8yxB8mmVa",
    "outputId": "b95b3fdc-f26a-43f0-943a-22e4233a51d6"
   },
   "outputs": [
    {
     "data": {
      "text/plain": [
       "(4, 19)"
      ]
     },
     "execution_count": 22,
     "metadata": {},
     "output_type": "execute_result"
    }
   ],
   "source": [
    "edomex_2.shape"
   ]
  },
  {
   "cell_type": "code",
   "execution_count": null,
   "metadata": {
    "colab": {
     "base_uri": "https://localhost:8080/",
     "height": 209
    },
    "id": "wKSBe0iGiyXO",
    "outputId": "35ad9b0b-282f-4310-f755-d8cd62ca29c7"
   },
   "outputs": [
    {
     "data": {
      "text/html": [
       "\n",
       "  <div id=\"df-ecc489ed-04f4-4f23-83d4-0c3c5bf4e766\">\n",
       "    <div class=\"colab-df-container\">\n",
       "      <div>\n",
       "<style scoped>\n",
       "    .dataframe tbody tr th:only-of-type {\n",
       "        vertical-align: middle;\n",
       "    }\n",
       "\n",
       "    .dataframe tbody tr th {\n",
       "        vertical-align: top;\n",
       "    }\n",
       "\n",
       "    .dataframe thead th {\n",
       "        text-align: right;\n",
       "    }\n",
       "</style>\n",
       "<table border=\"1\" class=\"dataframe\">\n",
       "  <thead>\n",
       "    <tr style=\"text-align: right;\">\n",
       "      <th></th>\n",
       "      <th>id</th>\n",
       "      <th>expediente</th>\n",
       "      <th>autoridadSancionadora</th>\n",
       "      <th>tipoSancion</th>\n",
       "      <th>causaMotivoHechos</th>\n",
       "      <th>observaciones</th>\n",
       "      <th>fechaCaptura</th>\n",
       "      <th>__v</th>\n",
       "      <th>institucionDependencia.nombre</th>\n",
       "      <th>institucionDependencia.clave</th>\n",
       "      <th>...</th>\n",
       "      <th>inhabilitacion.fechaInicial</th>\n",
       "      <th>inhabilitacion.fechaFinal</th>\n",
       "      <th>multa.moneda.clave</th>\n",
       "      <th>multa.moneda.valor</th>\n",
       "      <th>multa.monto</th>\n",
       "      <th>tipoSancion._id</th>\n",
       "      <th>tipoSancion.clave</th>\n",
       "      <th>tipoSancion.valor</th>\n",
       "      <th>tipoSancion.descripcion</th>\n",
       "      <th>estado</th>\n",
       "    </tr>\n",
       "  </thead>\n",
       "  <tbody>\n",
       "    <tr>\n",
       "      <th>0</th>\n",
       "      <td>63175e5de8496b23104a01c1</td>\n",
       "      <td>106/2021-A</td>\n",
       "      <td>Contraloría del Estado</td>\n",
       "      <td>[{'_id': '63175e5de8496b23104a01c2', 'clave': ...</td>\n",
       "      <td>Incumplimiento en Declaración de Situación Pat...</td>\n",
       "      <td>None</td>\n",
       "      <td>2022-09-06T14:51:09.884Z</td>\n",
       "      <td>0</td>\n",
       "      <td>O.P.D Hospital Civil de Guadalajara</td>\n",
       "      <td></td>\n",
       "      <td>...</td>\n",
       "      <td>NaN</td>\n",
       "      <td>NaN</td>\n",
       "      <td>NaN</td>\n",
       "      <td>NaN</td>\n",
       "      <td>NaN</td>\n",
       "      <td>63175e5de8496b23104a01c2</td>\n",
       "      <td>AS</td>\n",
       "      <td>ABSTENCION DE SANCION</td>\n",
       "      <td>None</td>\n",
       "      <td>JALISCO</td>\n",
       "    </tr>\n",
       "  </tbody>\n",
       "</table>\n",
       "<p>1 rows × 31 columns</p>\n",
       "</div>\n",
       "      <button class=\"colab-df-convert\" onclick=\"convertToInteractive('df-ecc489ed-04f4-4f23-83d4-0c3c5bf4e766')\"\n",
       "              title=\"Convert this dataframe to an interactive table.\"\n",
       "              style=\"display:none;\">\n",
       "        \n",
       "  <svg xmlns=\"http://www.w3.org/2000/svg\" height=\"24px\"viewBox=\"0 0 24 24\"\n",
       "       width=\"24px\">\n",
       "    <path d=\"M0 0h24v24H0V0z\" fill=\"none\"/>\n",
       "    <path d=\"M18.56 5.44l.94 2.06.94-2.06 2.06-.94-2.06-.94-.94-2.06-.94 2.06-2.06.94zm-11 1L8.5 8.5l.94-2.06 2.06-.94-2.06-.94L8.5 2.5l-.94 2.06-2.06.94zm10 10l.94 2.06.94-2.06 2.06-.94-2.06-.94-.94-2.06-.94 2.06-2.06.94z\"/><path d=\"M17.41 7.96l-1.37-1.37c-.4-.4-.92-.59-1.43-.59-.52 0-1.04.2-1.43.59L10.3 9.45l-7.72 7.72c-.78.78-.78 2.05 0 2.83L4 21.41c.39.39.9.59 1.41.59.51 0 1.02-.2 1.41-.59l7.78-7.78 2.81-2.81c.8-.78.8-2.07 0-2.86zM5.41 20L4 18.59l7.72-7.72 1.47 1.35L5.41 20z\"/>\n",
       "  </svg>\n",
       "      </button>\n",
       "      \n",
       "  <style>\n",
       "    .colab-df-container {\n",
       "      display:flex;\n",
       "      flex-wrap:wrap;\n",
       "      gap: 12px;\n",
       "    }\n",
       "\n",
       "    .colab-df-convert {\n",
       "      background-color: #E8F0FE;\n",
       "      border: none;\n",
       "      border-radius: 50%;\n",
       "      cursor: pointer;\n",
       "      display: none;\n",
       "      fill: #1967D2;\n",
       "      height: 32px;\n",
       "      padding: 0 0 0 0;\n",
       "      width: 32px;\n",
       "    }\n",
       "\n",
       "    .colab-df-convert:hover {\n",
       "      background-color: #E2EBFA;\n",
       "      box-shadow: 0px 1px 2px rgba(60, 64, 67, 0.3), 0px 1px 3px 1px rgba(60, 64, 67, 0.15);\n",
       "      fill: #174EA6;\n",
       "    }\n",
       "\n",
       "    [theme=dark] .colab-df-convert {\n",
       "      background-color: #3B4455;\n",
       "      fill: #D2E3FC;\n",
       "    }\n",
       "\n",
       "    [theme=dark] .colab-df-convert:hover {\n",
       "      background-color: #434B5C;\n",
       "      box-shadow: 0px 1px 3px 1px rgba(0, 0, 0, 0.15);\n",
       "      filter: drop-shadow(0px 1px 2px rgba(0, 0, 0, 0.3));\n",
       "      fill: #FFFFFF;\n",
       "    }\n",
       "  </style>\n",
       "\n",
       "      <script>\n",
       "        const buttonEl =\n",
       "          document.querySelector('#df-ecc489ed-04f4-4f23-83d4-0c3c5bf4e766 button.colab-df-convert');\n",
       "        buttonEl.style.display =\n",
       "          google.colab.kernel.accessAllowed ? 'block' : 'none';\n",
       "\n",
       "        async function convertToInteractive(key) {\n",
       "          const element = document.querySelector('#df-ecc489ed-04f4-4f23-83d4-0c3c5bf4e766');\n",
       "          const dataTable =\n",
       "            await google.colab.kernel.invokeFunction('convertToInteractive',\n",
       "                                                     [key], {});\n",
       "          if (!dataTable) return;\n",
       "\n",
       "          const docLinkHtml = 'Like what you see? Visit the ' +\n",
       "            '<a target=\"_blank\" href=https://colab.research.google.com/notebooks/data_table.ipynb>data table notebook</a>'\n",
       "            + ' to learn more about interactive tables.';\n",
       "          element.innerHTML = '';\n",
       "          dataTable['output_type'] = 'display_data';\n",
       "          await google.colab.output.renderOutput(dataTable, element);\n",
       "          const docLink = document.createElement('div');\n",
       "          docLink.innerHTML = docLinkHtml;\n",
       "          element.appendChild(docLink);\n",
       "        }\n",
       "      </script>\n",
       "    </div>\n",
       "  </div>\n",
       "  "
      ],
      "text/plain": [
       "                         id  expediente   autoridadSancionadora  \\\n",
       "0  63175e5de8496b23104a01c1  106/2021-A  Contraloría del Estado   \n",
       "\n",
       "                                         tipoSancion  \\\n",
       "0  [{'_id': '63175e5de8496b23104a01c2', 'clave': ...   \n",
       "\n",
       "                                   causaMotivoHechos observaciones  \\\n",
       "0  Incumplimiento en Declaración de Situación Pat...          None   \n",
       "\n",
       "               fechaCaptura  __v        institucionDependencia.nombre  \\\n",
       "0  2022-09-06T14:51:09.884Z    0  O.P.D Hospital Civil de Guadalajara   \n",
       "\n",
       "  institucionDependencia.clave  ... inhabilitacion.fechaInicial  \\\n",
       "0                               ...                         NaN   \n",
       "\n",
       "  inhabilitacion.fechaFinal multa.moneda.clave multa.moneda.valor multa.monto  \\\n",
       "0                       NaN                NaN                NaN         NaN   \n",
       "\n",
       "            tipoSancion._id tipoSancion.clave      tipoSancion.valor  \\\n",
       "0  63175e5de8496b23104a01c2                AS  ABSTENCION DE SANCION   \n",
       "\n",
       "  tipoSancion.descripcion   estado  \n",
       "0                    None  JALISCO  \n",
       "\n",
       "[1 rows x 31 columns]"
      ]
     },
     "execution_count": 23,
     "metadata": {},
     "output_type": "execute_result"
    }
   ],
   "source": [
    "jalisco = read_all_json('/content/drive/MyDrive/Colab Notebooks/dataton_2022/s3s/JALISCO', 'JALISCO')\n",
    "jalisco.head(1)"
   ]
  },
  {
   "cell_type": "code",
   "execution_count": null,
   "metadata": {
    "colab": {
     "base_uri": "https://localhost:8080/"
    },
    "id": "l5kAYP_LotAY",
    "outputId": "eb360716-3c25-4fda-e284-8f7868164995"
   },
   "outputs": [
    {
     "data": {
      "text/plain": [
       "Index(['id', 'expediente', 'autoridadSancionadora', 'tipoSancion',\n",
       "       'causaMotivoHechos', 'observaciones', 'fechaCaptura', '__v',\n",
       "       'institucionDependencia.nombre', 'institucionDependencia.clave',\n",
       "       'servidorPublicoSancionado.nombres',\n",
       "       'servidorPublicoSancionado.primerApellido',\n",
       "       'servidorPublicoSancionado.segundoApellido',\n",
       "       'servidorPublicoSancionado.puesto', 'servidorPublicoSancionado.nivel',\n",
       "       'tipoFalta.clave', 'tipoFalta.valor', 'tipoFalta.descripcion',\n",
       "       'resolucion.fechaResolucion', 'institucionDependencia.siglas',\n",
       "       'inhabilitacion.plazo', 'inhabilitacion.fechaInicial',\n",
       "       'inhabilitacion.fechaFinal', 'multa.moneda.clave', 'multa.moneda.valor',\n",
       "       'multa.monto', 'tipoSancion._id', 'tipoSancion.clave',\n",
       "       'tipoSancion.valor', 'tipoSancion.descripcion', 'estado'],\n",
       "      dtype='object')"
      ]
     },
     "execution_count": 24,
     "metadata": {},
     "output_type": "execute_result"
    }
   ],
   "source": [
    "jalisco.columns"
   ]
  },
  {
   "cell_type": "code",
   "execution_count": null,
   "metadata": {
    "id": "x14egIRIovwc"
   },
   "outputs": [],
   "source": [
    "jalisco = name_clean(jalisco)"
   ]
  },
  {
   "cell_type": "code",
   "execution_count": null,
   "metadata": {
    "colab": {
     "base_uri": "https://localhost:8080/"
    },
    "id": "yJET12QQpo5d",
    "outputId": "2ee5ebad-b0a4-4bdf-98e4-6a32713b422c"
   },
   "outputs": [
    {
     "data": {
      "text/plain": [
       "(730, 24)"
      ]
     },
     "execution_count": 26,
     "metadata": {},
     "output_type": "execute_result"
    }
   ],
   "source": [
    "jalisco.shape"
   ]
  },
  {
   "cell_type": "code",
   "execution_count": null,
   "metadata": {
    "colab": {
     "base_uri": "https://localhost:8080/",
     "height": 410
    },
    "id": "v0HPpgo4iyXR",
    "outputId": "0b96c701-a863-43fd-ad5f-b1b87c7ba267"
   },
   "outputs": [
    {
     "data": {
      "text/html": [
       "\n",
       "  <div id=\"df-193eaf40-ebae-427b-b769-9853268f1606\">\n",
       "    <div class=\"colab-df-container\">\n",
       "      <div>\n",
       "<style scoped>\n",
       "    .dataframe tbody tr th:only-of-type {\n",
       "        vertical-align: middle;\n",
       "    }\n",
       "\n",
       "    .dataframe tbody tr th {\n",
       "        vertical-align: top;\n",
       "    }\n",
       "\n",
       "    .dataframe thead th {\n",
       "        text-align: right;\n",
       "    }\n",
       "</style>\n",
       "<table border=\"1\" class=\"dataframe\">\n",
       "  <thead>\n",
       "    <tr style=\"text-align: right;\">\n",
       "      <th></th>\n",
       "      <th>autoridadSancionadora</th>\n",
       "      <th>causaMotivoHechos</th>\n",
       "      <th>expediente</th>\n",
       "      <th>fechaCaptura</th>\n",
       "      <th>id</th>\n",
       "      <th>observaciones</th>\n",
       "      <th>tipoSancion</th>\n",
       "      <th>inhabilitacion.fechaFinal</th>\n",
       "      <th>inhabilitacion.fechaInicial</th>\n",
       "      <th>inhabilitacion.plazo</th>\n",
       "      <th>...</th>\n",
       "      <th>servidorPublicoSancionado.nombres</th>\n",
       "      <th>servidorPublicoSancionado.primerApellido</th>\n",
       "      <th>servidorPublicoSancionado.puesto</th>\n",
       "      <th>servidorPublicoSancionado.rfc</th>\n",
       "      <th>servidorPublicoSancionado.segundoApellido</th>\n",
       "      <th>tipoFalta.clave</th>\n",
       "      <th>tipoFalta.valor</th>\n",
       "      <th>tipoSancion.clave</th>\n",
       "      <th>tipoSancion.valor</th>\n",
       "      <th>estado</th>\n",
       "    </tr>\n",
       "  </thead>\n",
       "  <tbody>\n",
       "    <tr>\n",
       "      <th>0</th>\n",
       "      <td>CONTRALORÍA MUNICIPAL</td>\n",
       "      <td>EJECUTÓ OBRAS EN HORARIO LABORAL Y OBTUVO UN B...</td>\n",
       "      <td>CM/PRA/01/06/2019</td>\n",
       "      <td>2022-05-26T09:38:39.490142</td>\n",
       "      <td>BAX8PIW7</td>\n",
       "      <td></td>\n",
       "      <td>[{'clave': 'I', 'valor': 'INHABILITADO'}]</td>\n",
       "      <td>2022-06-15</td>\n",
       "      <td>2021-06-15</td>\n",
       "      <td>1 AÑO</td>\n",
       "      <td>...</td>\n",
       "      <td>JESÚS</td>\n",
       "      <td>INFANTE</td>\n",
       "      <td>AUXILIAR ADMINISTRATIVO</td>\n",
       "      <td>IASJ820326UB4</td>\n",
       "      <td>SALAZAR</td>\n",
       "      <td>ANG</td>\n",
       "      <td>ADMINISTRATIVA NO GRAVE</td>\n",
       "      <td>I</td>\n",
       "      <td>INHABILITADO</td>\n",
       "      <td>MICHOACAN</td>\n",
       "    </tr>\n",
       "    <tr>\n",
       "      <th>1</th>\n",
       "      <td>CONTRALORIA MUNICIPAL</td>\n",
       "      <td>POR NO PRESENTAR EN TIEMPO Y FORMA LA DECLARAC...</td>\n",
       "      <td>006/2022</td>\n",
       "      <td>2022-10-07T09:27:28.172543</td>\n",
       "      <td>BEB2MEV6</td>\n",
       "      <td>NINGUNA OBSERVACION</td>\n",
       "      <td>[{'clave': 'I', 'valor': 'INHABILITADO'}, {'cl...</td>\n",
       "      <td>2022-07-23</td>\n",
       "      <td>2022-07-22</td>\n",
       "      <td>UN DIA</td>\n",
       "      <td>...</td>\n",
       "      <td>J GUADALUPE</td>\n",
       "      <td>CHAVEZ</td>\n",
       "      <td>JARDINERO</td>\n",
       "      <td>CARJ6912123T0</td>\n",
       "      <td>RODRIGUEZ</td>\n",
       "      <td>OTRO</td>\n",
       "      <td>OTRO</td>\n",
       "      <td>I</td>\n",
       "      <td>INHABILITADO</td>\n",
       "      <td>MICHOACAN</td>\n",
       "    </tr>\n",
       "    <tr>\n",
       "      <th>2</th>\n",
       "      <td>CONTRALORIA MUNICIPAL</td>\n",
       "      <td>OMISION EN LA PRESENTACION DE LA DECLARACION D...</td>\n",
       "      <td>HALC/CONT/JS/PRA/012/2020</td>\n",
       "      <td>2022-02-28T12:27:55.950392</td>\n",
       "      <td>BOZ7JUV7</td>\n",
       "      <td>SOLO SE APLICO INHABILITACION, NO MULTA</td>\n",
       "      <td>[{'clave': 'I', 'valor': 'INHABILITADO'}]</td>\n",
       "      <td>2022-07-15</td>\n",
       "      <td>2021-07-15</td>\n",
       "      <td>01 UN AÑO</td>\n",
       "      <td>...</td>\n",
       "      <td>ISAIAS</td>\n",
       "      <td>JACINTO</td>\n",
       "      <td>DIRECTOR DE SERVICIOS PUBLICOS MUNICIPALES</td>\n",
       "      <td>JAFI9008309Y4</td>\n",
       "      <td>FLORES</td>\n",
       "      <td>IDSP</td>\n",
       "      <td>INCUMPLIMIENTO EN DECLARACION DE SITUACION PAT...</td>\n",
       "      <td>S</td>\n",
       "      <td>SUSPENSIÓN DEL EMPLEO, CARGO O COMISIÓN</td>\n",
       "      <td>MICHOACAN</td>\n",
       "    </tr>\n",
       "  </tbody>\n",
       "</table>\n",
       "<p>3 rows × 32 columns</p>\n",
       "</div>\n",
       "      <button class=\"colab-df-convert\" onclick=\"convertToInteractive('df-193eaf40-ebae-427b-b769-9853268f1606')\"\n",
       "              title=\"Convert this dataframe to an interactive table.\"\n",
       "              style=\"display:none;\">\n",
       "        \n",
       "  <svg xmlns=\"http://www.w3.org/2000/svg\" height=\"24px\"viewBox=\"0 0 24 24\"\n",
       "       width=\"24px\">\n",
       "    <path d=\"M0 0h24v24H0V0z\" fill=\"none\"/>\n",
       "    <path d=\"M18.56 5.44l.94 2.06.94-2.06 2.06-.94-2.06-.94-.94-2.06-.94 2.06-2.06.94zm-11 1L8.5 8.5l.94-2.06 2.06-.94-2.06-.94L8.5 2.5l-.94 2.06-2.06.94zm10 10l.94 2.06.94-2.06 2.06-.94-2.06-.94-.94-2.06-.94 2.06-2.06.94z\"/><path d=\"M17.41 7.96l-1.37-1.37c-.4-.4-.92-.59-1.43-.59-.52 0-1.04.2-1.43.59L10.3 9.45l-7.72 7.72c-.78.78-.78 2.05 0 2.83L4 21.41c.39.39.9.59 1.41.59.51 0 1.02-.2 1.41-.59l7.78-7.78 2.81-2.81c.8-.78.8-2.07 0-2.86zM5.41 20L4 18.59l7.72-7.72 1.47 1.35L5.41 20z\"/>\n",
       "  </svg>\n",
       "      </button>\n",
       "      \n",
       "  <style>\n",
       "    .colab-df-container {\n",
       "      display:flex;\n",
       "      flex-wrap:wrap;\n",
       "      gap: 12px;\n",
       "    }\n",
       "\n",
       "    .colab-df-convert {\n",
       "      background-color: #E8F0FE;\n",
       "      border: none;\n",
       "      border-radius: 50%;\n",
       "      cursor: pointer;\n",
       "      display: none;\n",
       "      fill: #1967D2;\n",
       "      height: 32px;\n",
       "      padding: 0 0 0 0;\n",
       "      width: 32px;\n",
       "    }\n",
       "\n",
       "    .colab-df-convert:hover {\n",
       "      background-color: #E2EBFA;\n",
       "      box-shadow: 0px 1px 2px rgba(60, 64, 67, 0.3), 0px 1px 3px 1px rgba(60, 64, 67, 0.15);\n",
       "      fill: #174EA6;\n",
       "    }\n",
       "\n",
       "    [theme=dark] .colab-df-convert {\n",
       "      background-color: #3B4455;\n",
       "      fill: #D2E3FC;\n",
       "    }\n",
       "\n",
       "    [theme=dark] .colab-df-convert:hover {\n",
       "      background-color: #434B5C;\n",
       "      box-shadow: 0px 1px 3px 1px rgba(0, 0, 0, 0.15);\n",
       "      filter: drop-shadow(0px 1px 2px rgba(0, 0, 0, 0.3));\n",
       "      fill: #FFFFFF;\n",
       "    }\n",
       "  </style>\n",
       "\n",
       "      <script>\n",
       "        const buttonEl =\n",
       "          document.querySelector('#df-193eaf40-ebae-427b-b769-9853268f1606 button.colab-df-convert');\n",
       "        buttonEl.style.display =\n",
       "          google.colab.kernel.accessAllowed ? 'block' : 'none';\n",
       "\n",
       "        async function convertToInteractive(key) {\n",
       "          const element = document.querySelector('#df-193eaf40-ebae-427b-b769-9853268f1606');\n",
       "          const dataTable =\n",
       "            await google.colab.kernel.invokeFunction('convertToInteractive',\n",
       "                                                     [key], {});\n",
       "          if (!dataTable) return;\n",
       "\n",
       "          const docLinkHtml = 'Like what you see? Visit the ' +\n",
       "            '<a target=\"_blank\" href=https://colab.research.google.com/notebooks/data_table.ipynb>data table notebook</a>'\n",
       "            + ' to learn more about interactive tables.';\n",
       "          element.innerHTML = '';\n",
       "          dataTable['output_type'] = 'display_data';\n",
       "          await google.colab.output.renderOutput(dataTable, element);\n",
       "          const docLink = document.createElement('div');\n",
       "          docLink.innerHTML = docLinkHtml;\n",
       "          element.appendChild(docLink);\n",
       "        }\n",
       "      </script>\n",
       "    </div>\n",
       "  </div>\n",
       "  "
      ],
      "text/plain": [
       "    autoridadSancionadora                                  causaMotivoHechos  \\\n",
       "0   CONTRALORÍA MUNICIPAL  EJECUTÓ OBRAS EN HORARIO LABORAL Y OBTUVO UN B...   \n",
       "1  CONTRALORIA MUNICIPAL   POR NO PRESENTAR EN TIEMPO Y FORMA LA DECLARAC...   \n",
       "2   CONTRALORIA MUNICIPAL  OMISION EN LA PRESENTACION DE LA DECLARACION D...   \n",
       "\n",
       "                  expediente                fechaCaptura        id  \\\n",
       "0          CM/PRA/01/06/2019  2022-05-26T09:38:39.490142  BAX8PIW7   \n",
       "1                   006/2022  2022-10-07T09:27:28.172543  BEB2MEV6   \n",
       "2  HALC/CONT/JS/PRA/012/2020  2022-02-28T12:27:55.950392  BOZ7JUV7   \n",
       "\n",
       "                             observaciones  \\\n",
       "0                                            \n",
       "1                     NINGUNA OBSERVACION    \n",
       "2  SOLO SE APLICO INHABILITACION, NO MULTA   \n",
       "\n",
       "                                         tipoSancion  \\\n",
       "0          [{'clave': 'I', 'valor': 'INHABILITADO'}]   \n",
       "1  [{'clave': 'I', 'valor': 'INHABILITADO'}, {'cl...   \n",
       "2          [{'clave': 'I', 'valor': 'INHABILITADO'}]   \n",
       "\n",
       "  inhabilitacion.fechaFinal inhabilitacion.fechaInicial inhabilitacion.plazo  \\\n",
       "0                2022-06-15                  2021-06-15                1 AÑO   \n",
       "1                2022-07-23                  2022-07-22               UN DIA   \n",
       "2                2022-07-15                  2021-07-15            01 UN AÑO   \n",
       "\n",
       "   ... servidorPublicoSancionado.nombres  \\\n",
       "0  ...                             JESÚS   \n",
       "1  ...                       J GUADALUPE   \n",
       "2  ...                            ISAIAS   \n",
       "\n",
       "  servidorPublicoSancionado.primerApellido  \\\n",
       "0                                  INFANTE   \n",
       "1                                   CHAVEZ   \n",
       "2                                  JACINTO   \n",
       "\n",
       "             servidorPublicoSancionado.puesto servidorPublicoSancionado.rfc  \\\n",
       "0                     AUXILIAR ADMINISTRATIVO                 IASJ820326UB4   \n",
       "1                                  JARDINERO                  CARJ6912123T0   \n",
       "2  DIRECTOR DE SERVICIOS PUBLICOS MUNICIPALES                 JAFI9008309Y4   \n",
       "\n",
       "  servidorPublicoSancionado.segundoApellido  tipoFalta.clave  \\\n",
       "0                                   SALAZAR              ANG   \n",
       "1                                 RODRIGUEZ             OTRO   \n",
       "2                                    FLORES             IDSP   \n",
       "\n",
       "                                     tipoFalta.valor tipoSancion.clave  \\\n",
       "0                            ADMINISTRATIVA NO GRAVE                 I   \n",
       "1                                               OTRO                 I   \n",
       "2  INCUMPLIMIENTO EN DECLARACION DE SITUACION PAT...                 S   \n",
       "\n",
       "                         tipoSancion.valor     estado  \n",
       "0                             INHABILITADO  MICHOACAN  \n",
       "1                             INHABILITADO  MICHOACAN  \n",
       "2  SUSPENSIÓN DEL EMPLEO, CARGO O COMISIÓN  MICHOACAN  \n",
       "\n",
       "[3 rows x 32 columns]"
      ]
     },
     "execution_count": 27,
     "metadata": {},
     "output_type": "execute_result"
    }
   ],
   "source": [
    "michoacan = read_all_json('/content/drive/MyDrive/Colab Notebooks/dataton_2022/s3s/MICHOACAN', 'MICHOACAN')\n",
    "michoacan.head(3)"
   ]
  },
  {
   "cell_type": "code",
   "execution_count": null,
   "metadata": {
    "colab": {
     "base_uri": "https://localhost:8080/"
    },
    "id": "W4DVrViSp0Ml",
    "outputId": "9b021066-df55-479b-d34a-0070704e6acb"
   },
   "outputs": [
    {
     "data": {
      "text/plain": [
       "Index(['autoridadSancionadora', 'causaMotivoHechos', 'expediente',\n",
       "       'fechaCaptura', 'id', 'observaciones', 'tipoSancion',\n",
       "       'inhabilitacion.fechaFinal', 'inhabilitacion.fechaInicial',\n",
       "       'inhabilitacion.plazo', 'institucionDependencia.clave',\n",
       "       'institucionDependencia.nombre', 'institucionDependencia.siglas',\n",
       "       'multa.moneda.clave', 'multa.moneda.valor', 'multa.monto',\n",
       "       'resolucion.fechaResolucion', 'resolucion.url',\n",
       "       'servidorPublicoSancionado.curp',\n",
       "       'servidorPublicoSancionado.genero.clave',\n",
       "       'servidorPublicoSancionado.genero.valor',\n",
       "       'servidorPublicoSancionado.nivel', 'servidorPublicoSancionado.nombres',\n",
       "       'servidorPublicoSancionado.primerApellido',\n",
       "       'servidorPublicoSancionado.puesto', 'servidorPublicoSancionado.rfc',\n",
       "       'servidorPublicoSancionado.segundoApellido', 'tipoFalta.clave',\n",
       "       'tipoFalta.valor', 'tipoSancion.clave', 'tipoSancion.valor', 'estado'],\n",
       "      dtype='object')"
      ]
     },
     "execution_count": 28,
     "metadata": {},
     "output_type": "execute_result"
    }
   ],
   "source": [
    "michoacan.columns"
   ]
  },
  {
   "cell_type": "code",
   "execution_count": null,
   "metadata": {
    "id": "YlmOj30Op212"
   },
   "outputs": [],
   "source": [
    "michoacan = name_clean(michoacan)"
   ]
  },
  {
   "cell_type": "code",
   "execution_count": null,
   "metadata": {
    "id": "i8jzjhuqqG3C"
   },
   "outputs": [],
   "source": [
    "michoacan = michoacan.drop(['expediente', 'resolucion.url', 'servidorPublicoSancionado.genero.valor', \n",
    "                        'multa.moneda.valor', 'tipoSancion.valor'], axis=1, errors='ignore')"
   ]
  },
  {
   "cell_type": "code",
   "execution_count": null,
   "metadata": {
    "colab": {
     "base_uri": "https://localhost:8080/"
    },
    "id": "Uj4DuVlBA-eY",
    "outputId": "dba0099d-809c-461c-e0c7-ef1e6fd78672"
   },
   "outputs": [
    {
     "data": {
      "text/plain": [
       "(36, 25)"
      ]
     },
     "execution_count": 31,
     "metadata": {},
     "output_type": "execute_result"
    }
   ],
   "source": [
    "michoacan.shape"
   ]
  },
  {
   "cell_type": "code",
   "execution_count": null,
   "metadata": {
    "id": "XnOi0Ji1-crH"
   },
   "outputs": [],
   "source": [
    "f = open('/content/drive/MyDrive/Colab Notebooks/dataton_2022/s3s/MICHOACAN/data-0000000001.json' , encoding=\"utf8\")\n",
    "data = json.load(f)\n",
    "df_mc_sanciones = pd.DataFrame(pd.json_normalize(data, record_path=['tipoSancion'], meta=[['servidorPublicoSancionado','curp']])['servidorPublicoSancionado.curp'].value_counts()).reset_index()"
   ]
  },
  {
   "cell_type": "code",
   "execution_count": null,
   "metadata": {
    "colab": {
     "base_uri": "https://localhost:8080/",
     "height": 1000
    },
    "id": "98Ex49QhHv2Y",
    "outputId": "3d564de1-0851-4501-df88-eda6a19777e4"
   },
   "outputs": [
    {
     "data": {
      "text/html": [
       "\n",
       "  <div id=\"df-d994cc80-134b-4c6d-99b9-6accf300fb02\">\n",
       "    <div class=\"colab-df-container\">\n",
       "      <div>\n",
       "<style scoped>\n",
       "    .dataframe tbody tr th:only-of-type {\n",
       "        vertical-align: middle;\n",
       "    }\n",
       "\n",
       "    .dataframe tbody tr th {\n",
       "        vertical-align: top;\n",
       "    }\n",
       "\n",
       "    .dataframe thead th {\n",
       "        text-align: right;\n",
       "    }\n",
       "</style>\n",
       "<table border=\"1\" class=\"dataframe\">\n",
       "  <thead>\n",
       "    <tr style=\"text-align: right;\">\n",
       "      <th></th>\n",
       "      <th>servidorPublicoSancionado.curp</th>\n",
       "      <th>numeroSanciones</th>\n",
       "    </tr>\n",
       "  </thead>\n",
       "  <tbody>\n",
       "    <tr>\n",
       "      <th>0</th>\n",
       "      <td>GOCA620305HMNNMR02</td>\n",
       "      <td>4</td>\n",
       "    </tr>\n",
       "    <tr>\n",
       "      <th>1</th>\n",
       "      <td>POPM540116HMNLRR06</td>\n",
       "      <td>4</td>\n",
       "    </tr>\n",
       "    <tr>\n",
       "      <th>2</th>\n",
       "      <td>GOCF970309HMNNRR00</td>\n",
       "      <td>4</td>\n",
       "    </tr>\n",
       "    <tr>\n",
       "      <th>3</th>\n",
       "      <td>VACL720521HMNRHN04</td>\n",
       "      <td>3</td>\n",
       "    </tr>\n",
       "    <tr>\n",
       "      <th>4</th>\n",
       "      <td>CEAM710907HMNBNG00</td>\n",
       "      <td>3</td>\n",
       "    </tr>\n",
       "    <tr>\n",
       "      <th>5</th>\n",
       "      <td>PETA670404HMNRRL06</td>\n",
       "      <td>3</td>\n",
       "    </tr>\n",
       "    <tr>\n",
       "      <th>6</th>\n",
       "      <td>ROTG670801MMNBRD05</td>\n",
       "      <td>3</td>\n",
       "    </tr>\n",
       "    <tr>\n",
       "      <th>7</th>\n",
       "      <td>MAAB600710HMNRGN15</td>\n",
       "      <td>3</td>\n",
       "    </tr>\n",
       "    <tr>\n",
       "      <th>8</th>\n",
       "      <td>AUMS780112HMNGRR01</td>\n",
       "      <td>3</td>\n",
       "    </tr>\n",
       "    <tr>\n",
       "      <th>9</th>\n",
       "      <td>AITC770504MMNVRT04</td>\n",
       "      <td>3</td>\n",
       "    </tr>\n",
       "    <tr>\n",
       "      <th>10</th>\n",
       "      <td>CARJ691212HMNHDD09</td>\n",
       "      <td>3</td>\n",
       "    </tr>\n",
       "    <tr>\n",
       "      <th>11</th>\n",
       "      <td>LETY961022MMNMRS08</td>\n",
       "      <td>3</td>\n",
       "    </tr>\n",
       "    <tr>\n",
       "      <th>12</th>\n",
       "      <td>ROLF851031HMNBYR05</td>\n",
       "      <td>3</td>\n",
       "    </tr>\n",
       "    <tr>\n",
       "      <th>13</th>\n",
       "      <td>VASA680129HMNZNR06</td>\n",
       "      <td>3</td>\n",
       "    </tr>\n",
       "    <tr>\n",
       "      <th>14</th>\n",
       "      <td>PEAO710807HMNRNS00</td>\n",
       "      <td>3</td>\n",
       "    </tr>\n",
       "    <tr>\n",
       "      <th>15</th>\n",
       "      <td>VABL610815HMNRRC07</td>\n",
       "      <td>3</td>\n",
       "    </tr>\n",
       "    <tr>\n",
       "      <th>16</th>\n",
       "      <td>AEGS870530MMNLDS01</td>\n",
       "      <td>2</td>\n",
       "    </tr>\n",
       "    <tr>\n",
       "      <th>17</th>\n",
       "      <td>MERG671202HMNNDR02</td>\n",
       "      <td>1</td>\n",
       "    </tr>\n",
       "    <tr>\n",
       "      <th>18</th>\n",
       "      <td>RACC871130HMNMRR04</td>\n",
       "      <td>1</td>\n",
       "    </tr>\n",
       "    <tr>\n",
       "      <th>19</th>\n",
       "      <td>JAFI900830HMNCLS05</td>\n",
       "      <td>1</td>\n",
       "    </tr>\n",
       "    <tr>\n",
       "      <th>20</th>\n",
       "      <td>DIGI730812HMNZTN04</td>\n",
       "      <td>1</td>\n",
       "    </tr>\n",
       "    <tr>\n",
       "      <th>21</th>\n",
       "      <td>PICA600412HMNCRD09</td>\n",
       "      <td>1</td>\n",
       "    </tr>\n",
       "    <tr>\n",
       "      <th>22</th>\n",
       "      <td>MASG801124MMNDRD05</td>\n",
       "      <td>1</td>\n",
       "    </tr>\n",
       "    <tr>\n",
       "      <th>23</th>\n",
       "      <td>SILR810502MMNBPY06</td>\n",
       "      <td>1</td>\n",
       "    </tr>\n",
       "    <tr>\n",
       "      <th>24</th>\n",
       "      <td>TOFR810206HMNRRC08</td>\n",
       "      <td>1</td>\n",
       "    </tr>\n",
       "    <tr>\n",
       "      <th>25</th>\n",
       "      <td>EIGL910504MMNLVZ02</td>\n",
       "      <td>1</td>\n",
       "    </tr>\n",
       "    <tr>\n",
       "      <th>26</th>\n",
       "      <td>RASF720121HDFNLR03</td>\n",
       "      <td>1</td>\n",
       "    </tr>\n",
       "    <tr>\n",
       "      <th>27</th>\n",
       "      <td>BACT880123MMNRNN07</td>\n",
       "      <td>1</td>\n",
       "    </tr>\n",
       "    <tr>\n",
       "      <th>28</th>\n",
       "      <td>LUOJ930929HMNNCN05</td>\n",
       "      <td>1</td>\n",
       "    </tr>\n",
       "    <tr>\n",
       "      <th>29</th>\n",
       "      <td>CAAN780827MMNSRB08</td>\n",
       "      <td>1</td>\n",
       "    </tr>\n",
       "    <tr>\n",
       "      <th>30</th>\n",
       "      <td>AENB830803MMNRXR13</td>\n",
       "      <td>1</td>\n",
       "    </tr>\n",
       "    <tr>\n",
       "      <th>31</th>\n",
       "      <td>ROMI930927MGRDNV03</td>\n",
       "      <td>1</td>\n",
       "    </tr>\n",
       "    <tr>\n",
       "      <th>32</th>\n",
       "      <td>SOAC790331MMNLRR07</td>\n",
       "      <td>1</td>\n",
       "    </tr>\n",
       "    <tr>\n",
       "      <th>33</th>\n",
       "      <td>SILR770718HMNBPC05</td>\n",
       "      <td>1</td>\n",
       "    </tr>\n",
       "    <tr>\n",
       "      <th>34</th>\n",
       "      <td>GUCE700512MMNTDL09</td>\n",
       "      <td>1</td>\n",
       "    </tr>\n",
       "    <tr>\n",
       "      <th>35</th>\n",
       "      <td>IASJ820326HMNNLS08</td>\n",
       "      <td>1</td>\n",
       "    </tr>\n",
       "  </tbody>\n",
       "</table>\n",
       "</div>\n",
       "      <button class=\"colab-df-convert\" onclick=\"convertToInteractive('df-d994cc80-134b-4c6d-99b9-6accf300fb02')\"\n",
       "              title=\"Convert this dataframe to an interactive table.\"\n",
       "              style=\"display:none;\">\n",
       "        \n",
       "  <svg xmlns=\"http://www.w3.org/2000/svg\" height=\"24px\"viewBox=\"0 0 24 24\"\n",
       "       width=\"24px\">\n",
       "    <path d=\"M0 0h24v24H0V0z\" fill=\"none\"/>\n",
       "    <path d=\"M18.56 5.44l.94 2.06.94-2.06 2.06-.94-2.06-.94-.94-2.06-.94 2.06-2.06.94zm-11 1L8.5 8.5l.94-2.06 2.06-.94-2.06-.94L8.5 2.5l-.94 2.06-2.06.94zm10 10l.94 2.06.94-2.06 2.06-.94-2.06-.94-.94-2.06-.94 2.06-2.06.94z\"/><path d=\"M17.41 7.96l-1.37-1.37c-.4-.4-.92-.59-1.43-.59-.52 0-1.04.2-1.43.59L10.3 9.45l-7.72 7.72c-.78.78-.78 2.05 0 2.83L4 21.41c.39.39.9.59 1.41.59.51 0 1.02-.2 1.41-.59l7.78-7.78 2.81-2.81c.8-.78.8-2.07 0-2.86zM5.41 20L4 18.59l7.72-7.72 1.47 1.35L5.41 20z\"/>\n",
       "  </svg>\n",
       "      </button>\n",
       "      \n",
       "  <style>\n",
       "    .colab-df-container {\n",
       "      display:flex;\n",
       "      flex-wrap:wrap;\n",
       "      gap: 12px;\n",
       "    }\n",
       "\n",
       "    .colab-df-convert {\n",
       "      background-color: #E8F0FE;\n",
       "      border: none;\n",
       "      border-radius: 50%;\n",
       "      cursor: pointer;\n",
       "      display: none;\n",
       "      fill: #1967D2;\n",
       "      height: 32px;\n",
       "      padding: 0 0 0 0;\n",
       "      width: 32px;\n",
       "    }\n",
       "\n",
       "    .colab-df-convert:hover {\n",
       "      background-color: #E2EBFA;\n",
       "      box-shadow: 0px 1px 2px rgba(60, 64, 67, 0.3), 0px 1px 3px 1px rgba(60, 64, 67, 0.15);\n",
       "      fill: #174EA6;\n",
       "    }\n",
       "\n",
       "    [theme=dark] .colab-df-convert {\n",
       "      background-color: #3B4455;\n",
       "      fill: #D2E3FC;\n",
       "    }\n",
       "\n",
       "    [theme=dark] .colab-df-convert:hover {\n",
       "      background-color: #434B5C;\n",
       "      box-shadow: 0px 1px 3px 1px rgba(0, 0, 0, 0.15);\n",
       "      filter: drop-shadow(0px 1px 2px rgba(0, 0, 0, 0.3));\n",
       "      fill: #FFFFFF;\n",
       "    }\n",
       "  </style>\n",
       "\n",
       "      <script>\n",
       "        const buttonEl =\n",
       "          document.querySelector('#df-d994cc80-134b-4c6d-99b9-6accf300fb02 button.colab-df-convert');\n",
       "        buttonEl.style.display =\n",
       "          google.colab.kernel.accessAllowed ? 'block' : 'none';\n",
       "\n",
       "        async function convertToInteractive(key) {\n",
       "          const element = document.querySelector('#df-d994cc80-134b-4c6d-99b9-6accf300fb02');\n",
       "          const dataTable =\n",
       "            await google.colab.kernel.invokeFunction('convertToInteractive',\n",
       "                                                     [key], {});\n",
       "          if (!dataTable) return;\n",
       "\n",
       "          const docLinkHtml = 'Like what you see? Visit the ' +\n",
       "            '<a target=\"_blank\" href=https://colab.research.google.com/notebooks/data_table.ipynb>data table notebook</a>'\n",
       "            + ' to learn more about interactive tables.';\n",
       "          element.innerHTML = '';\n",
       "          dataTable['output_type'] = 'display_data';\n",
       "          await google.colab.output.renderOutput(dataTable, element);\n",
       "          const docLink = document.createElement('div');\n",
       "          docLink.innerHTML = docLinkHtml;\n",
       "          element.appendChild(docLink);\n",
       "        }\n",
       "      </script>\n",
       "    </div>\n",
       "  </div>\n",
       "  "
      ],
      "text/plain": [
       "   servidorPublicoSancionado.curp  numeroSanciones\n",
       "0              GOCA620305HMNNMR02                4\n",
       "1              POPM540116HMNLRR06                4\n",
       "2              GOCF970309HMNNRR00                4\n",
       "3              VACL720521HMNRHN04                3\n",
       "4              CEAM710907HMNBNG00                3\n",
       "5              PETA670404HMNRRL06                3\n",
       "6              ROTG670801MMNBRD05                3\n",
       "7              MAAB600710HMNRGN15                3\n",
       "8              AUMS780112HMNGRR01                3\n",
       "9              AITC770504MMNVRT04                3\n",
       "10             CARJ691212HMNHDD09                3\n",
       "11             LETY961022MMNMRS08                3\n",
       "12             ROLF851031HMNBYR05                3\n",
       "13             VASA680129HMNZNR06                3\n",
       "14             PEAO710807HMNRNS00                3\n",
       "15             VABL610815HMNRRC07                3\n",
       "16             AEGS870530MMNLDS01                2\n",
       "17             MERG671202HMNNDR02                1\n",
       "18             RACC871130HMNMRR04                1\n",
       "19             JAFI900830HMNCLS05                1\n",
       "20             DIGI730812HMNZTN04                1\n",
       "21             PICA600412HMNCRD09                1\n",
       "22             MASG801124MMNDRD05                1\n",
       "23             SILR810502MMNBPY06                1\n",
       "24             TOFR810206HMNRRC08                1\n",
       "25             EIGL910504MMNLVZ02                1\n",
       "26             RASF720121HDFNLR03                1\n",
       "27             BACT880123MMNRNN07                1\n",
       "28             LUOJ930929HMNNCN05                1\n",
       "29             CAAN780827MMNSRB08                1\n",
       "30             AENB830803MMNRXR13                1\n",
       "31             ROMI930927MGRDNV03                1\n",
       "32             SOAC790331MMNLRR07                1\n",
       "33             SILR770718HMNBPC05                1\n",
       "34             GUCE700512MMNTDL09                1\n",
       "35             IASJ820326HMNNLS08                1"
      ]
     },
     "execution_count": 33,
     "metadata": {},
     "output_type": "execute_result"
    }
   ],
   "source": [
    "df_mc_sanciones.rename(columns={\"index\": \"servidorPublicoSancionado.curp\", \"servidorPublicoSancionado.curp\": \"numeroSanciones\"}, inplace=True)\n",
    "df_mc_sanciones"
   ]
  },
  {
   "cell_type": "code",
   "execution_count": null,
   "metadata": {
    "id": "R_2KY7Z0Ij0t"
   },
   "outputs": [],
   "source": [
    "michoacan = michoacan.merge(df_mc_sanciones, on='servidorPublicoSancionado.curp')"
   ]
  },
  {
   "cell_type": "code",
   "execution_count": null,
   "metadata": {
    "colab": {
     "base_uri": "https://localhost:8080/",
     "height": 261
    },
    "id": "k3cfsSydiyXT",
    "outputId": "c043bdd9-873d-452f-b00b-e03ea126da7e"
   },
   "outputs": [
    {
     "data": {
      "text/html": [
       "\n",
       "  <div id=\"df-84799fef-e1a9-4aac-b9c1-0bf519c8fc8e\">\n",
       "    <div class=\"colab-df-container\">\n",
       "      <div>\n",
       "<style scoped>\n",
       "    .dataframe tbody tr th:only-of-type {\n",
       "        vertical-align: middle;\n",
       "    }\n",
       "\n",
       "    .dataframe tbody tr th {\n",
       "        vertical-align: top;\n",
       "    }\n",
       "\n",
       "    .dataframe thead th {\n",
       "        text-align: right;\n",
       "    }\n",
       "</style>\n",
       "<table border=\"1\" class=\"dataframe\">\n",
       "  <thead>\n",
       "    <tr style=\"text-align: right;\">\n",
       "      <th></th>\n",
       "      <th>id</th>\n",
       "      <th>fechaCaptura</th>\n",
       "      <th>expediente</th>\n",
       "      <th>autoridadSancionadora</th>\n",
       "      <th>tipoSancion</th>\n",
       "      <th>causaMotivoHechos</th>\n",
       "      <th>observaciones</th>\n",
       "      <th>institucionDependencia.nombre</th>\n",
       "      <th>institucionDependencia.siglas</th>\n",
       "      <th>institucionDependencia.clave</th>\n",
       "      <th>...</th>\n",
       "      <th>resolucion.fechaResolucion</th>\n",
       "      <th>multa.monto</th>\n",
       "      <th>multa.moneda.clave</th>\n",
       "      <th>multa.moneda.valor</th>\n",
       "      <th>inhabilitacion.plazo</th>\n",
       "      <th>inhabilitacion.fechaInicial</th>\n",
       "      <th>inhabilitacion.fechaFinal</th>\n",
       "      <th>tipoSancion.clave</th>\n",
       "      <th>tipoSancion.valor</th>\n",
       "      <th>estado</th>\n",
       "    </tr>\n",
       "  </thead>\n",
       "  <tbody>\n",
       "    <tr>\n",
       "      <th>0</th>\n",
       "      <td>3738</td>\n",
       "      <td>2019-12-26T05:22:51Z</td>\n",
       "      <td>169/2018</td>\n",
       "      <td>COMISIÓN DE DISCIPLINA DEL CONSEJO DE LA JUDIC...</td>\n",
       "      <td>[{'clave': 'I', 'valor': 'INHABILITADO'}]</td>\n",
       "      <td>NEGLIGENCIA ADMINISTRATIVA</td>\n",
       "      <td>FALTAR AL DEBER DE PRESENTAR CON VERACIDAD DIV...</td>\n",
       "      <td>COMISION DE DISCIPLINA DEL CONSEJO DE LA JUDIC...</td>\n",
       "      <td>PJF</td>\n",
       "      <td>87</td>\n",
       "      <td>...</td>\n",
       "      <td>2019-09-24</td>\n",
       "      <td>0</td>\n",
       "      <td>MXN</td>\n",
       "      <td>Peso Mexicano</td>\n",
       "      <td>10 AÑOS</td>\n",
       "      <td>2019-11-01</td>\n",
       "      <td>2029-11-01</td>\n",
       "      <td>I</td>\n",
       "      <td>INHABILITADO</td>\n",
       "      <td>PUEBLA</td>\n",
       "    </tr>\n",
       "  </tbody>\n",
       "</table>\n",
       "<p>1 rows × 30 columns</p>\n",
       "</div>\n",
       "      <button class=\"colab-df-convert\" onclick=\"convertToInteractive('df-84799fef-e1a9-4aac-b9c1-0bf519c8fc8e')\"\n",
       "              title=\"Convert this dataframe to an interactive table.\"\n",
       "              style=\"display:none;\">\n",
       "        \n",
       "  <svg xmlns=\"http://www.w3.org/2000/svg\" height=\"24px\"viewBox=\"0 0 24 24\"\n",
       "       width=\"24px\">\n",
       "    <path d=\"M0 0h24v24H0V0z\" fill=\"none\"/>\n",
       "    <path d=\"M18.56 5.44l.94 2.06.94-2.06 2.06-.94-2.06-.94-.94-2.06-.94 2.06-2.06.94zm-11 1L8.5 8.5l.94-2.06 2.06-.94-2.06-.94L8.5 2.5l-.94 2.06-2.06.94zm10 10l.94 2.06.94-2.06 2.06-.94-2.06-.94-.94-2.06-.94 2.06-2.06.94z\"/><path d=\"M17.41 7.96l-1.37-1.37c-.4-.4-.92-.59-1.43-.59-.52 0-1.04.2-1.43.59L10.3 9.45l-7.72 7.72c-.78.78-.78 2.05 0 2.83L4 21.41c.39.39.9.59 1.41.59.51 0 1.02-.2 1.41-.59l7.78-7.78 2.81-2.81c.8-.78.8-2.07 0-2.86zM5.41 20L4 18.59l7.72-7.72 1.47 1.35L5.41 20z\"/>\n",
       "  </svg>\n",
       "      </button>\n",
       "      \n",
       "  <style>\n",
       "    .colab-df-container {\n",
       "      display:flex;\n",
       "      flex-wrap:wrap;\n",
       "      gap: 12px;\n",
       "    }\n",
       "\n",
       "    .colab-df-convert {\n",
       "      background-color: #E8F0FE;\n",
       "      border: none;\n",
       "      border-radius: 50%;\n",
       "      cursor: pointer;\n",
       "      display: none;\n",
       "      fill: #1967D2;\n",
       "      height: 32px;\n",
       "      padding: 0 0 0 0;\n",
       "      width: 32px;\n",
       "    }\n",
       "\n",
       "    .colab-df-convert:hover {\n",
       "      background-color: #E2EBFA;\n",
       "      box-shadow: 0px 1px 2px rgba(60, 64, 67, 0.3), 0px 1px 3px 1px rgba(60, 64, 67, 0.15);\n",
       "      fill: #174EA6;\n",
       "    }\n",
       "\n",
       "    [theme=dark] .colab-df-convert {\n",
       "      background-color: #3B4455;\n",
       "      fill: #D2E3FC;\n",
       "    }\n",
       "\n",
       "    [theme=dark] .colab-df-convert:hover {\n",
       "      background-color: #434B5C;\n",
       "      box-shadow: 0px 1px 3px 1px rgba(0, 0, 0, 0.15);\n",
       "      filter: drop-shadow(0px 1px 2px rgba(0, 0, 0, 0.3));\n",
       "      fill: #FFFFFF;\n",
       "    }\n",
       "  </style>\n",
       "\n",
       "      <script>\n",
       "        const buttonEl =\n",
       "          document.querySelector('#df-84799fef-e1a9-4aac-b9c1-0bf519c8fc8e button.colab-df-convert');\n",
       "        buttonEl.style.display =\n",
       "          google.colab.kernel.accessAllowed ? 'block' : 'none';\n",
       "\n",
       "        async function convertToInteractive(key) {\n",
       "          const element = document.querySelector('#df-84799fef-e1a9-4aac-b9c1-0bf519c8fc8e');\n",
       "          const dataTable =\n",
       "            await google.colab.kernel.invokeFunction('convertToInteractive',\n",
       "                                                     [key], {});\n",
       "          if (!dataTable) return;\n",
       "\n",
       "          const docLinkHtml = 'Like what you see? Visit the ' +\n",
       "            '<a target=\"_blank\" href=https://colab.research.google.com/notebooks/data_table.ipynb>data table notebook</a>'\n",
       "            + ' to learn more about interactive tables.';\n",
       "          element.innerHTML = '';\n",
       "          dataTable['output_type'] = 'display_data';\n",
       "          await google.colab.output.renderOutput(dataTable, element);\n",
       "          const docLink = document.createElement('div');\n",
       "          docLink.innerHTML = docLinkHtml;\n",
       "          element.appendChild(docLink);\n",
       "        }\n",
       "      </script>\n",
       "    </div>\n",
       "  </div>\n",
       "  "
      ],
      "text/plain": [
       "     id          fechaCaptura expediente  \\\n",
       "0  3738  2019-12-26T05:22:51Z   169/2018   \n",
       "\n",
       "                               autoridadSancionadora  \\\n",
       "0  COMISIÓN DE DISCIPLINA DEL CONSEJO DE LA JUDIC...   \n",
       "\n",
       "                                 tipoSancion           causaMotivoHechos  \\\n",
       "0  [{'clave': 'I', 'valor': 'INHABILITADO'}]  NEGLIGENCIA ADMINISTRATIVA   \n",
       "\n",
       "                                       observaciones  \\\n",
       "0  FALTAR AL DEBER DE PRESENTAR CON VERACIDAD DIV...   \n",
       "\n",
       "                       institucionDependencia.nombre  \\\n",
       "0  COMISION DE DISCIPLINA DEL CONSEJO DE LA JUDIC...   \n",
       "\n",
       "  institucionDependencia.siglas institucionDependencia.clave  ...  \\\n",
       "0                           PJF                           87  ...   \n",
       "\n",
       "  resolucion.fechaResolucion multa.monto multa.moneda.clave  \\\n",
       "0                 2019-09-24           0                MXN   \n",
       "\n",
       "  multa.moneda.valor inhabilitacion.plazo inhabilitacion.fechaInicial  \\\n",
       "0      Peso Mexicano              10 AÑOS                  2019-11-01   \n",
       "\n",
       "  inhabilitacion.fechaFinal tipoSancion.clave tipoSancion.valor  estado  \n",
       "0                2029-11-01                 I      INHABILITADO  PUEBLA  \n",
       "\n",
       "[1 rows x 30 columns]"
      ]
     },
     "execution_count": 35,
     "metadata": {},
     "output_type": "execute_result"
    }
   ],
   "source": [
    "puebla = read_all_json('/content/drive/MyDrive/Colab Notebooks/dataton_2022/s3s/PUEBLA', 'PUEBLA')\n",
    "puebla.head(1)"
   ]
  },
  {
   "cell_type": "code",
   "execution_count": null,
   "metadata": {
    "colab": {
     "base_uri": "https://localhost:8080/"
    },
    "id": "LWAqNwG4qx1A",
    "outputId": "85f9d227-44b0-4f9a-bec7-46b131da29e2"
   },
   "outputs": [
    {
     "data": {
      "text/plain": [
       "Index(['id', 'fechaCaptura', 'expediente', 'autoridadSancionadora',\n",
       "       'tipoSancion', 'causaMotivoHechos', 'observaciones',\n",
       "       'institucionDependencia.nombre', 'institucionDependencia.siglas',\n",
       "       'institucionDependencia.clave', 'servidorPublicoSancionado.nombres',\n",
       "       'servidorPublicoSancionado.primerApellido',\n",
       "       'servidorPublicoSancionado.segundoApellido',\n",
       "       'servidorPublicoSancionado.genero.clave',\n",
       "       'servidorPublicoSancionado.genero.valor',\n",
       "       'servidorPublicoSancionado.puesto', 'servidorPublicoSancionado.nivel',\n",
       "       'tipoFalta.clave', 'tipoFalta.valor', 'resolucion.url',\n",
       "       'resolucion.fechaResolucion', 'multa.monto', 'multa.moneda.clave',\n",
       "       'multa.moneda.valor', 'inhabilitacion.plazo',\n",
       "       'inhabilitacion.fechaInicial', 'inhabilitacion.fechaFinal',\n",
       "       'tipoSancion.clave', 'tipoSancion.valor', 'estado'],\n",
       "      dtype='object')"
      ]
     },
     "execution_count": 36,
     "metadata": {},
     "output_type": "execute_result"
    }
   ],
   "source": [
    "puebla.columns"
   ]
  },
  {
   "cell_type": "code",
   "execution_count": null,
   "metadata": {
    "id": "xgEZwXOOq1KU"
   },
   "outputs": [],
   "source": [
    "puebla = name_clean(puebla)"
   ]
  },
  {
   "cell_type": "code",
   "execution_count": null,
   "metadata": {
    "colab": {
     "base_uri": "https://localhost:8080/"
    },
    "id": "6hUPGiXerQj6",
    "outputId": "1e92f9b6-1b5d-48cf-85ea-6c7703b09264"
   },
   "outputs": [
    {
     "data": {
      "text/plain": [
       "(263, 23)"
      ]
     },
     "execution_count": 38,
     "metadata": {},
     "output_type": "execute_result"
    }
   ],
   "source": [
    "puebla.shape"
   ]
  },
  {
   "cell_type": "code",
   "execution_count": null,
   "metadata": {
    "colab": {
     "base_uri": "https://localhost:8080/",
     "height": 226
    },
    "id": "Bg2Xv7EFiyXW",
    "outputId": "36b615d7-5cbe-46b7-c966-73cca931441d"
   },
   "outputs": [
    {
     "data": {
      "text/html": [
       "\n",
       "  <div id=\"df-be99051d-fedc-421f-8409-7262dc2c5562\">\n",
       "    <div class=\"colab-df-container\">\n",
       "      <div>\n",
       "<style scoped>\n",
       "    .dataframe tbody tr th:only-of-type {\n",
       "        vertical-align: middle;\n",
       "    }\n",
       "\n",
       "    .dataframe tbody tr th {\n",
       "        vertical-align: top;\n",
       "    }\n",
       "\n",
       "    .dataframe thead th {\n",
       "        text-align: right;\n",
       "    }\n",
       "</style>\n",
       "<table border=\"1\" class=\"dataframe\">\n",
       "  <thead>\n",
       "    <tr style=\"text-align: right;\">\n",
       "      <th></th>\n",
       "      <th>id</th>\n",
       "      <th>__v</th>\n",
       "      <th>autoridadSancionadora</th>\n",
       "      <th>causaMotivoHechos</th>\n",
       "      <th>expediente</th>\n",
       "      <th>fechaCaptura</th>\n",
       "      <th>tipoSancion</th>\n",
       "      <th>institucionDependencia.nombre</th>\n",
       "      <th>servidorPublicoSancionado.genero.clave</th>\n",
       "      <th>servidorPublicoSancionado.genero.valor</th>\n",
       "      <th>...</th>\n",
       "      <th>multa.monto</th>\n",
       "      <th>institucionDependencia.siglas</th>\n",
       "      <th>servidorPublicoSancionado.nivel</th>\n",
       "      <th>inhabilitacion.plazo</th>\n",
       "      <th>inhabilitacion.fechaInicial</th>\n",
       "      <th>inhabilitacion.fechaFinal</th>\n",
       "      <th>tipoSancion.clave</th>\n",
       "      <th>tipoSancion.valor</th>\n",
       "      <th>tipoSancion.descripcion</th>\n",
       "      <th>estado</th>\n",
       "    </tr>\n",
       "  </thead>\n",
       "  <tbody>\n",
       "    <tr>\n",
       "      <th>0</th>\n",
       "      <td>626b08bfb4d39600234713de</td>\n",
       "      <td>0</td>\n",
       "      <td>SEGUNDA SALA UNITARIA DEL TJAQROO</td>\n",
       "      <td>Realizó diversos cobros diciendo que eran dona...</td>\n",
       "      <td>01/2021-SU2-PR</td>\n",
       "      <td>2022-07-15T18:28:38+00:00</td>\n",
       "      <td>[{'clave': 'SE', 'valor': 'SANCIÓN ECONÓMICA',...</td>\n",
       "      <td>Municipio de Solidaridad Quintana Roo</td>\n",
       "      <td>M</td>\n",
       "      <td>MASCULINO</td>\n",
       "      <td>...</td>\n",
       "      <td>15000.0</td>\n",
       "      <td>NaN</td>\n",
       "      <td>NaN</td>\n",
       "      <td>NaN</td>\n",
       "      <td>NaN</td>\n",
       "      <td>NaN</td>\n",
       "      <td>SE</td>\n",
       "      <td>SANCIÓN ECONÓMICA</td>\n",
       "      <td>sanción económica por 15,000.00 (Son Quince Mi...</td>\n",
       "      <td>QUINTANA ROO</td>\n",
       "    </tr>\n",
       "  </tbody>\n",
       "</table>\n",
       "<p>1 rows × 31 columns</p>\n",
       "</div>\n",
       "      <button class=\"colab-df-convert\" onclick=\"convertToInteractive('df-be99051d-fedc-421f-8409-7262dc2c5562')\"\n",
       "              title=\"Convert this dataframe to an interactive table.\"\n",
       "              style=\"display:none;\">\n",
       "        \n",
       "  <svg xmlns=\"http://www.w3.org/2000/svg\" height=\"24px\"viewBox=\"0 0 24 24\"\n",
       "       width=\"24px\">\n",
       "    <path d=\"M0 0h24v24H0V0z\" fill=\"none\"/>\n",
       "    <path d=\"M18.56 5.44l.94 2.06.94-2.06 2.06-.94-2.06-.94-.94-2.06-.94 2.06-2.06.94zm-11 1L8.5 8.5l.94-2.06 2.06-.94-2.06-.94L8.5 2.5l-.94 2.06-2.06.94zm10 10l.94 2.06.94-2.06 2.06-.94-2.06-.94-.94-2.06-.94 2.06-2.06.94z\"/><path d=\"M17.41 7.96l-1.37-1.37c-.4-.4-.92-.59-1.43-.59-.52 0-1.04.2-1.43.59L10.3 9.45l-7.72 7.72c-.78.78-.78 2.05 0 2.83L4 21.41c.39.39.9.59 1.41.59.51 0 1.02-.2 1.41-.59l7.78-7.78 2.81-2.81c.8-.78.8-2.07 0-2.86zM5.41 20L4 18.59l7.72-7.72 1.47 1.35L5.41 20z\"/>\n",
       "  </svg>\n",
       "      </button>\n",
       "      \n",
       "  <style>\n",
       "    .colab-df-container {\n",
       "      display:flex;\n",
       "      flex-wrap:wrap;\n",
       "      gap: 12px;\n",
       "    }\n",
       "\n",
       "    .colab-df-convert {\n",
       "      background-color: #E8F0FE;\n",
       "      border: none;\n",
       "      border-radius: 50%;\n",
       "      cursor: pointer;\n",
       "      display: none;\n",
       "      fill: #1967D2;\n",
       "      height: 32px;\n",
       "      padding: 0 0 0 0;\n",
       "      width: 32px;\n",
       "    }\n",
       "\n",
       "    .colab-df-convert:hover {\n",
       "      background-color: #E2EBFA;\n",
       "      box-shadow: 0px 1px 2px rgba(60, 64, 67, 0.3), 0px 1px 3px 1px rgba(60, 64, 67, 0.15);\n",
       "      fill: #174EA6;\n",
       "    }\n",
       "\n",
       "    [theme=dark] .colab-df-convert {\n",
       "      background-color: #3B4455;\n",
       "      fill: #D2E3FC;\n",
       "    }\n",
       "\n",
       "    [theme=dark] .colab-df-convert:hover {\n",
       "      background-color: #434B5C;\n",
       "      box-shadow: 0px 1px 3px 1px rgba(0, 0, 0, 0.15);\n",
       "      filter: drop-shadow(0px 1px 2px rgba(0, 0, 0, 0.3));\n",
       "      fill: #FFFFFF;\n",
       "    }\n",
       "  </style>\n",
       "\n",
       "      <script>\n",
       "        const buttonEl =\n",
       "          document.querySelector('#df-be99051d-fedc-421f-8409-7262dc2c5562 button.colab-df-convert');\n",
       "        buttonEl.style.display =\n",
       "          google.colab.kernel.accessAllowed ? 'block' : 'none';\n",
       "\n",
       "        async function convertToInteractive(key) {\n",
       "          const element = document.querySelector('#df-be99051d-fedc-421f-8409-7262dc2c5562');\n",
       "          const dataTable =\n",
       "            await google.colab.kernel.invokeFunction('convertToInteractive',\n",
       "                                                     [key], {});\n",
       "          if (!dataTable) return;\n",
       "\n",
       "          const docLinkHtml = 'Like what you see? Visit the ' +\n",
       "            '<a target=\"_blank\" href=https://colab.research.google.com/notebooks/data_table.ipynb>data table notebook</a>'\n",
       "            + ' to learn more about interactive tables.';\n",
       "          element.innerHTML = '';\n",
       "          dataTable['output_type'] = 'display_data';\n",
       "          await google.colab.output.renderOutput(dataTable, element);\n",
       "          const docLink = document.createElement('div');\n",
       "          docLink.innerHTML = docLinkHtml;\n",
       "          element.appendChild(docLink);\n",
       "        }\n",
       "      </script>\n",
       "    </div>\n",
       "  </div>\n",
       "  "
      ],
      "text/plain": [
       "                         id  __v              autoridadSancionadora  \\\n",
       "0  626b08bfb4d39600234713de    0  SEGUNDA SALA UNITARIA DEL TJAQROO   \n",
       "\n",
       "                                   causaMotivoHechos      expediente  \\\n",
       "0  Realizó diversos cobros diciendo que eran dona...  01/2021-SU2-PR   \n",
       "\n",
       "                fechaCaptura  \\\n",
       "0  2022-07-15T18:28:38+00:00   \n",
       "\n",
       "                                         tipoSancion  \\\n",
       "0  [{'clave': 'SE', 'valor': 'SANCIÓN ECONÓMICA',...   \n",
       "\n",
       "           institucionDependencia.nombre  \\\n",
       "0  Municipio de Solidaridad Quintana Roo   \n",
       "\n",
       "  servidorPublicoSancionado.genero.clave  \\\n",
       "0                                      M   \n",
       "\n",
       "  servidorPublicoSancionado.genero.valor  ... multa.monto  \\\n",
       "0                              MASCULINO  ...     15000.0   \n",
       "\n",
       "  institucionDependencia.siglas servidorPublicoSancionado.nivel  \\\n",
       "0                           NaN                             NaN   \n",
       "\n",
       "  inhabilitacion.plazo inhabilitacion.fechaInicial inhabilitacion.fechaFinal  \\\n",
       "0                  NaN                         NaN                       NaN   \n",
       "\n",
       "  tipoSancion.clave  tipoSancion.valor  \\\n",
       "0                SE  SANCIÓN ECONÓMICA   \n",
       "\n",
       "                             tipoSancion.descripcion        estado  \n",
       "0  sanción económica por 15,000.00 (Son Quince Mi...  QUINTANA ROO  \n",
       "\n",
       "[1 rows x 31 columns]"
      ]
     },
     "execution_count": 39,
     "metadata": {},
     "output_type": "execute_result"
    }
   ],
   "source": [
    "quintana = read_all_json('/content/drive/MyDrive/Colab Notebooks/dataton_2022/s3s/QUINTANA ROO', 'QUINTANA ROO')\n",
    "quintana.head(1)"
   ]
  },
  {
   "cell_type": "code",
   "execution_count": null,
   "metadata": {
    "colab": {
     "base_uri": "https://localhost:8080/"
    },
    "id": "hprryBV00spN",
    "outputId": "e679b3f5-18dd-41cc-c9ec-d440c38935ad"
   },
   "outputs": [
    {
     "data": {
      "text/plain": [
       "Index(['id', '__v', 'autoridadSancionadora', 'causaMotivoHechos', 'expediente',\n",
       "       'fechaCaptura', 'tipoSancion', 'institucionDependencia.nombre',\n",
       "       'servidorPublicoSancionado.genero.clave',\n",
       "       'servidorPublicoSancionado.genero.valor',\n",
       "       'servidorPublicoSancionado.rfc', 'servidorPublicoSancionado.nombres',\n",
       "       'servidorPublicoSancionado.primerApellido',\n",
       "       'servidorPublicoSancionado.segundoApellido',\n",
       "       'servidorPublicoSancionado.puesto', 'tipoFalta.clave',\n",
       "       'tipoFalta.valor', 'tipoFalta.descripcion',\n",
       "       'resolucion.fechaResolucion', 'multa.moneda.clave',\n",
       "       'multa.moneda.valor', 'multa.monto', 'institucionDependencia.siglas',\n",
       "       'servidorPublicoSancionado.nivel', 'inhabilitacion.plazo',\n",
       "       'inhabilitacion.fechaInicial', 'inhabilitacion.fechaFinal',\n",
       "       'tipoSancion.clave', 'tipoSancion.valor', 'tipoSancion.descripcion',\n",
       "       'estado'],\n",
       "      dtype='object')"
      ]
     },
     "execution_count": 40,
     "metadata": {},
     "output_type": "execute_result"
    }
   ],
   "source": [
    "quintana.columns"
   ]
  },
  {
   "cell_type": "code",
   "execution_count": null,
   "metadata": {
    "id": "lv8E72lL5Qs5"
   },
   "outputs": [],
   "source": [
    "quintana = name_clean(quintana)"
   ]
  },
  {
   "cell_type": "code",
   "execution_count": null,
   "metadata": {
    "colab": {
     "base_uri": "https://localhost:8080/"
    },
    "id": "-UQJbvv35qM4",
    "outputId": "5e4e1b4f-1816-4c17-9c49-8ac93143cd6c"
   },
   "outputs": [
    {
     "data": {
      "text/plain": [
       "(4, 24)"
      ]
     },
     "execution_count": 42,
     "metadata": {},
     "output_type": "execute_result"
    }
   ],
   "source": [
    "quintana.shape"
   ]
  },
  {
   "cell_type": "code",
   "execution_count": null,
   "metadata": {
    "colab": {
     "base_uri": "https://localhost:8080/",
     "height": 226
    },
    "id": "TkfftIty4kJV",
    "outputId": "e36824e2-e7e6-461d-8626-55051781f444"
   },
   "outputs": [
    {
     "data": {
      "text/html": [
       "\n",
       "  <div id=\"df-6647e6d3-29ac-431a-8b7d-37c9388736b9\">\n",
       "    <div class=\"colab-df-container\">\n",
       "      <div>\n",
       "<style scoped>\n",
       "    .dataframe tbody tr th:only-of-type {\n",
       "        vertical-align: middle;\n",
       "    }\n",
       "\n",
       "    .dataframe tbody tr th {\n",
       "        vertical-align: top;\n",
       "    }\n",
       "\n",
       "    .dataframe thead th {\n",
       "        text-align: right;\n",
       "    }\n",
       "</style>\n",
       "<table border=\"1\" class=\"dataframe\">\n",
       "  <thead>\n",
       "    <tr style=\"text-align: right;\">\n",
       "      <th></th>\n",
       "      <th>id</th>\n",
       "      <th>__v</th>\n",
       "      <th>acto</th>\n",
       "      <th>autoridadSancionadora</th>\n",
       "      <th>causaMotivoHechos</th>\n",
       "      <th>expediente</th>\n",
       "      <th>fechaCaptura</th>\n",
       "      <th>tipoFalta</th>\n",
       "      <th>tipoSancion</th>\n",
       "      <th>institucionDependencia.nombre</th>\n",
       "      <th>...</th>\n",
       "      <th>responsableSancion.primerApellido</th>\n",
       "      <th>responsableSancion.segundoApellido</th>\n",
       "      <th>resolucion.sentido</th>\n",
       "      <th>multa.moneda.clave</th>\n",
       "      <th>multa.moneda.valor</th>\n",
       "      <th>multa.monto</th>\n",
       "      <th>tipoSancion.clave</th>\n",
       "      <th>tipoSancion.valor</th>\n",
       "      <th>tipoSancion.descripcion</th>\n",
       "      <th>estado</th>\n",
       "    </tr>\n",
       "  </thead>\n",
       "  <tbody>\n",
       "    <tr>\n",
       "      <th>0</th>\n",
       "      <td>61e1db512a16a00013957b07</td>\n",
       "      <td>0</td>\n",
       "      <td>SOBORNO</td>\n",
       "      <td>TERCERA SALA UNITARIA DEL TJAQROO</td>\n",
       "      <td>UN CONOCIDO DEL PARTICULAR FUE DETENIDO Y PUES...</td>\n",
       "      <td>TJA/QR-SU3-092-2019</td>\n",
       "      <td>2022-07-15T18:32:17+00:00</td>\n",
       "      <td>ABUSO DE FUNCIONES</td>\n",
       "      <td>[{'clave': 'SE', 'valor': 'SANCIÓN ECONÓMICA',...</td>\n",
       "      <td>DIRECCIÓN DE JUZGADOS CIVICOS DE BENITO JUÁREZ</td>\n",
       "      <td>...</td>\n",
       "      <td>IBARRA</td>\n",
       "      <td>GUEVARA</td>\n",
       "      <td>SE DETERMINA RESPONSABILIDAD CLASIFICADA COMO ...</td>\n",
       "      <td>MXN</td>\n",
       "      <td>PESO MEXICANO</td>\n",
       "      <td>8688</td>\n",
       "      <td>SE</td>\n",
       "      <td>SANCIÓN ECONÓMICA</td>\n",
       "      <td>SANCIÓN ECONÓMICA POR LA CANTIDAD DE 8,688.00</td>\n",
       "      <td>QUINTANA ROO</td>\n",
       "    </tr>\n",
       "  </tbody>\n",
       "</table>\n",
       "<p>1 rows × 30 columns</p>\n",
       "</div>\n",
       "      <button class=\"colab-df-convert\" onclick=\"convertToInteractive('df-6647e6d3-29ac-431a-8b7d-37c9388736b9')\"\n",
       "              title=\"Convert this dataframe to an interactive table.\"\n",
       "              style=\"display:none;\">\n",
       "        \n",
       "  <svg xmlns=\"http://www.w3.org/2000/svg\" height=\"24px\"viewBox=\"0 0 24 24\"\n",
       "       width=\"24px\">\n",
       "    <path d=\"M0 0h24v24H0V0z\" fill=\"none\"/>\n",
       "    <path d=\"M18.56 5.44l.94 2.06.94-2.06 2.06-.94-2.06-.94-.94-2.06-.94 2.06-2.06.94zm-11 1L8.5 8.5l.94-2.06 2.06-.94-2.06-.94L8.5 2.5l-.94 2.06-2.06.94zm10 10l.94 2.06.94-2.06 2.06-.94-2.06-.94-.94-2.06-.94 2.06-2.06.94z\"/><path d=\"M17.41 7.96l-1.37-1.37c-.4-.4-.92-.59-1.43-.59-.52 0-1.04.2-1.43.59L10.3 9.45l-7.72 7.72c-.78.78-.78 2.05 0 2.83L4 21.41c.39.39.9.59 1.41.59.51 0 1.02-.2 1.41-.59l7.78-7.78 2.81-2.81c.8-.78.8-2.07 0-2.86zM5.41 20L4 18.59l7.72-7.72 1.47 1.35L5.41 20z\"/>\n",
       "  </svg>\n",
       "      </button>\n",
       "      \n",
       "  <style>\n",
       "    .colab-df-container {\n",
       "      display:flex;\n",
       "      flex-wrap:wrap;\n",
       "      gap: 12px;\n",
       "    }\n",
       "\n",
       "    .colab-df-convert {\n",
       "      background-color: #E8F0FE;\n",
       "      border: none;\n",
       "      border-radius: 50%;\n",
       "      cursor: pointer;\n",
       "      display: none;\n",
       "      fill: #1967D2;\n",
       "      height: 32px;\n",
       "      padding: 0 0 0 0;\n",
       "      width: 32px;\n",
       "    }\n",
       "\n",
       "    .colab-df-convert:hover {\n",
       "      background-color: #E2EBFA;\n",
       "      box-shadow: 0px 1px 2px rgba(60, 64, 67, 0.3), 0px 1px 3px 1px rgba(60, 64, 67, 0.15);\n",
       "      fill: #174EA6;\n",
       "    }\n",
       "\n",
       "    [theme=dark] .colab-df-convert {\n",
       "      background-color: #3B4455;\n",
       "      fill: #D2E3FC;\n",
       "    }\n",
       "\n",
       "    [theme=dark] .colab-df-convert:hover {\n",
       "      background-color: #434B5C;\n",
       "      box-shadow: 0px 1px 3px 1px rgba(0, 0, 0, 0.15);\n",
       "      filter: drop-shadow(0px 1px 2px rgba(0, 0, 0, 0.3));\n",
       "      fill: #FFFFFF;\n",
       "    }\n",
       "  </style>\n",
       "\n",
       "      <script>\n",
       "        const buttonEl =\n",
       "          document.querySelector('#df-6647e6d3-29ac-431a-8b7d-37c9388736b9 button.colab-df-convert');\n",
       "        buttonEl.style.display =\n",
       "          google.colab.kernel.accessAllowed ? 'block' : 'none';\n",
       "\n",
       "        async function convertToInteractive(key) {\n",
       "          const element = document.querySelector('#df-6647e6d3-29ac-431a-8b7d-37c9388736b9');\n",
       "          const dataTable =\n",
       "            await google.colab.kernel.invokeFunction('convertToInteractive',\n",
       "                                                     [key], {});\n",
       "          if (!dataTable) return;\n",
       "\n",
       "          const docLinkHtml = 'Like what you see? Visit the ' +\n",
       "            '<a target=\"_blank\" href=https://colab.research.google.com/notebooks/data_table.ipynb>data table notebook</a>'\n",
       "            + ' to learn more about interactive tables.';\n",
       "          element.innerHTML = '';\n",
       "          dataTable['output_type'] = 'display_data';\n",
       "          await google.colab.output.renderOutput(dataTable, element);\n",
       "          const docLink = document.createElement('div');\n",
       "          docLink.innerHTML = docLinkHtml;\n",
       "          element.appendChild(docLink);\n",
       "        }\n",
       "      </script>\n",
       "    </div>\n",
       "  </div>\n",
       "  "
      ],
      "text/plain": [
       "                         id  __v     acto              autoridadSancionadora  \\\n",
       "0  61e1db512a16a00013957b07    0  SOBORNO  TERCERA SALA UNITARIA DEL TJAQROO   \n",
       "\n",
       "                                   causaMotivoHechos           expediente  \\\n",
       "0  UN CONOCIDO DEL PARTICULAR FUE DETENIDO Y PUES...  TJA/QR-SU3-092-2019   \n",
       "\n",
       "                fechaCaptura           tipoFalta  \\\n",
       "0  2022-07-15T18:32:17+00:00  ABUSO DE FUNCIONES   \n",
       "\n",
       "                                         tipoSancion  \\\n",
       "0  [{'clave': 'SE', 'valor': 'SANCIÓN ECONÓMICA',...   \n",
       "\n",
       "                    institucionDependencia.nombre  ...  \\\n",
       "0  DIRECCIÓN DE JUZGADOS CIVICOS DE BENITO JUÁREZ  ...   \n",
       "\n",
       "  responsableSancion.primerApellido responsableSancion.segundoApellido  \\\n",
       "0                            IBARRA                            GUEVARA   \n",
       "\n",
       "                                  resolucion.sentido multa.moneda.clave  \\\n",
       "0  SE DETERMINA RESPONSABILIDAD CLASIFICADA COMO ...                MXN   \n",
       "\n",
       "  multa.moneda.valor multa.monto tipoSancion.clave  tipoSancion.valor  \\\n",
       "0      PESO MEXICANO        8688                SE  SANCIÓN ECONÓMICA   \n",
       "\n",
       "                         tipoSancion.descripcion        estado  \n",
       "0  SANCIÓN ECONÓMICA POR LA CANTIDAD DE 8,688.00  QUINTANA ROO  \n",
       "\n",
       "[1 rows x 30 columns]"
      ]
     },
     "execution_count": 43,
     "metadata": {},
     "output_type": "execute_result"
    }
   ],
   "source": [
    "quintana_2 = read_all_json('/content/drive/MyDrive/Colab Notebooks/dataton_2022/s3p/QUINTANA ROO', 'QUINTANA ROO')\n",
    "quintana_2.head(1)"
   ]
  },
  {
   "cell_type": "code",
   "execution_count": null,
   "metadata": {
    "colab": {
     "base_uri": "https://localhost:8080/"
    },
    "id": "8znjHqig54df",
    "outputId": "bc27cba0-0b95-4b6e-864b-27dbe3df5449"
   },
   "outputs": [
    {
     "data": {
      "text/plain": [
       "Index(['id', '__v', 'acto', 'autoridadSancionadora', 'causaMotivoHechos',\n",
       "       'expediente', 'fechaCaptura', 'tipoFalta', 'tipoSancion',\n",
       "       'institucionDependencia.nombre', 'institucionDependencia.siglas',\n",
       "       'particularSancionado.domicilioMexico.pais',\n",
       "       'particularSancionado.domicilioMexico.entidadFederativa',\n",
       "       'particularSancionado.domicilioMexico.municipio',\n",
       "       'particularSancionado.domicilioMexico.localidad',\n",
       "       'particularSancionado.domicilioMexico.vialidad',\n",
       "       'particularSancionado.domicilioMexico.codigoPostal',\n",
       "       'particularSancionado.nombreRazonSocial',\n",
       "       'particularSancionado.tipoPersona', 'responsableSancion.nombres',\n",
       "       'responsableSancion.primerApellido',\n",
       "       'responsableSancion.segundoApellido', 'resolucion.sentido',\n",
       "       'multa.moneda.clave', 'multa.moneda.valor', 'multa.monto',\n",
       "       'tipoSancion.clave', 'tipoSancion.valor', 'tipoSancion.descripcion',\n",
       "       'estado'],\n",
       "      dtype='object')"
      ]
     },
     "execution_count": 44,
     "metadata": {},
     "output_type": "execute_result"
    }
   ],
   "source": [
    "quintana_2.columns"
   ]
  },
  {
   "cell_type": "code",
   "execution_count": null,
   "metadata": {
    "id": "2jOT8Pi-5-_G"
   },
   "outputs": [],
   "source": [
    "quintana_2.rename(columns={'particularSancionado.nombreRazonSocial': 'servidorPublicoSancionado.nombreCompleto'}, inplace=True)"
   ]
  },
  {
   "cell_type": "code",
   "execution_count": null,
   "metadata": {
    "id": "QEF4QUUH6lMq"
   },
   "outputs": [],
   "source": [
    "quintana_2 = quintana_2.drop(['__v', 'expediente', 'particularSancionado.domicilioMexico.pais', \n",
    "                        'particularSancionado.domicilioMexico.entidadFederativa', \n",
    "                        'particularSancionado.domicilioMexico.municipio',\n",
    "                        'particularSancionado.domicilioMexico.localidad',\n",
    "                        'particularSancionado.domicilioMexico.vialidad',\n",
    "                        'particularSancionado.domicilioMexico.codigoPostal',\n",
    "                        'tipoSancion.valor', 'multa.moneda.valor'], axis=1, errors='ignore')"
   ]
  },
  {
   "cell_type": "code",
   "execution_count": null,
   "metadata": {
    "id": "Ai2MdRtH6kju"
   },
   "outputs": [],
   "source": [
    "quintana_2 = quintana_2.drop(['particularSancionado.objetoSocial', 'particularSancionado.tipoPersona', \n",
    "                          'responsableSancion.nombres', 'responsableSancion.primerApellido',\n",
    "                        'responsableSancion.segundoApellido', 'resolucion.sentido'], axis=1, errors='ignore')"
   ]
  },
  {
   "cell_type": "code",
   "execution_count": null,
   "metadata": {
    "colab": {
     "base_uri": "https://localhost:8080/"
    },
    "id": "QX2bu82k7hI9",
    "outputId": "d01169b3-fd26-44b1-821b-0cef7b9707c8"
   },
   "outputs": [
    {
     "data": {
      "text/plain": [
       "(1, 15)"
      ]
     },
     "execution_count": 48,
     "metadata": {},
     "output_type": "execute_result"
    }
   ],
   "source": [
    "quintana_2.shape"
   ]
  },
  {
   "cell_type": "code",
   "execution_count": null,
   "metadata": {
    "colab": {
     "base_uri": "https://localhost:8080/",
     "height": 226
    },
    "id": "0a2b5fUziyXb",
    "outputId": "d7cb316d-c2e5-49ef-8604-b2f2d94b75c9"
   },
   "outputs": [
    {
     "data": {
      "text/html": [
       "\n",
       "  <div id=\"df-98bbbd14-4723-40d7-965f-ab98859d50de\">\n",
       "    <div class=\"colab-df-container\">\n",
       "      <div>\n",
       "<style scoped>\n",
       "    .dataframe tbody tr th:only-of-type {\n",
       "        vertical-align: middle;\n",
       "    }\n",
       "\n",
       "    .dataframe tbody tr th {\n",
       "        vertical-align: top;\n",
       "    }\n",
       "\n",
       "    .dataframe thead th {\n",
       "        text-align: right;\n",
       "    }\n",
       "</style>\n",
       "<table border=\"1\" class=\"dataframe\">\n",
       "  <thead>\n",
       "    <tr style=\"text-align: right;\">\n",
       "      <th></th>\n",
       "      <th>id</th>\n",
       "      <th>fechaCaptura</th>\n",
       "      <th>expediente</th>\n",
       "      <th>autoridadSancionadora</th>\n",
       "      <th>tipoSancion</th>\n",
       "      <th>causaMotivoHechos</th>\n",
       "      <th>observaciones</th>\n",
       "      <th>institucionDependencia.nombre</th>\n",
       "      <th>institucionDependencia.siglas</th>\n",
       "      <th>servidorPublicoSancionado.nombres</th>\n",
       "      <th>...</th>\n",
       "      <th>tipoFalta.valor</th>\n",
       "      <th>resolucion.fechaResolucion</th>\n",
       "      <th>multa.moneda.clave</th>\n",
       "      <th>multa.moneda.valor</th>\n",
       "      <th>inhabilitacion.fechaInicial</th>\n",
       "      <th>inhabilitacion.fechaFinal</th>\n",
       "      <th>inhabilitacion.plazo</th>\n",
       "      <th>tipoSancion.clave</th>\n",
       "      <th>tipoSancion.valor</th>\n",
       "      <th>estado</th>\n",
       "    </tr>\n",
       "  </thead>\n",
       "  <tbody>\n",
       "    <tr>\n",
       "      <th>0</th>\n",
       "      <td>630d3b3490bf7b1af7b62287</td>\n",
       "      <td>21/03/2019</td>\n",
       "      <td>P.A. 11/2008</td>\n",
       "      <td>CONGRESO ESTATAL</td>\n",
       "      <td>[{'clave': 'I', 'valor': 'INHABILITADO'}]</td>\n",
       "      <td>NEGLIGENCIA ADMINISTRATIVA</td>\n",
       "      <td>POR 54 IRREGULARIDADES QUE FUERON CONTEMPLADAS...</td>\n",
       "      <td>GOBIERNO DEL ESTADO DE PUEBLA</td>\n",
       "      <td></td>\n",
       "      <td>RIGOBERTO</td>\n",
       "      <td>...</td>\n",
       "      <td>Dato no proporcionado</td>\n",
       "      <td>07/06/2018</td>\n",
       "      <td>MXN</td>\n",
       "      <td>MXN</td>\n",
       "      <td>29/06/2018</td>\n",
       "      <td>29/06/2030</td>\n",
       "      <td>Dato no proporcionado</td>\n",
       "      <td>I</td>\n",
       "      <td>INHABILITADO</td>\n",
       "      <td>SFP</td>\n",
       "    </tr>\n",
       "  </tbody>\n",
       "</table>\n",
       "<p>1 rows × 24 columns</p>\n",
       "</div>\n",
       "      <button class=\"colab-df-convert\" onclick=\"convertToInteractive('df-98bbbd14-4723-40d7-965f-ab98859d50de')\"\n",
       "              title=\"Convert this dataframe to an interactive table.\"\n",
       "              style=\"display:none;\">\n",
       "        \n",
       "  <svg xmlns=\"http://www.w3.org/2000/svg\" height=\"24px\"viewBox=\"0 0 24 24\"\n",
       "       width=\"24px\">\n",
       "    <path d=\"M0 0h24v24H0V0z\" fill=\"none\"/>\n",
       "    <path d=\"M18.56 5.44l.94 2.06.94-2.06 2.06-.94-2.06-.94-.94-2.06-.94 2.06-2.06.94zm-11 1L8.5 8.5l.94-2.06 2.06-.94-2.06-.94L8.5 2.5l-.94 2.06-2.06.94zm10 10l.94 2.06.94-2.06 2.06-.94-2.06-.94-.94-2.06-.94 2.06-2.06.94z\"/><path d=\"M17.41 7.96l-1.37-1.37c-.4-.4-.92-.59-1.43-.59-.52 0-1.04.2-1.43.59L10.3 9.45l-7.72 7.72c-.78.78-.78 2.05 0 2.83L4 21.41c.39.39.9.59 1.41.59.51 0 1.02-.2 1.41-.59l7.78-7.78 2.81-2.81c.8-.78.8-2.07 0-2.86zM5.41 20L4 18.59l7.72-7.72 1.47 1.35L5.41 20z\"/>\n",
       "  </svg>\n",
       "      </button>\n",
       "      \n",
       "  <style>\n",
       "    .colab-df-container {\n",
       "      display:flex;\n",
       "      flex-wrap:wrap;\n",
       "      gap: 12px;\n",
       "    }\n",
       "\n",
       "    .colab-df-convert {\n",
       "      background-color: #E8F0FE;\n",
       "      border: none;\n",
       "      border-radius: 50%;\n",
       "      cursor: pointer;\n",
       "      display: none;\n",
       "      fill: #1967D2;\n",
       "      height: 32px;\n",
       "      padding: 0 0 0 0;\n",
       "      width: 32px;\n",
       "    }\n",
       "\n",
       "    .colab-df-convert:hover {\n",
       "      background-color: #E2EBFA;\n",
       "      box-shadow: 0px 1px 2px rgba(60, 64, 67, 0.3), 0px 1px 3px 1px rgba(60, 64, 67, 0.15);\n",
       "      fill: #174EA6;\n",
       "    }\n",
       "\n",
       "    [theme=dark] .colab-df-convert {\n",
       "      background-color: #3B4455;\n",
       "      fill: #D2E3FC;\n",
       "    }\n",
       "\n",
       "    [theme=dark] .colab-df-convert:hover {\n",
       "      background-color: #434B5C;\n",
       "      box-shadow: 0px 1px 3px 1px rgba(0, 0, 0, 0.15);\n",
       "      filter: drop-shadow(0px 1px 2px rgba(0, 0, 0, 0.3));\n",
       "      fill: #FFFFFF;\n",
       "    }\n",
       "  </style>\n",
       "\n",
       "      <script>\n",
       "        const buttonEl =\n",
       "          document.querySelector('#df-98bbbd14-4723-40d7-965f-ab98859d50de button.colab-df-convert');\n",
       "        buttonEl.style.display =\n",
       "          google.colab.kernel.accessAllowed ? 'block' : 'none';\n",
       "\n",
       "        async function convertToInteractive(key) {\n",
       "          const element = document.querySelector('#df-98bbbd14-4723-40d7-965f-ab98859d50de');\n",
       "          const dataTable =\n",
       "            await google.colab.kernel.invokeFunction('convertToInteractive',\n",
       "                                                     [key], {});\n",
       "          if (!dataTable) return;\n",
       "\n",
       "          const docLinkHtml = 'Like what you see? Visit the ' +\n",
       "            '<a target=\"_blank\" href=https://colab.research.google.com/notebooks/data_table.ipynb>data table notebook</a>'\n",
       "            + ' to learn more about interactive tables.';\n",
       "          element.innerHTML = '';\n",
       "          dataTable['output_type'] = 'display_data';\n",
       "          await google.colab.output.renderOutput(dataTable, element);\n",
       "          const docLink = document.createElement('div');\n",
       "          docLink.innerHTML = docLinkHtml;\n",
       "          element.appendChild(docLink);\n",
       "        }\n",
       "      </script>\n",
       "    </div>\n",
       "  </div>\n",
       "  "
      ],
      "text/plain": [
       "                         id fechaCaptura    expediente autoridadSancionadora  \\\n",
       "0  630d3b3490bf7b1af7b62287   21/03/2019  P.A. 11/2008      CONGRESO ESTATAL   \n",
       "\n",
       "                                 tipoSancion           causaMotivoHechos  \\\n",
       "0  [{'clave': 'I', 'valor': 'INHABILITADO'}]  NEGLIGENCIA ADMINISTRATIVA   \n",
       "\n",
       "                                       observaciones  \\\n",
       "0  POR 54 IRREGULARIDADES QUE FUERON CONTEMPLADAS...   \n",
       "\n",
       "   institucionDependencia.nombre institucionDependencia.siglas  \\\n",
       "0  GOBIERNO DEL ESTADO DE PUEBLA                                 \n",
       "\n",
       "  servidorPublicoSancionado.nombres  ...        tipoFalta.valor  \\\n",
       "0                         RIGOBERTO  ...  Dato no proporcionado   \n",
       "\n",
       "  resolucion.fechaResolucion multa.moneda.clave multa.moneda.valor  \\\n",
       "0                 07/06/2018                MXN                MXN   \n",
       "\n",
       "  inhabilitacion.fechaInicial inhabilitacion.fechaFinal  \\\n",
       "0                  29/06/2018                29/06/2030   \n",
       "\n",
       "    inhabilitacion.plazo tipoSancion.clave tipoSancion.valor estado  \n",
       "0  Dato no proporcionado                 I      INHABILITADO    SFP  \n",
       "\n",
       "[1 rows x 24 columns]"
      ]
     },
     "execution_count": 49,
     "metadata": {},
     "output_type": "execute_result"
    }
   ],
   "source": [
    "sfp = read_all_json('/content/drive/MyDrive/Colab Notebooks/dataton_2022/s3s/SFP', 'SFP')\n",
    "sfp.head(1)"
   ]
  },
  {
   "cell_type": "code",
   "execution_count": null,
   "metadata": {
    "colab": {
     "base_uri": "https://localhost:8080/"
    },
    "id": "pX3gpWD48LTM",
    "outputId": "bec7eefd-b97d-4930-8358-ab8c04d9f6c7"
   },
   "outputs": [
    {
     "data": {
      "text/plain": [
       "Index(['id', 'fechaCaptura', 'expediente', 'autoridadSancionadora',\n",
       "       'tipoSancion', 'causaMotivoHechos', 'observaciones',\n",
       "       'institucionDependencia.nombre', 'institucionDependencia.siglas',\n",
       "       'servidorPublicoSancionado.nombres',\n",
       "       'servidorPublicoSancionado.primerApellido',\n",
       "       'servidorPublicoSancionado.segundoApellido',\n",
       "       'servidorPublicoSancionado.puesto', 'tipoFalta.clave',\n",
       "       'tipoFalta.valor', 'resolucion.fechaResolucion', 'multa.moneda.clave',\n",
       "       'multa.moneda.valor', 'inhabilitacion.fechaInicial',\n",
       "       'inhabilitacion.fechaFinal', 'inhabilitacion.plazo',\n",
       "       'tipoSancion.clave', 'tipoSancion.valor', 'estado'],\n",
       "      dtype='object')"
      ]
     },
     "execution_count": 50,
     "metadata": {},
     "output_type": "execute_result"
    }
   ],
   "source": [
    "sfp.columns"
   ]
  },
  {
   "cell_type": "code",
   "execution_count": null,
   "metadata": {
    "id": "PFXzFzl28V7C"
   },
   "outputs": [],
   "source": [
    "sfp = name_clean(sfp)"
   ]
  },
  {
   "cell_type": "code",
   "execution_count": null,
   "metadata": {
    "colab": {
     "base_uri": "https://localhost:8080/"
    },
    "id": "uGnHIlgf8zwQ",
    "outputId": "6d3860ad-f701-4d00-92ca-64e1ebd437a4"
   },
   "outputs": [
    {
     "data": {
      "text/plain": [
       "(3000, 19)"
      ]
     },
     "execution_count": 52,
     "metadata": {},
     "output_type": "execute_result"
    }
   ],
   "source": [
    "sfp.shape"
   ]
  },
  {
   "cell_type": "code",
   "execution_count": null,
   "metadata": {
    "colab": {
     "base_uri": "https://localhost:8080/",
     "height": 226
    },
    "id": "yW6ENJNu44oC",
    "outputId": "aa83a436-9c4e-402b-eda4-3f9a7fb18942"
   },
   "outputs": [
    {
     "data": {
      "text/html": [
       "\n",
       "  <div id=\"df-5f689022-b6d4-49f3-9242-dcc17b593ea1\">\n",
       "    <div class=\"colab-df-container\">\n",
       "      <div>\n",
       "<style scoped>\n",
       "    .dataframe tbody tr th:only-of-type {\n",
       "        vertical-align: middle;\n",
       "    }\n",
       "\n",
       "    .dataframe tbody tr th {\n",
       "        vertical-align: top;\n",
       "    }\n",
       "\n",
       "    .dataframe thead th {\n",
       "        text-align: right;\n",
       "    }\n",
       "</style>\n",
       "<table border=\"1\" class=\"dataframe\">\n",
       "  <thead>\n",
       "    <tr style=\"text-align: right;\">\n",
       "      <th></th>\n",
       "      <th>id</th>\n",
       "      <th>fechaCaptura</th>\n",
       "      <th>expediente</th>\n",
       "      <th>objetoContrato</th>\n",
       "      <th>autoridadSancionadora</th>\n",
       "      <th>tipoFalta</th>\n",
       "      <th>tipoSancion</th>\n",
       "      <th>causaMotivoHechos</th>\n",
       "      <th>acto</th>\n",
       "      <th>observaciones</th>\n",
       "      <th>...</th>\n",
       "      <th>resolucion.fechaNotificacion</th>\n",
       "      <th>multa.moneda.clave</th>\n",
       "      <th>multa.moneda.valor</th>\n",
       "      <th>multa.monto</th>\n",
       "      <th>inhabilitacion.plazo</th>\n",
       "      <th>inhabilitacion.fechaInicial</th>\n",
       "      <th>inhabilitacion.fechaFinal</th>\n",
       "      <th>tipoSancion.clave</th>\n",
       "      <th>tipoSancion.valor</th>\n",
       "      <th>estado</th>\n",
       "    </tr>\n",
       "  </thead>\n",
       "  <tbody>\n",
       "    <tr>\n",
       "      <th>0</th>\n",
       "      <td>184740001/2019</td>\n",
       "      <td>2020-02-10</td>\n",
       "      <td>184740001/2019</td>\n",
       "      <td>Dato no proporcionado</td>\n",
       "      <td>INSTITUTO MEXICANO DEL PETROLEO</td>\n",
       "      <td>Dato no proporcionado</td>\n",
       "      <td>[{'clave': 'M', 'valor': 'MULTA'}, {'clave': '...</td>\n",
       "      <td>HABER PRESENTADO UN DOCUMENTO DEL INSTITUTO ME...</td>\n",
       "      <td>Dato no proporcionado</td>\n",
       "      <td>Dato no proporcionado</td>\n",
       "      <td>...</td>\n",
       "      <td>Dato no proporcionado</td>\n",
       "      <td>MXN</td>\n",
       "      <td>Dato no proporcionado</td>\n",
       "      <td>105686.0</td>\n",
       "      <td>Dato no proporcionado</td>\n",
       "      <td>2020-02-11</td>\n",
       "      <td>2020-05-11</td>\n",
       "      <td>M</td>\n",
       "      <td>MULTA</td>\n",
       "      <td>SFP</td>\n",
       "    </tr>\n",
       "  </tbody>\n",
       "</table>\n",
       "<p>1 rows × 30 columns</p>\n",
       "</div>\n",
       "      <button class=\"colab-df-convert\" onclick=\"convertToInteractive('df-5f689022-b6d4-49f3-9242-dcc17b593ea1')\"\n",
       "              title=\"Convert this dataframe to an interactive table.\"\n",
       "              style=\"display:none;\">\n",
       "        \n",
       "  <svg xmlns=\"http://www.w3.org/2000/svg\" height=\"24px\"viewBox=\"0 0 24 24\"\n",
       "       width=\"24px\">\n",
       "    <path d=\"M0 0h24v24H0V0z\" fill=\"none\"/>\n",
       "    <path d=\"M18.56 5.44l.94 2.06.94-2.06 2.06-.94-2.06-.94-.94-2.06-.94 2.06-2.06.94zm-11 1L8.5 8.5l.94-2.06 2.06-.94-2.06-.94L8.5 2.5l-.94 2.06-2.06.94zm10 10l.94 2.06.94-2.06 2.06-.94-2.06-.94-.94-2.06-.94 2.06-2.06.94z\"/><path d=\"M17.41 7.96l-1.37-1.37c-.4-.4-.92-.59-1.43-.59-.52 0-1.04.2-1.43.59L10.3 9.45l-7.72 7.72c-.78.78-.78 2.05 0 2.83L4 21.41c.39.39.9.59 1.41.59.51 0 1.02-.2 1.41-.59l7.78-7.78 2.81-2.81c.8-.78.8-2.07 0-2.86zM5.41 20L4 18.59l7.72-7.72 1.47 1.35L5.41 20z\"/>\n",
       "  </svg>\n",
       "      </button>\n",
       "      \n",
       "  <style>\n",
       "    .colab-df-container {\n",
       "      display:flex;\n",
       "      flex-wrap:wrap;\n",
       "      gap: 12px;\n",
       "    }\n",
       "\n",
       "    .colab-df-convert {\n",
       "      background-color: #E8F0FE;\n",
       "      border: none;\n",
       "      border-radius: 50%;\n",
       "      cursor: pointer;\n",
       "      display: none;\n",
       "      fill: #1967D2;\n",
       "      height: 32px;\n",
       "      padding: 0 0 0 0;\n",
       "      width: 32px;\n",
       "    }\n",
       "\n",
       "    .colab-df-convert:hover {\n",
       "      background-color: #E2EBFA;\n",
       "      box-shadow: 0px 1px 2px rgba(60, 64, 67, 0.3), 0px 1px 3px 1px rgba(60, 64, 67, 0.15);\n",
       "      fill: #174EA6;\n",
       "    }\n",
       "\n",
       "    [theme=dark] .colab-df-convert {\n",
       "      background-color: #3B4455;\n",
       "      fill: #D2E3FC;\n",
       "    }\n",
       "\n",
       "    [theme=dark] .colab-df-convert:hover {\n",
       "      background-color: #434B5C;\n",
       "      box-shadow: 0px 1px 3px 1px rgba(0, 0, 0, 0.15);\n",
       "      filter: drop-shadow(0px 1px 2px rgba(0, 0, 0, 0.3));\n",
       "      fill: #FFFFFF;\n",
       "    }\n",
       "  </style>\n",
       "\n",
       "      <script>\n",
       "        const buttonEl =\n",
       "          document.querySelector('#df-5f689022-b6d4-49f3-9242-dcc17b593ea1 button.colab-df-convert');\n",
       "        buttonEl.style.display =\n",
       "          google.colab.kernel.accessAllowed ? 'block' : 'none';\n",
       "\n",
       "        async function convertToInteractive(key) {\n",
       "          const element = document.querySelector('#df-5f689022-b6d4-49f3-9242-dcc17b593ea1');\n",
       "          const dataTable =\n",
       "            await google.colab.kernel.invokeFunction('convertToInteractive',\n",
       "                                                     [key], {});\n",
       "          if (!dataTable) return;\n",
       "\n",
       "          const docLinkHtml = 'Like what you see? Visit the ' +\n",
       "            '<a target=\"_blank\" href=https://colab.research.google.com/notebooks/data_table.ipynb>data table notebook</a>'\n",
       "            + ' to learn more about interactive tables.';\n",
       "          element.innerHTML = '';\n",
       "          dataTable['output_type'] = 'display_data';\n",
       "          await google.colab.output.renderOutput(dataTable, element);\n",
       "          const docLink = document.createElement('div');\n",
       "          docLink.innerHTML = docLinkHtml;\n",
       "          element.appendChild(docLink);\n",
       "        }\n",
       "      </script>\n",
       "    </div>\n",
       "  </div>\n",
       "  "
      ],
      "text/plain": [
       "               id fechaCaptura      expediente         objetoContrato  \\\n",
       "0  184740001/2019   2020-02-10  184740001/2019  Dato no proporcionado   \n",
       "\n",
       "             autoridadSancionadora              tipoFalta  \\\n",
       "0  INSTITUTO MEXICANO DEL PETROLEO  Dato no proporcionado   \n",
       "\n",
       "                                         tipoSancion  \\\n",
       "0  [{'clave': 'M', 'valor': 'MULTA'}, {'clave': '...   \n",
       "\n",
       "                                   causaMotivoHechos                   acto  \\\n",
       "0  HABER PRESENTADO UN DOCUMENTO DEL INSTITUTO ME...  Dato no proporcionado   \n",
       "\n",
       "           observaciones  ... resolucion.fechaNotificacion multa.moneda.clave  \\\n",
       "0  Dato no proporcionado  ...        Dato no proporcionado                MXN   \n",
       "\n",
       "      multa.moneda.valor multa.monto   inhabilitacion.plazo  \\\n",
       "0  Dato no proporcionado    105686.0  Dato no proporcionado   \n",
       "\n",
       "  inhabilitacion.fechaInicial inhabilitacion.fechaFinal tipoSancion.clave  \\\n",
       "0                  2020-02-11                2020-05-11                 M   \n",
       "\n",
       "  tipoSancion.valor estado  \n",
       "0             MULTA    SFP  \n",
       "\n",
       "[1 rows x 30 columns]"
      ]
     },
     "execution_count": 53,
     "metadata": {},
     "output_type": "execute_result"
    }
   ],
   "source": [
    "sfp_2 = read_all_json('/content/drive/MyDrive/Colab Notebooks/dataton_2022/s3p/SFP', 'SFP')\n",
    "sfp_2.head(1)"
   ]
  },
  {
   "cell_type": "code",
   "execution_count": null,
   "metadata": {
    "colab": {
     "base_uri": "https://localhost:8080/"
    },
    "id": "aXZ24ed_891_",
    "outputId": "195064d9-64e2-41a1-b2db-4e466f95318f"
   },
   "outputs": [
    {
     "data": {
      "text/plain": [
       "Index(['id', 'fechaCaptura', 'expediente', 'objetoContrato',\n",
       "       'autoridadSancionadora', 'tipoFalta', 'tipoSancion',\n",
       "       'causaMotivoHechos', 'acto', 'observaciones',\n",
       "       'institucionDependencia.nombre', 'institucionDependencia.siglas',\n",
       "       'particularSancionado.nombreRazonSocial',\n",
       "       'particularSancionado.objetoSocial', 'particularSancionado.tipoPersona',\n",
       "       'responsableSancion.nombres', 'responsableSancion.primerApellido',\n",
       "       'responsableSancion.segundoApellido', 'resolucion.sentido',\n",
       "       'resolucion.url', 'resolucion.fechaNotificacion', 'multa.moneda.clave',\n",
       "       'multa.moneda.valor', 'multa.monto', 'inhabilitacion.plazo',\n",
       "       'inhabilitacion.fechaInicial', 'inhabilitacion.fechaFinal',\n",
       "       'tipoSancion.clave', 'tipoSancion.valor', 'estado'],\n",
       "      dtype='object')"
      ]
     },
     "execution_count": 54,
     "metadata": {},
     "output_type": "execute_result"
    }
   ],
   "source": [
    "sfp_2.columns"
   ]
  },
  {
   "cell_type": "code",
   "execution_count": null,
   "metadata": {
    "id": "_W-j4eQj9G43"
   },
   "outputs": [],
   "source": [
    "sfp_2.rename(columns={'particularSancionado.nombreRazonSocial': 'servidorPublicoSancionado.nombreCompleto'}, inplace=True)"
   ]
  },
  {
   "cell_type": "code",
   "execution_count": null,
   "metadata": {
    "id": "x5CmxLfU9V4U"
   },
   "outputs": [],
   "source": [
    "sfp_2 = sfp_2.drop(['particularSancionado.objetoSocial', 'particularSancionado.tipoPersona', \n",
    "                          'responsableSancion.nombres', 'responsableSancion.primerApellido',\n",
    "                        'responsableSancion.segundoApellido', 'resolucion.sentido', 'resolucion.url',\n",
    "                    'expediente', 'tipoSancion.valor', 'multa.moneda.valor'], axis=1, errors='ignore')"
   ]
  },
  {
   "cell_type": "code",
   "execution_count": null,
   "metadata": {
    "colab": {
     "base_uri": "https://localhost:8080/"
    },
    "id": "MeALDSBb9Bob",
    "outputId": "5d5812b5-1f75-41d0-c7d9-926a282c9eef"
   },
   "outputs": [
    {
     "data": {
      "text/plain": [
       "(2142, 20)"
      ]
     },
     "execution_count": 57,
     "metadata": {},
     "output_type": "execute_result"
    }
   ],
   "source": [
    "sfp_2.shape"
   ]
  },
  {
   "cell_type": "code",
   "execution_count": null,
   "metadata": {
    "colab": {
     "base_uri": "https://localhost:8080/",
     "height": 226
    },
    "id": "jvTscOyViyXf",
    "outputId": "feabb411-1a9e-4d59-c27a-8c259563204b"
   },
   "outputs": [
    {
     "data": {
      "text/html": [
       "\n",
       "  <div id=\"df-2dea5ca5-0e4c-4386-8ca6-7fb94f4ee0a6\">\n",
       "    <div class=\"colab-df-container\">\n",
       "      <div>\n",
       "<style scoped>\n",
       "    .dataframe tbody tr th:only-of-type {\n",
       "        vertical-align: middle;\n",
       "    }\n",
       "\n",
       "    .dataframe tbody tr th {\n",
       "        vertical-align: top;\n",
       "    }\n",
       "\n",
       "    .dataframe thead th {\n",
       "        text-align: right;\n",
       "    }\n",
       "</style>\n",
       "<table border=\"1\" class=\"dataframe\">\n",
       "  <thead>\n",
       "    <tr style=\"text-align: right;\">\n",
       "      <th></th>\n",
       "      <th>id</th>\n",
       "      <th>expediente</th>\n",
       "      <th>autoridadSancionadora</th>\n",
       "      <th>tipoSancion</th>\n",
       "      <th>causaMotivoHechos</th>\n",
       "      <th>fechaCaptura</th>\n",
       "      <th>__v</th>\n",
       "      <th>institucionDependencia.nombre</th>\n",
       "      <th>institucionDependencia.siglas</th>\n",
       "      <th>servidorPublicoSancionado.nombres</th>\n",
       "      <th>...</th>\n",
       "      <th>resolucion.fechaResolucion</th>\n",
       "      <th>inhabilitacion.plazo</th>\n",
       "      <th>inhabilitacion.fechaInicial</th>\n",
       "      <th>inhabilitacion.fechaFinal</th>\n",
       "      <th>institucionDependencia.clave</th>\n",
       "      <th>servidorPublicoSancionado.nivel</th>\n",
       "      <th>tipoSancion.clave</th>\n",
       "      <th>tipoSancion.valor</th>\n",
       "      <th>tipoSancion.descripcion</th>\n",
       "      <th>estado</th>\n",
       "    </tr>\n",
       "  </thead>\n",
       "  <tbody>\n",
       "    <tr>\n",
       "      <th>0</th>\n",
       "      <td>61ddd18fdb69a1001d7c264f</td>\n",
       "      <td>DNQR/012/2021</td>\n",
       "      <td>Secretaría de la Contraloría General</td>\n",
       "      <td>[{'clave': 'S', 'valor': 'SUSPENSIÓN DEL EMPLE...</td>\n",
       "      <td>INCUMPLIMIENTO EN EL EJERCICIO DE SUS FUNCIONE...</td>\n",
       "      <td>2022-01-11T18:50:55+00:00</td>\n",
       "      <td>0</td>\n",
       "      <td>INSTITUTO DE SEGURIDAD SOCIAL DE LOS TRABAJADO...</td>\n",
       "      <td>ISSTEY</td>\n",
       "      <td>LUIS ENRIQUE</td>\n",
       "      <td>...</td>\n",
       "      <td>2021-11-26</td>\n",
       "      <td>3 MESES</td>\n",
       "      <td>2021-11-26</td>\n",
       "      <td>2022-02-26</td>\n",
       "      <td>NaN</td>\n",
       "      <td>NaN</td>\n",
       "      <td>S</td>\n",
       "      <td>SUSPENSIÓN DEL EMPLEO, CARGO O COMISIÓN</td>\n",
       "      <td>SUSPENSIÓN TEMPORAL POR EL TÉRMINO DE 3 MESES</td>\n",
       "      <td>YUCATAN</td>\n",
       "    </tr>\n",
       "  </tbody>\n",
       "</table>\n",
       "<p>1 rows × 26 columns</p>\n",
       "</div>\n",
       "      <button class=\"colab-df-convert\" onclick=\"convertToInteractive('df-2dea5ca5-0e4c-4386-8ca6-7fb94f4ee0a6')\"\n",
       "              title=\"Convert this dataframe to an interactive table.\"\n",
       "              style=\"display:none;\">\n",
       "        \n",
       "  <svg xmlns=\"http://www.w3.org/2000/svg\" height=\"24px\"viewBox=\"0 0 24 24\"\n",
       "       width=\"24px\">\n",
       "    <path d=\"M0 0h24v24H0V0z\" fill=\"none\"/>\n",
       "    <path d=\"M18.56 5.44l.94 2.06.94-2.06 2.06-.94-2.06-.94-.94-2.06-.94 2.06-2.06.94zm-11 1L8.5 8.5l.94-2.06 2.06-.94-2.06-.94L8.5 2.5l-.94 2.06-2.06.94zm10 10l.94 2.06.94-2.06 2.06-.94-2.06-.94-.94-2.06-.94 2.06-2.06.94z\"/><path d=\"M17.41 7.96l-1.37-1.37c-.4-.4-.92-.59-1.43-.59-.52 0-1.04.2-1.43.59L10.3 9.45l-7.72 7.72c-.78.78-.78 2.05 0 2.83L4 21.41c.39.39.9.59 1.41.59.51 0 1.02-.2 1.41-.59l7.78-7.78 2.81-2.81c.8-.78.8-2.07 0-2.86zM5.41 20L4 18.59l7.72-7.72 1.47 1.35L5.41 20z\"/>\n",
       "  </svg>\n",
       "      </button>\n",
       "      \n",
       "  <style>\n",
       "    .colab-df-container {\n",
       "      display:flex;\n",
       "      flex-wrap:wrap;\n",
       "      gap: 12px;\n",
       "    }\n",
       "\n",
       "    .colab-df-convert {\n",
       "      background-color: #E8F0FE;\n",
       "      border: none;\n",
       "      border-radius: 50%;\n",
       "      cursor: pointer;\n",
       "      display: none;\n",
       "      fill: #1967D2;\n",
       "      height: 32px;\n",
       "      padding: 0 0 0 0;\n",
       "      width: 32px;\n",
       "    }\n",
       "\n",
       "    .colab-df-convert:hover {\n",
       "      background-color: #E2EBFA;\n",
       "      box-shadow: 0px 1px 2px rgba(60, 64, 67, 0.3), 0px 1px 3px 1px rgba(60, 64, 67, 0.15);\n",
       "      fill: #174EA6;\n",
       "    }\n",
       "\n",
       "    [theme=dark] .colab-df-convert {\n",
       "      background-color: #3B4455;\n",
       "      fill: #D2E3FC;\n",
       "    }\n",
       "\n",
       "    [theme=dark] .colab-df-convert:hover {\n",
       "      background-color: #434B5C;\n",
       "      box-shadow: 0px 1px 3px 1px rgba(0, 0, 0, 0.15);\n",
       "      filter: drop-shadow(0px 1px 2px rgba(0, 0, 0, 0.3));\n",
       "      fill: #FFFFFF;\n",
       "    }\n",
       "  </style>\n",
       "\n",
       "      <script>\n",
       "        const buttonEl =\n",
       "          document.querySelector('#df-2dea5ca5-0e4c-4386-8ca6-7fb94f4ee0a6 button.colab-df-convert');\n",
       "        buttonEl.style.display =\n",
       "          google.colab.kernel.accessAllowed ? 'block' : 'none';\n",
       "\n",
       "        async function convertToInteractive(key) {\n",
       "          const element = document.querySelector('#df-2dea5ca5-0e4c-4386-8ca6-7fb94f4ee0a6');\n",
       "          const dataTable =\n",
       "            await google.colab.kernel.invokeFunction('convertToInteractive',\n",
       "                                                     [key], {});\n",
       "          if (!dataTable) return;\n",
       "\n",
       "          const docLinkHtml = 'Like what you see? Visit the ' +\n",
       "            '<a target=\"_blank\" href=https://colab.research.google.com/notebooks/data_table.ipynb>data table notebook</a>'\n",
       "            + ' to learn more about interactive tables.';\n",
       "          element.innerHTML = '';\n",
       "          dataTable['output_type'] = 'display_data';\n",
       "          await google.colab.output.renderOutput(dataTable, element);\n",
       "          const docLink = document.createElement('div');\n",
       "          docLink.innerHTML = docLinkHtml;\n",
       "          element.appendChild(docLink);\n",
       "        }\n",
       "      </script>\n",
       "    </div>\n",
       "  </div>\n",
       "  "
      ],
      "text/plain": [
       "                         id     expediente  \\\n",
       "0  61ddd18fdb69a1001d7c264f  DNQR/012/2021   \n",
       "\n",
       "                  autoridadSancionadora  \\\n",
       "0  Secretaría de la Contraloría General   \n",
       "\n",
       "                                         tipoSancion  \\\n",
       "0  [{'clave': 'S', 'valor': 'SUSPENSIÓN DEL EMPLE...   \n",
       "\n",
       "                                   causaMotivoHechos  \\\n",
       "0  INCUMPLIMIENTO EN EL EJERCICIO DE SUS FUNCIONE...   \n",
       "\n",
       "                fechaCaptura  __v  \\\n",
       "0  2022-01-11T18:50:55+00:00    0   \n",
       "\n",
       "                       institucionDependencia.nombre  \\\n",
       "0  INSTITUTO DE SEGURIDAD SOCIAL DE LOS TRABAJADO...   \n",
       "\n",
       "  institucionDependencia.siglas servidorPublicoSancionado.nombres  ...  \\\n",
       "0                        ISSTEY                      LUIS ENRIQUE  ...   \n",
       "\n",
       "  resolucion.fechaResolucion inhabilitacion.plazo inhabilitacion.fechaInicial  \\\n",
       "0                 2021-11-26              3 MESES                  2021-11-26   \n",
       "\n",
       "  inhabilitacion.fechaFinal institucionDependencia.clave  \\\n",
       "0                2022-02-26                          NaN   \n",
       "\n",
       "  servidorPublicoSancionado.nivel tipoSancion.clave  \\\n",
       "0                             NaN                 S   \n",
       "\n",
       "                         tipoSancion.valor  \\\n",
       "0  SUSPENSIÓN DEL EMPLEO, CARGO O COMISIÓN   \n",
       "\n",
       "                         tipoSancion.descripcion   estado  \n",
       "0  SUSPENSIÓN TEMPORAL POR EL TÉRMINO DE 3 MESES  YUCATAN  \n",
       "\n",
       "[1 rows x 26 columns]"
      ]
     },
     "execution_count": 58,
     "metadata": {},
     "output_type": "execute_result"
    }
   ],
   "source": [
    "yucatan = read_all_json('/content/drive/MyDrive/Colab Notebooks/dataton_2022/s3s/YUCATAN', 'YUCATAN')\n",
    "yucatan.head(1)"
   ]
  },
  {
   "cell_type": "code",
   "execution_count": null,
   "metadata": {
    "colab": {
     "base_uri": "https://localhost:8080/"
    },
    "id": "VwVvyvuC-I28",
    "outputId": "5766969b-7314-4169-e8d8-7261e7453013"
   },
   "outputs": [
    {
     "data": {
      "text/plain": [
       "Index(['id', 'expediente', 'autoridadSancionadora', 'tipoSancion',\n",
       "       'causaMotivoHechos', 'fechaCaptura', '__v',\n",
       "       'institucionDependencia.nombre', 'institucionDependencia.siglas',\n",
       "       'servidorPublicoSancionado.nombres',\n",
       "       'servidorPublicoSancionado.primerApellido',\n",
       "       'servidorPublicoSancionado.segundoApellido',\n",
       "       'servidorPublicoSancionado.puesto', 'tipoFalta.clave',\n",
       "       'tipoFalta.valor', 'tipoFalta.descripcion',\n",
       "       'resolucion.fechaResolucion', 'inhabilitacion.plazo',\n",
       "       'inhabilitacion.fechaInicial', 'inhabilitacion.fechaFinal',\n",
       "       'institucionDependencia.clave', 'servidorPublicoSancionado.nivel',\n",
       "       'tipoSancion.clave', 'tipoSancion.valor', 'tipoSancion.descripcion',\n",
       "       'estado'],\n",
       "      dtype='object')"
      ]
     },
     "execution_count": 59,
     "metadata": {},
     "output_type": "execute_result"
    }
   ],
   "source": [
    "yucatan.columns"
   ]
  },
  {
   "cell_type": "code",
   "execution_count": null,
   "metadata": {
    "id": "G24Z4WFZ-T8m"
   },
   "outputs": [],
   "source": [
    "yucatan = name_clean(yucatan)"
   ]
  },
  {
   "cell_type": "code",
   "execution_count": null,
   "metadata": {
    "colab": {
     "base_uri": "https://localhost:8080/"
    },
    "id": "hOXPiAl5-tgH",
    "outputId": "7ecaad22-c1cf-46a8-db1f-bf23c0223245"
   },
   "outputs": [
    {
     "data": {
      "text/plain": [
       "(4, 21)"
      ]
     },
     "execution_count": 61,
     "metadata": {},
     "output_type": "execute_result"
    }
   ],
   "source": [
    "yucatan.shape"
   ]
  },
  {
   "cell_type": "code",
   "execution_count": null,
   "metadata": {
    "id": "cD_LWng1iyXj"
   },
   "outputs": [],
   "source": [
    "df_final = pd.concat([chiapas, durango, edomex, edomex_2, jalisco, michoacan, \n",
    "                      puebla, quintana, quintana_2,sfp, sfp_2, yucatan], sort=False)"
   ]
  },
  {
   "cell_type": "code",
   "execution_count": null,
   "metadata": {
    "colab": {
     "base_uri": "https://localhost:8080/"
    },
    "id": "bvpYD_i-iyXk",
    "outputId": "677f4ba5-4530-47e9-ef90-ed624e3af439"
   },
   "outputs": [
    {
     "data": {
      "text/plain": [
       "(6308, 32)"
      ]
     },
     "execution_count": 63,
     "metadata": {},
     "output_type": "execute_result"
    }
   ],
   "source": [
    "df_final.shape"
   ]
  },
  {
   "cell_type": "code",
   "execution_count": null,
   "metadata": {
    "colab": {
     "base_uri": "https://localhost:8080/"
    },
    "id": "g_O4GhCYiyXm",
    "outputId": "5aea7ccd-9f59-489c-cd01-8ac98aa51299"
   },
   "outputs": [
    {
     "data": {
      "text/plain": [
       "Index(['id', 'fechaCaptura', 'autoridadSancionadora', 'tipoSancion',\n",
       "       'causaMotivoHechos', 'institucionDependencia.nombre',\n",
       "       'institucionDependencia.siglas', 'institucionDependencia.clave',\n",
       "       'servidorPublicoSancionado.genero.clave',\n",
       "       'servidorPublicoSancionado.puesto', 'servidorPublicoSancionado.nivel',\n",
       "       'tipoFalta.clave', 'tipoFalta.valor', 'resolucion.fechaResolucion',\n",
       "       'multa.monto', 'multa.moneda.clave', 'inhabilitacion.plazo',\n",
       "       'inhabilitacion.fechaInicial', 'inhabilitacion.fechaFinal',\n",
       "       'tipoSancion.clave', 'estado',\n",
       "       'servidorPublicoSancionado.nombreCompleto', 'tipoSancion.descripcion',\n",
       "       'observaciones', 'tipoFalta.descripcion', 'objetoContrato', 'tipoFalta',\n",
       "       'acto', 'servidorPublicoSancionado.curp',\n",
       "       'servidorPublicoSancionado.rfc', 'numeroSanciones',\n",
       "       'resolucion.fechaNotificacion'],\n",
       "      dtype='object')"
      ]
     },
     "execution_count": 64,
     "metadata": {},
     "output_type": "execute_result"
    }
   ],
   "source": [
    "df_final.columns"
   ]
  },
  {
   "cell_type": "code",
   "execution_count": null,
   "metadata": {
    "id": "S8gUhi3siyXp"
   },
   "outputs": [],
   "source": [
    "df_final.to_csv('/content/drive/MyDrive/Colab Notebooks/dataton_2022/S3.csv', encoding='utf-8', index=False)"
   ]
  },
  {
   "cell_type": "code",
   "execution_count": null,
   "metadata": {
    "id": "Ej3Ln_doELht"
   },
   "outputs": [],
   "source": [
    "import missingno"
   ]
  },
  {
   "cell_type": "code",
   "execution_count": null,
   "metadata": {
    "colab": {
     "base_uri": "https://localhost:8080/",
     "height": 568
    },
    "id": "uW1IxRFSENpZ",
    "outputId": "2c400619-707b-4ac2-a25f-c21781d79e61"
   },
   "outputs": [
    {
     "data": {
      "text/plain": [
       "<matplotlib.axes._subplots.AxesSubplot at 0x7f31fda2e6a0>"
      ]
     },
     "execution_count": 68,
     "metadata": {},
     "output_type": "execute_result"
    },
    {
     "data": {
      "image/png": "[encoded data removed]",
      "text/plain": [
       "<Figure size 1800x720 with 2 Axes>"
      ]
     },
     "metadata": {
      "needs_background": "light"
     },
     "output_type": "display_data"
    }
   ],
   "source": [
    "missingno.matrix(df_final)"
   ]
  },
  {
   "cell_type": "code",
   "execution_count": null,
   "metadata": {
    "colab": {
     "base_uri": "https://localhost:8080/"
    },
    "id": "q1T3iepLEQrd",
    "outputId": "d77d3056-8542-4d8f-bae3-be6cfa25b4f1"
   },
   "outputs": [
    {
     "data": {
      "text/plain": [
       "Dato no proporcionado    2142\n",
       "                            4\n",
       "SOBORNO                     1\n",
       "Name: acto, dtype: int64"
      ]
     },
     "execution_count": 77,
     "metadata": {},
     "output_type": "execute_result"
    }
   ],
   "source": [
    "df_final['acto'].value_counts()"
   ]
  },
  {
   "cell_type": "code",
   "execution_count": null,
   "metadata": {
    "colab": {
     "base_uri": "https://localhost:8080/"
    },
    "id": "vOTGoA_SHMpU",
    "outputId": "fbe15292-cc2b-41f7-8e09-4e37abde6762"
   },
   "outputs": [
    {
     "data": {
      "text/plain": [
       "Dato no proporcionado    2142\n",
       "ADMINISTRATIVA GRAVE        4\n",
       "ABUSO DE FUNCIONES          1\n",
       "Name: tipoFalta, dtype: int64"
      ]
     },
     "execution_count": 78,
     "metadata": {},
     "output_type": "execute_result"
    }
   ],
   "source": [
    "df_final['tipoFalta'].value_counts()"
   ]
  },
  {
   "cell_type": "code",
   "execution_count": null,
   "metadata": {
    "colab": {
     "base_uri": "https://localhost:8080/"
    },
    "id": "mSIhriLxHqPd",
    "outputId": "f650f18d-ce58-4f04-84fb-5b823d86f636"
   },
   "outputs": [
    {
     "data": {
      "text/plain": [
       "Dato no proporcionado    2142\n",
       "                            4\n",
       "Name: objetoContrato, dtype: int64"
      ]
     },
     "execution_count": 79,
     "metadata": {},
     "output_type": "execute_result"
    }
   ],
   "source": [
    "df_final['objetoContrato'].value_counts()"
   ]
  },
  {
   "cell_type": "code",
   "execution_count": null,
   "metadata": {
    "colab": {
     "base_uri": "https://localhost:8080/"
    },
    "id": "S7WvEMDHHvfB",
    "outputId": "18bd8ccc-bd9b-489e-9e49-c9a18baa9847"
   },
   "outputs": [
    {
     "data": {
      "text/plain": [
       "Dato no proporcionado                                     3000\n",
       "INCUMPLIMIENTO EN DECLARACION DE SITUACION PATRIMONIAL     460\n",
       "ADMINISTRATIVA NO GRAVE                                    252\n",
       "OTRO                                                       125\n",
       "ADMINISTRATIVA GRAVE                                       102\n",
       "VIOLACION LEYES Y NORMATIVIDAD PRESUPUESTAL                 90\n",
       "NEGLIGENCIA ADMINISTRATIVA                                  88\n",
       "ABUSO DE AUTORIDAD                                          13\n",
       "VIOLACION PROCEDIMIENTOS DE CONTRATACION                    13\n",
       "ABUSO DE FUNCIONES                                           9\n",
       "COHECHO O EXTORSION                                          5\n",
       "OBSTRUCCIÓN DE LA JUSTICIA                                   2\n",
       "VIOLACION A LOS DERECHOS HUMANOS                             1\n",
       "DESVÍO DE RECURSOS PÚBLICOS                                  1\n",
       "Name: tipoFalta.valor, dtype: int64"
      ]
     },
     "execution_count": 80,
     "metadata": {},
     "output_type": "execute_result"
    }
   ],
   "source": [
    "df_final['tipoFalta.valor'].value_counts()"
   ]
  },
  {
   "cell_type": "code",
   "execution_count": null,
   "metadata": {
    "colab": {
     "base_uri": "https://localhost:8080/"
    },
    "id": "3OazI3NCH7C5",
    "outputId": "6ff84e6c-e407-4d44-e6f0-8d8f07fd9631"
   },
   "outputs": [
    {
     "data": {
      "text/plain": [
       "SFP             5142\n",
       "JALISCO          730\n",
       "PUEBLA           263\n",
       "EDOMEX           100\n",
       "MICHOACAN         36\n",
       "CHIAPAS           27\n",
       "QUINTANA ROO       5\n",
       "YUCATAN            4\n",
       "DURANGO            1\n",
       "Name: estado, dtype: int64"
      ]
     },
     "execution_count": 81,
     "metadata": {},
     "output_type": "execute_result"
    }
   ],
   "source": [
    "df_final['estado'].value_counts()"
   ]
  },
  {
   "cell_type": "code",
   "execution_count": null,
   "metadata": {
    "colab": {
     "base_uri": "https://localhost:8080/"
    },
    "id": "i-5SlZo3LDA_",
    "outputId": "9c9ed2e8-e7f4-4046-b8a7-b2f6e6414937"
   },
   "outputs": [
    {
     "data": {
      "text/plain": [
       "ORGANO INTERNO DE CONTROL                                                                       1612\n",
       "CONTRALORIA DE ESTADO                                                                            674\n",
       "INSTITUTO MEXICANO DEL SEGURO SOCIAL                                                             401\n",
       "OIC Ayuntamiento de Tlajomulco de Zuñiga                                                         335\n",
       "SECRETARIA DE LA FUNCI�N P�BLICA                                                                 281\n",
       "                                                                                                ... \n",
       "PUEBLA                                                                                             1\n",
       "JUEZ QUINTO PENAL DEL ESTADO DE PUEBLA                                                             1\n",
       "CONSEJO NACIONAL DE EVALUACIONES DE LA POLITICA DE DESARROLLO SOCIAL                               1\n",
       "INFOTEC CENTRO DE INVESTIGACI�N E INNOVACI�N EN TECNOLOG�AS DE LA INFORMACI�N Y COMUNICACI�N       1\n",
       "CONTRALORA MUNICIPAL DEL H. AYUNTAMIENTO DE ATLIXCO, PUEBLA                                        1\n",
       "Name: autoridadSancionadora, Length: 333, dtype: int64"
      ]
     },
     "execution_count": 82,
     "metadata": {},
     "output_type": "execute_result"
    }
   ],
   "source": [
    "df_final['autoridadSancionadora'].value_counts()"
   ]
  },
  {
   "cell_type": "code",
   "execution_count": null,
   "metadata": {
    "colab": {
     "base_uri": "https://localhost:8080/"
    },
    "id": "0v7mUfW3Lzue",
    "outputId": "2f74a7d2-8e30-4646-9e78-89e8e3d01fca"
   },
   "outputs": [
    {
     "data": {
      "text/plain": [
       "INSTITUTO MEXICANO DEL SEGURO SOCIAL                                                     401\n",
       "Ayuntamiento de Tlajomulco                                                               336\n",
       "SECRETARIA DE LA FUNCI�N P�BLICA                                                         281\n",
       "GOBIERNO DEL ESTADO DE HIDALGO                                                           235\n",
       "COMISION FEDERAL DE ELECTRICIDAD                                                         227\n",
       "                                                                                        ... \n",
       "AYUNTAMIENTO DE SANTIAGO MIAHUATLAN, PUEBLA.                                               1\n",
       "SEGUNDO TRIBUNAL UNITARIO DEL SEXTO CIRCUITO EN SAN ANDRES CHOLULA                         1\n",
       "DELEGACIÓN DE LA PROCURADURÍA GENERAL DE LA REPÚBLICA EN EL ESTADO DE SAN LUIS POTOSÍ      1\n",
       "AYUNTAMIENTO DE HUEYTLALPAN, PUEBLA                                                        1\n",
       "Instituto para la Construcción y Conservación de Obra Pública en Yucatán                   1\n",
       "Name: institucionDependencia.nombre, Length: 594, dtype: int64"
      ]
     },
     "execution_count": 83,
     "metadata": {},
     "output_type": "execute_result"
    }
   ],
   "source": [
    "df_final['institucionDependencia.nombre'].value_counts()"
   ]
  }
 ],
 "metadata": {
  "colab": {
   "provenance": []
  },
  "kernelspec": {
   "display_name": "Python 3 (ipykernel)",
   "language": "python",
   "name": "python3"
  },
  "language_info": {
   "codemirror_mode": {
    "name": "ipython",
    "version": 3
   },
   "file_extension": ".py",
   "mimetype": "text/x-python",
   "name": "python",
   "nbconvert_exporter": "python",
   "pygments_lexer": "ipython3",
   "version": "3.10.6"
  },
  "vscode": {
   "interpreter": {
    "hash": "04eb5fd3382f5ae6ecd8e5ea5943a43c2b77f84302c9ef3aee2bb26e0a62d38e"
   }
  }
 },
 "nbformat": 4,
 "nbformat_minor": 1
}
