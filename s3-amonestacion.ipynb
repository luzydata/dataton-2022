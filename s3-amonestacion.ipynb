{
 "cells": [
  {
   "cell_type": "code",
   "execution_count": 1,
   "id": "c9faf1ed",
   "metadata": {},
   "outputs": [],
   "source": [
    "import pandas as pd\n",
    "import json"
   ]
  },
  {
   "cell_type": "code",
   "execution_count": 2,
   "id": "076a5378",
   "metadata": {},
   "outputs": [],
   "source": [
    "chi001 = pd.read_json(\"./raw_data/s3/CHIAPAS/data-0000000001.json\", \n",
    "             orient=None,\n",
    "             typ='frame', \n",
    "             dtype=None, \n",
    "             convert_axes=None, \n",
    "             convert_dates=True, \n",
    "             keep_default_dates=True, \n",
    "             #numpy=False, \n",
    "             precise_float=False, \n",
    "             date_unit=None, \n",
    "             encoding=None, \n",
    "             encoding_errors='strict', \n",
    "             lines=False, \n",
    "             chunksize=None, \n",
    "             compression='infer', \n",
    "             nrows=None, \n",
    "             storage_options=None\n",
    "            )"
   ]
  },
  {
   "cell_type": "code",
   "execution_count": 7,
   "id": "fbbe1741",
   "metadata": {},
   "outputs": [
    {
     "data": {
      "text/html": [
       "<div>\n",
       "<style scoped>\n",
       "    .dataframe tbody tr th:only-of-type {\n",
       "        vertical-align: middle;\n",
       "    }\n",
       "\n",
       "    .dataframe tbody tr th {\n",
       "        vertical-align: top;\n",
       "    }\n",
       "\n",
       "    .dataframe thead th {\n",
       "        text-align: right;\n",
       "    }\n",
       "</style>\n",
       "<table border=\"1\" class=\"dataframe\">\n",
       "  <thead>\n",
       "    <tr style=\"text-align: right;\">\n",
       "      <th></th>\n",
       "      <th>id</th>\n",
       "      <th>fechaCaptura</th>\n",
       "      <th>expediente</th>\n",
       "      <th>institucionDependencia</th>\n",
       "      <th>servidorPublicoSancionado</th>\n",
       "      <th>autoridadSancionadora</th>\n",
       "      <th>tipoFalta</th>\n",
       "      <th>tipoSancion</th>\n",
       "      <th>causaMotivoHechos</th>\n",
       "      <th>resolucion</th>\n",
       "      <th>multa</th>\n",
       "      <th>inhabilitacion</th>\n",
       "    </tr>\n",
       "  </thead>\n",
       "  <tbody>\n",
       "    <tr>\n",
       "      <th>0</th>\n",
       "      <td>b411f02b-5ea7-489e-93e5-9eca24d090f6</td>\n",
       "      <td>2022-05-06T00:00:00Z</td>\n",
       "      <td>CA/012/2022</td>\n",
       "      <td>{'nombre': 'Fiscalia General del Estado', 'sig...</td>\n",
       "      <td>{'nombres': 'ANDRES', 'primerApellido': 'REYES...</td>\n",
       "      <td>DATOS NO PROPORCIONADOS</td>\n",
       "      <td>{'clave': 'OTRO', 'valor': 'OTRO'}</td>\n",
       "      <td>[{'clave': 'I', 'valor': 'INHABILITADO'}]</td>\n",
       "      <td>DATOS NO PROPORCIONADOS</td>\n",
       "      <td>{'url': 'DATOS NO PROPORCIONADOS', 'fechaResol...</td>\n",
       "      <td>{'monto': 0, 'moneda': {'clave': 'MXN', 'valor...</td>\n",
       "      <td>{'plazo': '3 MESES', 'fechaInicial': '2022-02-...</td>\n",
       "    </tr>\n",
       "    <tr>\n",
       "      <th>1</th>\n",
       "      <td>65b3929d-b116-4ba8-9eb6-398baca819fb</td>\n",
       "      <td>2022-05-07T00:00:00Z</td>\n",
       "      <td>CA/001/2022</td>\n",
       "      <td>{'nombre': 'Fiscalia General del Estado', 'sig...</td>\n",
       "      <td>{'nombres': 'KARINA LIZBETH', 'primerApellido'...</td>\n",
       "      <td>DATOS NO PROPORCIONADOS</td>\n",
       "      <td>{'clave': 'OTRO', 'valor': 'OTRO'}</td>\n",
       "      <td>[{'clave': 'I', 'valor': 'INHABILITADO'}]</td>\n",
       "      <td>DATOS NO PROPORCIONADOS</td>\n",
       "      <td>{'url': 'DATOS NO PROPORCIONADOS', 'fechaResol...</td>\n",
       "      <td>{'monto': 0, 'moneda': {'clave': 'MXN', 'valor...</td>\n",
       "      <td>{'plazo': '3 MESES', 'fechaInicial': '2021-12-...</td>\n",
       "    </tr>\n",
       "  </tbody>\n",
       "</table>\n",
       "</div>"
      ],
      "text/plain": [
       "                                     id          fechaCaptura   expediente  \\\n",
       "0  b411f02b-5ea7-489e-93e5-9eca24d090f6  2022-05-06T00:00:00Z  CA/012/2022   \n",
       "1  65b3929d-b116-4ba8-9eb6-398baca819fb  2022-05-07T00:00:00Z  CA/001/2022   \n",
       "\n",
       "                              institucionDependencia  \\\n",
       "0  {'nombre': 'Fiscalia General del Estado', 'sig...   \n",
       "1  {'nombre': 'Fiscalia General del Estado', 'sig...   \n",
       "\n",
       "                           servidorPublicoSancionado    autoridadSancionadora  \\\n",
       "0  {'nombres': 'ANDRES', 'primerApellido': 'REYES...  DATOS NO PROPORCIONADOS   \n",
       "1  {'nombres': 'KARINA LIZBETH', 'primerApellido'...  DATOS NO PROPORCIONADOS   \n",
       "\n",
       "                            tipoFalta  \\\n",
       "0  {'clave': 'OTRO', 'valor': 'OTRO'}   \n",
       "1  {'clave': 'OTRO', 'valor': 'OTRO'}   \n",
       "\n",
       "                                 tipoSancion        causaMotivoHechos  \\\n",
       "0  [{'clave': 'I', 'valor': 'INHABILITADO'}]  DATOS NO PROPORCIONADOS   \n",
       "1  [{'clave': 'I', 'valor': 'INHABILITADO'}]  DATOS NO PROPORCIONADOS   \n",
       "\n",
       "                                          resolucion  \\\n",
       "0  {'url': 'DATOS NO PROPORCIONADOS', 'fechaResol...   \n",
       "1  {'url': 'DATOS NO PROPORCIONADOS', 'fechaResol...   \n",
       "\n",
       "                                               multa  \\\n",
       "0  {'monto': 0, 'moneda': {'clave': 'MXN', 'valor...   \n",
       "1  {'monto': 0, 'moneda': {'clave': 'MXN', 'valor...   \n",
       "\n",
       "                                      inhabilitacion  \n",
       "0  {'plazo': '3 MESES', 'fechaInicial': '2022-02-...  \n",
       "1  {'plazo': '3 MESES', 'fechaInicial': '2021-12-...  "
      ]
     },
     "execution_count": 7,
     "metadata": {},
     "output_type": "execute_result"
    }
   ],
   "source": [
    "chi001.head(2)"
   ]
  },
  {
   "cell_type": "code",
   "execution_count": 13,
   "id": "28764389",
   "metadata": {},
   "outputs": [
    {
     "data": {
      "text/plain": [
       "id                                        b411f02b-5ea7-489e-93e5-9eca24d090f6\n",
       "fechaCaptura                                              2022-05-06T00:00:00Z\n",
       "expediente                                                         CA/012/2022\n",
       "institucionDependencia       {'nombre': 'Fiscalia General del Estado', 'sig...\n",
       "servidorPublicoSancionado    {'nombres': 'ANDRES', 'primerApellido': 'REYES...\n",
       "autoridadSancionadora                                  DATOS NO PROPORCIONADOS\n",
       "tipoFalta                                   {'clave': 'OTRO', 'valor': 'OTRO'}\n",
       "tipoSancion                          [{'clave': 'I', 'valor': 'INHABILITADO'}]\n",
       "causaMotivoHechos                                      DATOS NO PROPORCIONADOS\n",
       "resolucion                   {'url': 'DATOS NO PROPORCIONADOS', 'fechaResol...\n",
       "multa                        {'monto': 0, 'moneda': {'clave': 'MXN', 'valor...\n",
       "inhabilitacion               {'plazo': '3 MESES', 'fechaInicial': '2022-02-...\n",
       "Name: 0, dtype: object"
      ]
     },
     "execution_count": 13,
     "metadata": {},
     "output_type": "execute_result"
    }
   ],
   "source": [
    "chi001.loc[0]"
   ]
  },
  {
   "cell_type": "code",
   "execution_count": 9,
   "id": "0d878d73",
   "metadata": {},
   "outputs": [
    {
     "data": {
      "text/plain": [
       "{'nombre': 'Fiscalia General del Estado', 'siglas': 'FGE', 'clave': '78'}"
      ]
     },
     "execution_count": 9,
     "metadata": {},
     "output_type": "execute_result"
    }
   ],
   "source": [
    "chi001.loc[0]['institucionDependencia']"
   ]
  },
  {
   "cell_type": "code",
   "execution_count": 10,
   "id": "8f007b97",
   "metadata": {},
   "outputs": [
    {
     "data": {
      "text/plain": [
       "{'nombres': 'ANDRES',\n",
       " 'primerApellido': 'REYES',\n",
       " 'segundoApellido': 'ENRIQUEZ',\n",
       " 'genero': {'clave': 'M', 'valor': 'MASCULINO'},\n",
       " 'puesto': 'FISCAL DEL MINISTERIO PUBLICO, ADSCRITO A LA FISCALIA DE LA MUJER',\n",
       " 'nivel': 'DATOS NO PROPORCIONADOS'}"
      ]
     },
     "execution_count": 10,
     "metadata": {},
     "output_type": "execute_result"
    }
   ],
   "source": [
    "chi001.loc[0]['servidorPublicoSancionado']"
   ]
  },
  {
   "cell_type": "code",
   "execution_count": 11,
   "id": "d6790cec",
   "metadata": {},
   "outputs": [
    {
     "data": {
      "text/plain": [
       "{'clave': 'OTRO', 'valor': 'OTRO'}"
      ]
     },
     "execution_count": 11,
     "metadata": {},
     "output_type": "execute_result"
    }
   ],
   "source": [
    "chi001.loc[0]['tipoFalta']"
   ]
  },
  {
   "cell_type": "code",
   "execution_count": 14,
   "id": "b60d740d",
   "metadata": {},
   "outputs": [
    {
     "data": {
      "text/plain": [
       "{'clave': 'OTRO', 'valor': 'OTRO'}"
      ]
     },
     "execution_count": 14,
     "metadata": {},
     "output_type": "execute_result"
    }
   ],
   "source": [
    "chi001.loc[0]['tipoFalta']"
   ]
  },
  {
   "cell_type": "code",
   "execution_count": 15,
   "id": "08308567",
   "metadata": {},
   "outputs": [
    {
     "data": {
      "text/plain": [
       "[{'clave': 'I', 'valor': 'INHABILITADO'}]"
      ]
     },
     "execution_count": 15,
     "metadata": {},
     "output_type": "execute_result"
    }
   ],
   "source": [
    "chi001.loc[0]['tipoSancion']"
   ]
  },
  {
   "cell_type": "code",
   "execution_count": null,
   "id": "87969e0a",
   "metadata": {},
   "outputs": [],
   "source": [
    "#causaMotivoHechos"
   ]
  },
  {
   "cell_type": "code",
   "execution_count": 16,
   "id": "fff12b21",
   "metadata": {},
   "outputs": [
    {
     "data": {
      "text/plain": [
       "{'url': 'DATOS NO PROPORCIONADOS', 'fechaResolucion': '2022-01-12'}"
      ]
     },
     "execution_count": 16,
     "metadata": {},
     "output_type": "execute_result"
    }
   ],
   "source": [
    "chi001.loc[0]['resolucion']"
   ]
  },
  {
   "cell_type": "code",
   "execution_count": 17,
   "id": "708b357b",
   "metadata": {},
   "outputs": [
    {
     "data": {
      "text/plain": [
       "{'monto': 0, 'moneda': {'clave': 'MXN', 'valor': 'PESO MEXICANO'}}"
      ]
     },
     "execution_count": 17,
     "metadata": {},
     "output_type": "execute_result"
    }
   ],
   "source": [
    "chi001.loc[0]['multa']"
   ]
  },
  {
   "cell_type": "code",
   "execution_count": 18,
   "id": "5a0fe87e",
   "metadata": {},
   "outputs": [
    {
     "data": {
      "text/plain": [
       "{'plazo': '3 MESES', 'fechaInicial': '2022-02-15', 'fechaFinal': '2022-05-15'}"
      ]
     },
     "execution_count": 18,
     "metadata": {},
     "output_type": "execute_result"
    }
   ],
   "source": [
    "chi001.loc[0]['inhabilitacion']"
   ]
  },
  {
   "cell_type": "markdown",
   "id": "1340500c",
   "metadata": {},
   "source": [
    "# SFP (Secretaría de la Función Pública?)"
   ]
  },
  {
   "cell_type": "code",
   "execution_count": 4,
   "id": "cbeb7d89",
   "metadata": {},
   "outputs": [],
   "source": [
    "chi_SFP = pd.read_json(\"./raw_data/s3/SFP/data-0000000001.json\", \n",
    "             orient=None,\n",
    "             typ='frame', \n",
    "             dtype=None, \n",
    "             convert_axes=None, \n",
    "             convert_dates=True, \n",
    "             keep_default_dates=True, \n",
    "             #numpy=False, \n",
    "             precise_float=False, \n",
    "             date_unit=None, \n",
    "             encoding=None, \n",
    "             encoding_errors='strict', \n",
    "             lines=False, \n",
    "             chunksize=None, \n",
    "             compression='infer', \n",
    "             nrows=None, \n",
    "             storage_options=None\n",
    "            )"
   ]
  },
  {
   "cell_type": "code",
   "execution_count": 5,
   "id": "2be3ecaa",
   "metadata": {},
   "outputs": [
    {
     "data": {
      "text/html": [
       "<div>\n",
       "<style scoped>\n",
       "    .dataframe tbody tr th:only-of-type {\n",
       "        vertical-align: middle;\n",
       "    }\n",
       "\n",
       "    .dataframe tbody tr th {\n",
       "        vertical-align: top;\n",
       "    }\n",
       "\n",
       "    .dataframe thead th {\n",
       "        text-align: right;\n",
       "    }\n",
       "</style>\n",
       "<table border=\"1\" class=\"dataframe\">\n",
       "  <thead>\n",
       "    <tr style=\"text-align: right;\">\n",
       "      <th></th>\n",
       "      <th>id</th>\n",
       "      <th>institucionDependencia</th>\n",
       "      <th>servidorPublicoSancionado</th>\n",
       "      <th>tipoFalta</th>\n",
       "      <th>resolucion</th>\n",
       "      <th>multa</th>\n",
       "      <th>inhabilitacion</th>\n",
       "      <th>fechaCaptura</th>\n",
       "      <th>expediente</th>\n",
       "      <th>autoridadSancionadora</th>\n",
       "      <th>tipoSancion</th>\n",
       "      <th>causaMotivoHechos</th>\n",
       "      <th>observaciones</th>\n",
       "    </tr>\n",
       "  </thead>\n",
       "  <tbody>\n",
       "    <tr>\n",
       "      <th>0</th>\n",
       "      <td>630d3b3390bf7b1af7b620f7</td>\n",
       "      <td>{'nombre': 'GOBIERNO DE LA CIUDAD DE MEXICO', ...</td>\n",
       "      <td>{'nombres': 'YONATAN', 'primerApellido': 'SALA...</td>\n",
       "      <td>{'clave': '', 'valor': 'Dato no proporcionado'}</td>\n",
       "      <td>{'fechaResolucion': '27/06/2013'}</td>\n",
       "      <td>{'moneda': {'clave': 'MXN', 'valor': 'MXN'}}</td>\n",
       "      <td>{'fechaInicial': '27/06/2013', 'fechaFinal': '...</td>\n",
       "      <td>18/05/2015</td>\n",
       "      <td>CI/SOS/A/0083/2012</td>\n",
       "      <td>CONTRALORIA DE ESTADO</td>\n",
       "      <td>[{'clave': 'I', 'valor': 'INHABILITADO'}]</td>\n",
       "      <td>NEGLIGENCIA ADMINISTRATIVA</td>\n",
       "      <td>NO LOS PRECISAN.</td>\n",
       "    </tr>\n",
       "    <tr>\n",
       "      <th>1</th>\n",
       "      <td>630d3b3390bf7b1af7b620f6</td>\n",
       "      <td>{'nombre': 'INSTITUTO DE SEGURIDAD Y SERVICIOS...</td>\n",
       "      <td>{'nombres': 'ZULAIDA', 'primerApellido': 'SILV...</td>\n",
       "      <td>{'clave': '', 'valor': 'Dato no proporcionado'}</td>\n",
       "      <td>{'fechaResolucion': '06/08/2018'}</td>\n",
       "      <td>{'moneda': {'clave': 'MXN', 'valor': 'MXN'}}</td>\n",
       "      <td>{'fechaInicial': '06/08/2018', 'fechaFinal': '...</td>\n",
       "      <td>31/01/2019</td>\n",
       "      <td>000930/2015</td>\n",
       "      <td>ORGANO INTERNO DE CONTROL</td>\n",
       "      <td>[{'clave': 'I', 'valor': 'INHABILITADO'}]</td>\n",
       "      <td>NEGLIGENCIA ADMINISTRATIVA</td>\n",
       "      <td>NO REALIZ� UNA ADECUADA DEFENSA JUR�DICA DENTR...</td>\n",
       "    </tr>\n",
       "  </tbody>\n",
       "</table>\n",
       "</div>"
      ],
      "text/plain": [
       "                         id  \\\n",
       "0  630d3b3390bf7b1af7b620f7   \n",
       "1  630d3b3390bf7b1af7b620f6   \n",
       "\n",
       "                              institucionDependencia  \\\n",
       "0  {'nombre': 'GOBIERNO DE LA CIUDAD DE MEXICO', ...   \n",
       "1  {'nombre': 'INSTITUTO DE SEGURIDAD Y SERVICIOS...   \n",
       "\n",
       "                           servidorPublicoSancionado  \\\n",
       "0  {'nombres': 'YONATAN', 'primerApellido': 'SALA...   \n",
       "1  {'nombres': 'ZULAIDA', 'primerApellido': 'SILV...   \n",
       "\n",
       "                                         tipoFalta  \\\n",
       "0  {'clave': '', 'valor': 'Dato no proporcionado'}   \n",
       "1  {'clave': '', 'valor': 'Dato no proporcionado'}   \n",
       "\n",
       "                          resolucion  \\\n",
       "0  {'fechaResolucion': '27/06/2013'}   \n",
       "1  {'fechaResolucion': '06/08/2018'}   \n",
       "\n",
       "                                          multa  \\\n",
       "0  {'moneda': {'clave': 'MXN', 'valor': 'MXN'}}   \n",
       "1  {'moneda': {'clave': 'MXN', 'valor': 'MXN'}}   \n",
       "\n",
       "                                      inhabilitacion fechaCaptura  \\\n",
       "0  {'fechaInicial': '27/06/2013', 'fechaFinal': '...   18/05/2015   \n",
       "1  {'fechaInicial': '06/08/2018', 'fechaFinal': '...   31/01/2019   \n",
       "\n",
       "           expediente      autoridadSancionadora  \\\n",
       "0  CI/SOS/A/0083/2012      CONTRALORIA DE ESTADO   \n",
       "1         000930/2015  ORGANO INTERNO DE CONTROL   \n",
       "\n",
       "                                 tipoSancion           causaMotivoHechos  \\\n",
       "0  [{'clave': 'I', 'valor': 'INHABILITADO'}]  NEGLIGENCIA ADMINISTRATIVA   \n",
       "1  [{'clave': 'I', 'valor': 'INHABILITADO'}]  NEGLIGENCIA ADMINISTRATIVA   \n",
       "\n",
       "                                       observaciones  \n",
       "0                                   NO LOS PRECISAN.  \n",
       "1  NO REALIZ� UNA ADECUADA DEFENSA JUR�DICA DENTR...  "
      ]
     },
     "execution_count": 5,
     "metadata": {},
     "output_type": "execute_result"
    }
   ],
   "source": [
    "chi_SFP.head(2)"
   ]
  },
  {
   "cell_type": "code",
   "execution_count": 6,
   "id": "219467c3",
   "metadata": {},
   "outputs": [
    {
     "data": {
      "text/plain": [
       "id                                                    630d3b3390bf7b1af7b620f7\n",
       "institucionDependencia       {'nombre': 'GOBIERNO DE LA CIUDAD DE MEXICO', ...\n",
       "servidorPublicoSancionado    {'nombres': 'YONATAN', 'primerApellido': 'SALA...\n",
       "tipoFalta                      {'clave': '', 'valor': 'Dato no proporcionado'}\n",
       "resolucion                                   {'fechaResolucion': '27/06/2013'}\n",
       "multa                             {'moneda': {'clave': 'MXN', 'valor': 'MXN'}}\n",
       "inhabilitacion               {'fechaInicial': '27/06/2013', 'fechaFinal': '...\n",
       "fechaCaptura                                                        18/05/2015\n",
       "expediente                                                  CI/SOS/A/0083/2012\n",
       "autoridadSancionadora                                    CONTRALORIA DE ESTADO\n",
       "tipoSancion                          [{'clave': 'I', 'valor': 'INHABILITADO'}]\n",
       "causaMotivoHechos                                   NEGLIGENCIA ADMINISTRATIVA\n",
       "observaciones                                                 NO LOS PRECISAN.\n",
       "Name: 0, dtype: object"
      ]
     },
     "execution_count": 6,
     "metadata": {},
     "output_type": "execute_result"
    }
   ],
   "source": [
    "chi_SFP.loc[0]"
   ]
  },
  {
   "cell_type": "code",
   "execution_count": 10,
   "id": "0548b26d",
   "metadata": {},
   "outputs": [
    {
     "data": {
      "text/plain": [
       "{'nombres': 'YOLANDA',\n",
       " 'primerApellido': 'CHAVEZ',\n",
       " 'segundoApellido': 'CENTENO',\n",
       " 'puesto': 'SECRETARIA'}"
      ]
     },
     "execution_count": 10,
     "metadata": {},
     "output_type": "execute_result"
    }
   ],
   "source": [
    "chi_SFP.loc[4]['servidorPublicoSancionado']"
   ]
  },
  {
   "cell_type": "code",
   "execution_count": null,
   "id": "2b563820",
   "metadata": {},
   "outputs": [],
   "source": []
  }
 ],
 "metadata": {
  "kernelspec": {
   "display_name": "Python 3 (ipykernel)",
   "language": "python",
   "name": "python3"
  },
  "language_info": {
   "codemirror_mode": {
    "name": "ipython",
    "version": 3
   },
   "file_extension": ".py",
   "mimetype": "text/x-python",
   "name": "python",
   "nbconvert_exporter": "python",
   "pygments_lexer": "ipython3",
   "version": "3.10.6"
  }
 },
 "nbformat": 4,
 "nbformat_minor": 5
}
