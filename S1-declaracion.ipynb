{
 "cells": [
  {
   "cell_type": "code",
   "execution_count": 2,
   "id": "6c671b56",
   "metadata": {},
   "outputs": [],
   "source": [
    "import pandas as pd\n",
    "import json"
   ]
  },
  {
   "cell_type": "code",
   "execution_count": null,
   "id": "fe32a71b",
   "metadata": {},
   "outputs": [],
   "source": [
    "baja001 = pd.read_json(\"./raw_data/s1/BajaCaliforniaSur/data-0000000001.json\", \n",
    "             orient=None,\n",
    "             typ='frame', \n",
    "             dtype=None, \n",
    "             convert_axes=None, \n",
    "             convert_dates=True, \n",
    "             keep_default_dates=True, \n",
    "             #numpy=False, \n",
    "             precise_float=False, \n",
    "             date_unit=None, \n",
    "             encoding=None, \n",
    "             encoding_errors='strict', \n",
    "             lines=False, \n",
    "             chunksize=None, \n",
    "             compression='infer', \n",
    "             nrows=None, \n",
    "             storage_options=None\n",
    "            )"
   ]
  },
  {
   "cell_type": "code",
   "execution_count": 3,
   "id": "7c0e3c46",
   "metadata": {},
   "outputs": [],
   "source": [
    "baja001 = pd.read_json(\"./raw_data/s1/BajaCaliforniaSur/data-0000000001.json\", \n",
    "             orient=None,\n",
    "             typ='frame', \n",
    "             dtype=None, \n",
    "             convert_axes=None, \n",
    "             convert_dates=True, \n",
    "             keep_default_dates=True, \n",
    "             #numpy=False, \n",
    "             precise_float=False, \n",
    "             date_unit=None, \n",
    "             encoding=None, \n",
    "             encoding_errors='strict', \n",
    "             lines=False, \n",
    "             chunksize=None, \n",
    "             compression='infer', \n",
    "             nrows=None, \n",
    "             storage_options=None\n",
    "            )"
   ]
  },
  {
   "cell_type": "code",
   "execution_count": 4,
   "id": "7482158f",
   "metadata": {},
   "outputs": [
    {
     "data": {
      "text/html": [
       "<div>\n",
       "<style scoped>\n",
       "    .dataframe tbody tr th:only-of-type {\n",
       "        vertical-align: middle;\n",
       "    }\n",
       "\n",
       "    .dataframe tbody tr th {\n",
       "        vertical-align: top;\n",
       "    }\n",
       "\n",
       "    .dataframe thead th {\n",
       "        text-align: right;\n",
       "    }\n",
       "</style>\n",
       "<table border=\"1\" class=\"dataframe\">\n",
       "  <thead>\n",
       "    <tr style=\"text-align: right;\">\n",
       "      <th></th>\n",
       "      <th>id</th>\n",
       "      <th>metadata</th>\n",
       "      <th>declaracion</th>\n",
       "    </tr>\n",
       "  </thead>\n",
       "  <tbody>\n",
       "    <tr>\n",
       "      <th>0</th>\n",
       "      <td>7719</td>\n",
       "      <td>{'actualizacion': '2022-03-29T00:00:00Z', 'ins...</td>\n",
       "      <td>{'situacionPatrimonial': {'datosGenerales': {'...</td>\n",
       "    </tr>\n",
       "    <tr>\n",
       "      <th>1</th>\n",
       "      <td>7529</td>\n",
       "      <td>{'actualizacion': '2022-05-10T00:00:00Z', 'ins...</td>\n",
       "      <td>{'situacionPatrimonial': {'datosGenerales': {'...</td>\n",
       "    </tr>\n",
       "  </tbody>\n",
       "</table>\n",
       "</div>"
      ],
      "text/plain": [
       "     id                                           metadata  \\\n",
       "0  7719  {'actualizacion': '2022-03-29T00:00:00Z', 'ins...   \n",
       "1  7529  {'actualizacion': '2022-05-10T00:00:00Z', 'ins...   \n",
       "\n",
       "                                         declaracion  \n",
       "0  {'situacionPatrimonial': {'datosGenerales': {'...  \n",
       "1  {'situacionPatrimonial': {'datosGenerales': {'...  "
      ]
     },
     "execution_count": 4,
     "metadata": {},
     "output_type": "execute_result"
    }
   ],
   "source": [
    "baja001.head(2)"
   ]
  },
  {
   "cell_type": "code",
   "execution_count": 16,
   "id": "293f2b85",
   "metadata": {},
   "outputs": [
    {
     "data": {
      "text/plain": [
       "{'actualizacion': '2022-03-29T00:00:00Z',\n",
       " 'institucion': 'H. AYUNTAMIENTO DE LA PAZ',\n",
       " 'actualizacionConflictoInteres': False,\n",
       " 'declaracionCompleta': False,\n",
       " 'tipo': 'INICIAL'}"
      ]
     },
     "execution_count": 16,
     "metadata": {},
     "output_type": "execute_result"
    }
   ],
   "source": [
    "baja001.loc[0]['metadata']"
   ]
  },
  {
   "cell_type": "code",
   "execution_count": 19,
   "id": "839fb540",
   "metadata": {},
   "outputs": [
    {
     "data": {
      "text/plain": [
       "{'situacionPatrimonial': {'datosGenerales': {'nombre': 'ALEJANDRA GUADALUPE',\n",
       "   'primerApellido': 'GUERRERO',\n",
       "   'segundoApellido': 'RIEKE',\n",
       "   'correoElectronico': {'institucional': ''}},\n",
       "  'datosCurricularesDeclarante': {'escolaridad': [{'tipoOperacion': 'AGREGAR',\n",
       "     'nivel': {'clave': 'BCH', 'valor': 'BACHILLERATO'},\n",
       "     'institucionEducativa': {'nombre': 'COBACH 01', 'ubicacion': 'MX'},\n",
       "     'carreraAreaConocimiento': '',\n",
       "     'estatus': 'FINALIZADO',\n",
       "     'documentoObtenido': 'CERTIFICADO',\n",
       "     'fechaObtencion': '2016-07-20'}]},\n",
       "  'datosEmpleoCargoComision': {'tipoOperacion': 'AGREGAR',\n",
       "   'nivelOrdenGobierno': 'MUNICIPAL_ALCALDIA',\n",
       "   'nombreEntePublico': 'H. AYUNTAMIENTO DE LA PAZ',\n",
       "   'areaAdscripcion': 'DIRECCION GENERAL DE SEGURIDAD PUBLICA',\n",
       "   'empleoCargoComision': 'POLICIA COMERCIAL',\n",
       "   'contratadoPorHonorarios': False,\n",
       "   'nivelEmpleoCargoComision': 'POLICIA COMERCIAL',\n",
       "   'funcionPrincipal': 'FUNCIONES DE SEGURIDAD PUBLICA',\n",
       "   'fechaTomaPosesion': '2021-07-16',\n",
       "   'telefonoOficina': {'telefono': '6121237900', 'extension': '0'},\n",
       "   'domicilioMexico': {'calle': 'DE LOS DEPORTISTAS',\n",
       "    'numeroExterior': '0',\n",
       "    'numeroInterior': '0',\n",
       "    'coloniaLocalidad': 'COLONIA UNIDAD DONCELES 28',\n",
       "    'municipioAlcaldia': {'clave': '003', 'valor': 'LA PAZ'},\n",
       "    'entidadFederativa': {'clave': '03', 'valor': 'BAJA CALIFORNIA SUR'},\n",
       "    'codigoPostal': '23078'},\n",
       "   'cuentaConOtroCargoPublico': False,\n",
       "   'otroEmpleoCargoComision': []},\n",
       "  'experienciaLaboral': {'ninguno': True, 'experiencia': []},\n",
       "  'ingresos': {'remuneracionAnualCargoPublico': {'valor': 79271,\n",
       "    'moneda': 'MXN'},\n",
       "   'otrosIngresosAnualesTotal': {'valor': 0, 'moneda': 'MXN'},\n",
       "   'actividadIndustrialComercialEmpresarial': {'remuneracionTotal': {'valor': 0,\n",
       "     'moneda': 'MXN'},\n",
       "    'actividades': []},\n",
       "   'actividadFinanciera': {'remuneracionTotal': {'valor': 0, 'moneda': 'MXN'},\n",
       "    'actividades': []},\n",
       "   'serviciosProfesionales': {'remuneracionTotal': {'valor': 0,\n",
       "     'moneda': 'MXN'},\n",
       "    'servicios': []},\n",
       "   'enajenacionBienes': {'remuneracionTotal': {'valor': 0, 'moneda': 'MXN'},\n",
       "    'bienes': []},\n",
       "   'otrosIngresos': {'remuneracionTotal': {'valor': 0, 'moneda': 'MXN'},\n",
       "    'ingresos': []},\n",
       "   'ingresoAnualNetoDeclarante': {'valor': 79271, 'moneda': 'MXN'},\n",
       "   'totalIngresosAnualesNetos': {'valor': 175271, 'moneda': 'MXN'}},\n",
       "  'bienesInmuebles': {'ninguno': True, 'bienInmueble': []},\n",
       "  'vehiculos': {'ninguno': True, 'vehiculo': []},\n",
       "  'bienesMuebles': {'ninguno': True, 'bienMueble': []},\n",
       "  'inversiones': {'ninguno': True, 'inversion': []},\n",
       "  'adeudos': {'ninguno': True, 'adeudo': []},\n",
       "  'prestamoOComodato': {'ninguno': True, 'prestamo': []}},\n",
       " 'interes': {'participacion': {'ninguno': True, 'participacion': []},\n",
       "  'participacionTomaDecisiones': {'ninguno': True, 'participacion': []},\n",
       "  'apoyos': {'ninguno': True, 'apoyo': []},\n",
       "  'representacion': {'ninguno': True, 'representacion': []},\n",
       "  'clientesPrincipales': {'ninguno': True, 'cliente': []},\n",
       "  'beneficiosPrivados': {'ninguno': True, 'beneficio': []},\n",
       "  'fideicomisos': {'ninguno': True, 'fideicomiso': []}}}"
      ]
     },
     "execution_count": 19,
     "metadata": {},
     "output_type": "execute_result"
    }
   ],
   "source": [
    "baja001.loc[1]['declaracion']"
   ]
  },
  {
   "cell_type": "code",
   "execution_count": null,
   "id": "c544bf41",
   "metadata": {},
   "outputs": [],
   "source": []
  },
  {
   "cell_type": "markdown",
   "id": "06ccbd3e",
   "metadata": {},
   "source": [
    "# INAI (Instituto Nacional de Acceso a la Información?)"
   ]
  },
  {
   "cell_type": "code",
   "execution_count": null,
   "id": "a95a71b3",
   "metadata": {},
   "outputs": [],
   "source": []
  },
  {
   "cell_type": "markdown",
   "id": "a72bd3f3",
   "metadata": {},
   "source": [
    "# INE (Instituto Nacional Electoral)"
   ]
  },
  {
   "cell_type": "code",
   "execution_count": null,
   "id": "b0b35805",
   "metadata": {},
   "outputs": [],
   "source": []
  }
 ],
 "metadata": {
  "kernelspec": {
   "display_name": "Python 3 (ipykernel)",
   "language": "python",
   "name": "python3"
  },
  "language_info": {
   "codemirror_mode": {
    "name": "ipython",
    "version": 3
   },
   "file_extension": ".py",
   "mimetype": "text/x-python",
   "name": "python",
   "nbconvert_exporter": "python",
   "pygments_lexer": "ipython3",
   "version": "3.10.6"
  }
 },
 "nbformat": 4,
 "nbformat_minor": 5
}
