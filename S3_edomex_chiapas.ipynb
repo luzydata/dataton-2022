{
 "cells": [
  {
   "cell_type": "code",
   "execution_count": null,
   "metadata": {
    "colab": {
     "base_uri": "https://localhost:8080/"
    },
    "id": "vsR2a1Xwj1NO",
    "outputId": "04e44f59-4061-401e-8b56-c7fe304a4e4f"
   },
   "outputs": [
    {
     "name": "stdout",
     "output_type": "stream",
     "text": [
      "Mounted at /content/drive\n"
     ]
    }
   ],
   "source": [
    "from google.colab import drive\n",
    "drive.mount('/content/drive')"
   ]
  },
  {
   "cell_type": "code",
   "execution_count": null,
   "metadata": {
    "id": "HpO7-xopiyW5"
   },
   "outputs": [],
   "source": [
    "import pandas as pd\n",
    "import numpy as np\n",
    "import json \n",
    "import os\n",
    "import missingno\n",
    "import seaborn as sns\n",
    "import matplotlib.pyplot as plt"
   ]
  },
  {
   "cell_type": "code",
   "execution_count": null,
   "metadata": {
    "id": "_4_uKYUziyXA"
   },
   "outputs": [],
   "source": [
    "def read_all_json(folder_path, state_name):\n",
    "    df = pd.DataFrame()\n",
    "    for file in os.listdir(folder_path):\n",
    "        file_path = f\"{folder_path}/{file}\"\n",
    "        f = open(file_path, encoding=\"utf8\")\n",
    "        data = json.load(f)\n",
    "        df_1 = pd.json_normalize(data, max_level=2)\n",
    "        df_1 = df_1.drop(['documentos'], axis=1, errors='ignore')\n",
    "        df_2 = pd.json_normalize(data, record_path=['tipoSancion'], record_prefix='tipoSancion.')\n",
    "        df_3 = df_1.join(df_2)\n",
    "        df_3['estado'] = state_name\n",
    "        df = pd.concat([df, df_3])\n",
    "    return df"
   ]
  },
  {
   "cell_type": "code",
   "execution_count": null,
   "metadata": {
    "id": "9YeLg0Y5iOpT"
   },
   "outputs": [],
   "source": [
    "def names_std(df):\n",
    "  df = df.replace('Í','I', regex=True)\n",
    "  df = df.replace('Ó','O', regex=True)\n",
    "  df = df.replace('Á','A', regex=True)\n",
    "  df = df.replace('É','E', regex=True)\n",
    "  df = df.replace('Ú','U', regex=True)\n",
    "  df = df.replace('í','i', regex=True)\n",
    "  df = df.replace('ó','o', regex=True)\n",
    "  df = df.replace('á','a', regex=True)\n",
    "  df = df.replace('é','e', regex=True)\n",
    "  df = df.replace('ú','u', regex=True)\n",
    "  df = df.replace('ñ','n', regex=True)\n",
    "  df = df.replace('Ñ','N', regex=True)\n",
    "  return df"
   ]
  },
  {
   "cell_type": "code",
   "execution_count": null,
   "metadata": {
    "id": "jehxDFJXhdoY"
   },
   "outputs": [],
   "source": [
    "def name_clean(df):\n",
    "  df['servidorPublicoSancionado.nombreCompleto'] = df['servidorPublicoSancionado.nombres'] + ' ' + df['servidorPublicoSancionado.primerApellido'] + ' ' + df['servidorPublicoSancionado.segundoApellido']\n",
    "  df = df.drop(['servidorPublicoSancionado.nombres', 'servidorPublicoSancionado.primerApellido', 'servidorPublicoSancionado.segundoApellido'], axis=1)\n",
    "  df = df.drop(['expediente', 'resolucion.url', 'servidorPublicoSancionado.genero.valor', \n",
    "                        'multa.moneda.valor', 'tipoSancion.valor', 'tipoSancion._id', '__v'], axis=1, errors='ignore')\n",
    "  return df"
   ]
  },
  {
   "cell_type": "code",
   "execution_count": null,
   "metadata": {
    "colab": {
     "base_uri": "https://localhost:8080/",
     "height": 226
    },
    "id": "KQk1PKIwiyXG",
    "outputId": "90f783f8-cb1b-4d53-a093-54b1eef4de22"
   },
   "outputs": [
    {
     "data": {
      "text/html": [
       "\n",
       "  <div id=\"df-c8b9cadd-2780-4dfa-92aa-e9b786e8d37e\">\n",
       "    <div class=\"colab-df-container\">\n",
       "      <div>\n",
       "<style scoped>\n",
       "    .dataframe tbody tr th:only-of-type {\n",
       "        vertical-align: middle;\n",
       "    }\n",
       "\n",
       "    .dataframe tbody tr th {\n",
       "        vertical-align: top;\n",
       "    }\n",
       "\n",
       "    .dataframe thead th {\n",
       "        text-align: right;\n",
       "    }\n",
       "</style>\n",
       "<table border=\"1\" class=\"dataframe\">\n",
       "  <thead>\n",
       "    <tr style=\"text-align: right;\">\n",
       "      <th></th>\n",
       "      <th>id</th>\n",
       "      <th>fechaCaptura</th>\n",
       "      <th>expediente</th>\n",
       "      <th>autoridadSancionadora</th>\n",
       "      <th>tipoSancion</th>\n",
       "      <th>causaMotivoHechos</th>\n",
       "      <th>institucionDependencia.nombre</th>\n",
       "      <th>institucionDependencia.siglas</th>\n",
       "      <th>institucionDependencia.clave</th>\n",
       "      <th>servidorPublicoSancionado.nombres</th>\n",
       "      <th>...</th>\n",
       "      <th>resolucion.fechaResolucion</th>\n",
       "      <th>multa.monto</th>\n",
       "      <th>multa.moneda.clave</th>\n",
       "      <th>multa.moneda.valor</th>\n",
       "      <th>inhabilitacion.plazo</th>\n",
       "      <th>inhabilitacion.fechaInicial</th>\n",
       "      <th>inhabilitacion.fechaFinal</th>\n",
       "      <th>tipoSancion.clave</th>\n",
       "      <th>tipoSancion.valor</th>\n",
       "      <th>estado</th>\n",
       "    </tr>\n",
       "  </thead>\n",
       "  <tbody>\n",
       "    <tr>\n",
       "      <th>0</th>\n",
       "      <td>b411f02b-5ea7-489e-93e5-9eca24d090f6</td>\n",
       "      <td>2022-05-06T00:00:00Z</td>\n",
       "      <td>CA/012/2022</td>\n",
       "      <td>DATOS NO PROPORCIONADOS</td>\n",
       "      <td>[{'clave': 'I', 'valor': 'INHABILITADO'}]</td>\n",
       "      <td>DATOS NO PROPORCIONADOS</td>\n",
       "      <td>Fiscalia General del Estado</td>\n",
       "      <td>FGE</td>\n",
       "      <td>78</td>\n",
       "      <td>ANDRES</td>\n",
       "      <td>...</td>\n",
       "      <td>2022-01-12</td>\n",
       "      <td>0</td>\n",
       "      <td>MXN</td>\n",
       "      <td>PESO MEXICANO</td>\n",
       "      <td>3 MESES</td>\n",
       "      <td>2022-02-15</td>\n",
       "      <td>2022-05-15</td>\n",
       "      <td>I</td>\n",
       "      <td>INHABILITADO</td>\n",
       "      <td>CHIAPAS</td>\n",
       "    </tr>\n",
       "  </tbody>\n",
       "</table>\n",
       "<p>1 rows × 29 columns</p>\n",
       "</div>\n",
       "      <button class=\"colab-df-convert\" onclick=\"convertToInteractive('df-c8b9cadd-2780-4dfa-92aa-e9b786e8d37e')\"\n",
       "              title=\"Convert this dataframe to an interactive table.\"\n",
       "              style=\"display:none;\">\n",
       "        \n",
       "  <svg xmlns=\"http://www.w3.org/2000/svg\" height=\"24px\"viewBox=\"0 0 24 24\"\n",
       "       width=\"24px\">\n",
       "    <path d=\"M0 0h24v24H0V0z\" fill=\"none\"/>\n",
       "    <path d=\"M18.56 5.44l.94 2.06.94-2.06 2.06-.94-2.06-.94-.94-2.06-.94 2.06-2.06.94zm-11 1L8.5 8.5l.94-2.06 2.06-.94-2.06-.94L8.5 2.5l-.94 2.06-2.06.94zm10 10l.94 2.06.94-2.06 2.06-.94-2.06-.94-.94-2.06-.94 2.06-2.06.94z\"/><path d=\"M17.41 7.96l-1.37-1.37c-.4-.4-.92-.59-1.43-.59-.52 0-1.04.2-1.43.59L10.3 9.45l-7.72 7.72c-.78.78-.78 2.05 0 2.83L4 21.41c.39.39.9.59 1.41.59.51 0 1.02-.2 1.41-.59l7.78-7.78 2.81-2.81c.8-.78.8-2.07 0-2.86zM5.41 20L4 18.59l7.72-7.72 1.47 1.35L5.41 20z\"/>\n",
       "  </svg>\n",
       "      </button>\n",
       "      \n",
       "  <style>\n",
       "    .colab-df-container {\n",
       "      display:flex;\n",
       "      flex-wrap:wrap;\n",
       "      gap: 12px;\n",
       "    }\n",
       "\n",
       "    .colab-df-convert {\n",
       "      background-color: #E8F0FE;\n",
       "      border: none;\n",
       "      border-radius: 50%;\n",
       "      cursor: pointer;\n",
       "      display: none;\n",
       "      fill: #1967D2;\n",
       "      height: 32px;\n",
       "      padding: 0 0 0 0;\n",
       "      width: 32px;\n",
       "    }\n",
       "\n",
       "    .colab-df-convert:hover {\n",
       "      background-color: #E2EBFA;\n",
       "      box-shadow: 0px 1px 2px rgba(60, 64, 67, 0.3), 0px 1px 3px 1px rgba(60, 64, 67, 0.15);\n",
       "      fill: #174EA6;\n",
       "    }\n",
       "\n",
       "    [theme=dark] .colab-df-convert {\n",
       "      background-color: #3B4455;\n",
       "      fill: #D2E3FC;\n",
       "    }\n",
       "\n",
       "    [theme=dark] .colab-df-convert:hover {\n",
       "      background-color: #434B5C;\n",
       "      box-shadow: 0px 1px 3px 1px rgba(0, 0, 0, 0.15);\n",
       "      filter: drop-shadow(0px 1px 2px rgba(0, 0, 0, 0.3));\n",
       "      fill: #FFFFFF;\n",
       "    }\n",
       "  </style>\n",
       "\n",
       "      <script>\n",
       "        const buttonEl =\n",
       "          document.querySelector('#df-c8b9cadd-2780-4dfa-92aa-e9b786e8d37e button.colab-df-convert');\n",
       "        buttonEl.style.display =\n",
       "          google.colab.kernel.accessAllowed ? 'block' : 'none';\n",
       "\n",
       "        async function convertToInteractive(key) {\n",
       "          const element = document.querySelector('#df-c8b9cadd-2780-4dfa-92aa-e9b786e8d37e');\n",
       "          const dataTable =\n",
       "            await google.colab.kernel.invokeFunction('convertToInteractive',\n",
       "                                                     [key], {});\n",
       "          if (!dataTable) return;\n",
       "\n",
       "          const docLinkHtml = 'Like what you see? Visit the ' +\n",
       "            '<a target=\"_blank\" href=https://colab.research.google.com/notebooks/data_table.ipynb>data table notebook</a>'\n",
       "            + ' to learn more about interactive tables.';\n",
       "          element.innerHTML = '';\n",
       "          dataTable['output_type'] = 'display_data';\n",
       "          await google.colab.output.renderOutput(dataTable, element);\n",
       "          const docLink = document.createElement('div');\n",
       "          docLink.innerHTML = docLinkHtml;\n",
       "          element.appendChild(docLink);\n",
       "        }\n",
       "      </script>\n",
       "    </div>\n",
       "  </div>\n",
       "  "
      ],
      "text/plain": [
       "                                     id          fechaCaptura   expediente  \\\n",
       "0  b411f02b-5ea7-489e-93e5-9eca24d090f6  2022-05-06T00:00:00Z  CA/012/2022   \n",
       "\n",
       "     autoridadSancionadora                                tipoSancion  \\\n",
       "0  DATOS NO PROPORCIONADOS  [{'clave': 'I', 'valor': 'INHABILITADO'}]   \n",
       "\n",
       "         causaMotivoHechos institucionDependencia.nombre  \\\n",
       "0  DATOS NO PROPORCIONADOS   Fiscalia General del Estado   \n",
       "\n",
       "  institucionDependencia.siglas institucionDependencia.clave  \\\n",
       "0                           FGE                           78   \n",
       "\n",
       "  servidorPublicoSancionado.nombres  ... resolucion.fechaResolucion  \\\n",
       "0                            ANDRES  ...                 2022-01-12   \n",
       "\n",
       "  multa.monto multa.moneda.clave multa.moneda.valor inhabilitacion.plazo  \\\n",
       "0           0                MXN      PESO MEXICANO              3 MESES   \n",
       "\n",
       "  inhabilitacion.fechaInicial inhabilitacion.fechaFinal tipoSancion.clave  \\\n",
       "0                  2022-02-15                2022-05-15                 I   \n",
       "\n",
       "  tipoSancion.valor   estado  \n",
       "0      INHABILITADO  CHIAPAS  \n",
       "\n",
       "[1 rows x 29 columns]"
      ]
     },
     "execution_count": 5,
     "metadata": {},
     "output_type": "execute_result"
    }
   ],
   "source": [
    "chiapas = read_all_json('/content/drive/MyDrive/Colab Notebooks/dataton_2022/s3s/CHIAPAS', 'CHIAPAS')\n",
    "chiapas.head(1)"
   ]
  },
  {
   "cell_type": "code",
   "execution_count": null,
   "metadata": {
    "colab": {
     "base_uri": "https://localhost:8080/"
    },
    "id": "_Xg2Sz9QdJyn",
    "outputId": "1c8c5481-7062-42e6-d7f5-ee782fe901c7"
   },
   "outputs": [
    {
     "data": {
      "text/plain": [
       "Index(['id', 'fechaCaptura', 'expediente', 'autoridadSancionadora',\n",
       "       'tipoSancion', 'causaMotivoHechos', 'institucionDependencia.nombre',\n",
       "       'institucionDependencia.siglas', 'institucionDependencia.clave',\n",
       "       'servidorPublicoSancionado.nombres',\n",
       "       'servidorPublicoSancionado.primerApellido',\n",
       "       'servidorPublicoSancionado.segundoApellido',\n",
       "       'servidorPublicoSancionado.genero.clave',\n",
       "       'servidorPublicoSancionado.genero.valor',\n",
       "       'servidorPublicoSancionado.puesto', 'servidorPublicoSancionado.nivel',\n",
       "       'tipoFalta.clave', 'tipoFalta.valor', 'resolucion.url',\n",
       "       'resolucion.fechaResolucion', 'multa.monto', 'multa.moneda.clave',\n",
       "       'multa.moneda.valor', 'inhabilitacion.plazo',\n",
       "       'inhabilitacion.fechaInicial', 'inhabilitacion.fechaFinal',\n",
       "       'tipoSancion.clave', 'tipoSancion.valor', 'estado'],\n",
       "      dtype='object')"
      ]
     },
     "execution_count": 6,
     "metadata": {},
     "output_type": "execute_result"
    }
   ],
   "source": [
    "chiapas.columns"
   ]
  },
  {
   "cell_type": "code",
   "execution_count": null,
   "metadata": {
    "colab": {
     "base_uri": "https://localhost:8080/",
     "height": 867
    },
    "id": "qlPOxF-DqR1Q",
    "outputId": "9444c1a3-e90e-47f6-f1b5-627a289863e7"
   },
   "outputs": [
    {
     "data": {
      "text/plain": [
       "<matplotlib.axes._subplots.AxesSubplot at 0x7f2a96d16790>"
      ]
     },
     "execution_count": 7,
     "metadata": {},
     "output_type": "execute_result"
    },
    {
     "data": {
      "image/png": "[encoded data removed]",
      "text/plain": [
       "<Figure size 1800x720 with 2 Axes>"
      ]
     },
     "metadata": {
      "needs_background": "light"
     },
     "output_type": "display_data"
    }
   ],
   "source": [
    "missingno.matrix(chiapas)"
   ]
  },
  {
   "cell_type": "code",
   "execution_count": null,
   "metadata": {
    "id": "x_l4t0Fl_3dL"
   },
   "outputs": [],
   "source": [
    "chiapas = name_clean(chiapas)"
   ]
  },
  {
   "cell_type": "code",
   "execution_count": null,
   "metadata": {
    "colab": {
     "base_uri": "https://localhost:8080/"
    },
    "id": "AYgKNOARfGXm",
    "outputId": "df02dcee-f173-42d5-9ec5-12573c695048"
   },
   "outputs": [
    {
     "data": {
      "text/plain": [
       "(27, 22)"
      ]
     },
     "execution_count": 9,
     "metadata": {},
     "output_type": "execute_result"
    }
   ],
   "source": [
    "chiapas.shape"
   ]
  },
  {
   "cell_type": "code",
   "execution_count": null,
   "metadata": {
    "colab": {
     "base_uri": "https://localhost:8080/",
     "height": 244
    },
    "id": "NPf4CBBQiyXL",
    "outputId": "af44a275-127d-421e-dfb3-ae82e4f44536"
   },
   "outputs": [
    {
     "data": {
      "text/html": [
       "\n",
       "  <div id=\"df-4d74f965-9648-4c8e-b42e-697777f841dd\">\n",
       "    <div class=\"colab-df-container\">\n",
       "      <div>\n",
       "<style scoped>\n",
       "    .dataframe tbody tr th:only-of-type {\n",
       "        vertical-align: middle;\n",
       "    }\n",
       "\n",
       "    .dataframe tbody tr th {\n",
       "        vertical-align: top;\n",
       "    }\n",
       "\n",
       "    .dataframe thead th {\n",
       "        text-align: right;\n",
       "    }\n",
       "</style>\n",
       "<table border=\"1\" class=\"dataframe\">\n",
       "  <thead>\n",
       "    <tr style=\"text-align: right;\">\n",
       "      <th></th>\n",
       "      <th>id</th>\n",
       "      <th>fechaCaptura</th>\n",
       "      <th>expediente</th>\n",
       "      <th>autoridadSancionadora</th>\n",
       "      <th>tipoSancion</th>\n",
       "      <th>causaMotivoHechos</th>\n",
       "      <th>observaciones</th>\n",
       "      <th>institucionDependencia.nombre</th>\n",
       "      <th>institucionDependencia.siglas</th>\n",
       "      <th>institucionDependencia.clave</th>\n",
       "      <th>...</th>\n",
       "      <th>multa.monto</th>\n",
       "      <th>multa.moneda.clave</th>\n",
       "      <th>multa.moneda.valor</th>\n",
       "      <th>inhabilitacion.plazo</th>\n",
       "      <th>inhabilitacion.fechaInicial</th>\n",
       "      <th>inhabilitacion.fechaFinal</th>\n",
       "      <th>tipoSancion.clave</th>\n",
       "      <th>tipoSancion.valor</th>\n",
       "      <th>tipoSancion.descripcion</th>\n",
       "      <th>estado</th>\n",
       "    </tr>\n",
       "  </thead>\n",
       "  <tbody>\n",
       "    <tr>\n",
       "      <th>0</th>\n",
       "      <td>62b5d493a069d2c71acd3b7e</td>\n",
       "      <td>2020-11-09T10:19:56Z</td>\n",
       "      <td>10/2019</td>\n",
       "      <td>NOVENA SALA ESPECIALIZADA EN MATERIA DE RESPON...</td>\n",
       "      <td>[{'clave': 'I', 'valor': 'INHABILITADO', 'desc...</td>\n",
       "      <td>COHECHO,</td>\n",
       "      <td>EMPLEO, CARGO O COMISIÓN AL MOMENTO DE LA REAL...</td>\n",
       "      <td>FISCALÍA GENERAL DE JUSTICIA DEL ESTADO DE MÉXICO</td>\n",
       "      <td>FGJEM</td>\n",
       "      <td>oau-002</td>\n",
       "      <td>...</td>\n",
       "      <td>0.0</td>\n",
       "      <td>MXN</td>\n",
       "      <td>PESO MEXICANO</td>\n",
       "      <td>0 día(s) 4 mes(es) 4 año(s)</td>\n",
       "      <td>NaN</td>\n",
       "      <td>NaN</td>\n",
       "      <td>I</td>\n",
       "      <td>INHABILITADO</td>\n",
       "      <td>INHABILITADO</td>\n",
       "      <td>EDOMEX</td>\n",
       "    </tr>\n",
       "  </tbody>\n",
       "</table>\n",
       "<p>1 rows × 31 columns</p>\n",
       "</div>\n",
       "      <button class=\"colab-df-convert\" onclick=\"convertToInteractive('df-4d74f965-9648-4c8e-b42e-697777f841dd')\"\n",
       "              title=\"Convert this dataframe to an interactive table.\"\n",
       "              style=\"display:none;\">\n",
       "        \n",
       "  <svg xmlns=\"http://www.w3.org/2000/svg\" height=\"24px\"viewBox=\"0 0 24 24\"\n",
       "       width=\"24px\">\n",
       "    <path d=\"M0 0h24v24H0V0z\" fill=\"none\"/>\n",
       "    <path d=\"M18.56 5.44l.94 2.06.94-2.06 2.06-.94-2.06-.94-.94-2.06-.94 2.06-2.06.94zm-11 1L8.5 8.5l.94-2.06 2.06-.94-2.06-.94L8.5 2.5l-.94 2.06-2.06.94zm10 10l.94 2.06.94-2.06 2.06-.94-2.06-.94-.94-2.06-.94 2.06-2.06.94z\"/><path d=\"M17.41 7.96l-1.37-1.37c-.4-.4-.92-.59-1.43-.59-.52 0-1.04.2-1.43.59L10.3 9.45l-7.72 7.72c-.78.78-.78 2.05 0 2.83L4 21.41c.39.39.9.59 1.41.59.51 0 1.02-.2 1.41-.59l7.78-7.78 2.81-2.81c.8-.78.8-2.07 0-2.86zM5.41 20L4 18.59l7.72-7.72 1.47 1.35L5.41 20z\"/>\n",
       "  </svg>\n",
       "      </button>\n",
       "      \n",
       "  <style>\n",
       "    .colab-df-container {\n",
       "      display:flex;\n",
       "      flex-wrap:wrap;\n",
       "      gap: 12px;\n",
       "    }\n",
       "\n",
       "    .colab-df-convert {\n",
       "      background-color: #E8F0FE;\n",
       "      border: none;\n",
       "      border-radius: 50%;\n",
       "      cursor: pointer;\n",
       "      display: none;\n",
       "      fill: #1967D2;\n",
       "      height: 32px;\n",
       "      padding: 0 0 0 0;\n",
       "      width: 32px;\n",
       "    }\n",
       "\n",
       "    .colab-df-convert:hover {\n",
       "      background-color: #E2EBFA;\n",
       "      box-shadow: 0px 1px 2px rgba(60, 64, 67, 0.3), 0px 1px 3px 1px rgba(60, 64, 67, 0.15);\n",
       "      fill: #174EA6;\n",
       "    }\n",
       "\n",
       "    [theme=dark] .colab-df-convert {\n",
       "      background-color: #3B4455;\n",
       "      fill: #D2E3FC;\n",
       "    }\n",
       "\n",
       "    [theme=dark] .colab-df-convert:hover {\n",
       "      background-color: #434B5C;\n",
       "      box-shadow: 0px 1px 3px 1px rgba(0, 0, 0, 0.15);\n",
       "      filter: drop-shadow(0px 1px 2px rgba(0, 0, 0, 0.3));\n",
       "      fill: #FFFFFF;\n",
       "    }\n",
       "  </style>\n",
       "\n",
       "      <script>\n",
       "        const buttonEl =\n",
       "          document.querySelector('#df-4d74f965-9648-4c8e-b42e-697777f841dd button.colab-df-convert');\n",
       "        buttonEl.style.display =\n",
       "          google.colab.kernel.accessAllowed ? 'block' : 'none';\n",
       "\n",
       "        async function convertToInteractive(key) {\n",
       "          const element = document.querySelector('#df-4d74f965-9648-4c8e-b42e-697777f841dd');\n",
       "          const dataTable =\n",
       "            await google.colab.kernel.invokeFunction('convertToInteractive',\n",
       "                                                     [key], {});\n",
       "          if (!dataTable) return;\n",
       "\n",
       "          const docLinkHtml = 'Like what you see? Visit the ' +\n",
       "            '<a target=\"_blank\" href=https://colab.research.google.com/notebooks/data_table.ipynb>data table notebook</a>'\n",
       "            + ' to learn more about interactive tables.';\n",
       "          element.innerHTML = '';\n",
       "          dataTable['output_type'] = 'display_data';\n",
       "          await google.colab.output.renderOutput(dataTable, element);\n",
       "          const docLink = document.createElement('div');\n",
       "          docLink.innerHTML = docLinkHtml;\n",
       "          element.appendChild(docLink);\n",
       "        }\n",
       "      </script>\n",
       "    </div>\n",
       "  </div>\n",
       "  "
      ],
      "text/plain": [
       "                         id          fechaCaptura expediente  \\\n",
       "0  62b5d493a069d2c71acd3b7e  2020-11-09T10:19:56Z    10/2019   \n",
       "\n",
       "                               autoridadSancionadora  \\\n",
       "0  NOVENA SALA ESPECIALIZADA EN MATERIA DE RESPON...   \n",
       "\n",
       "                                         tipoSancion causaMotivoHechos  \\\n",
       "0  [{'clave': 'I', 'valor': 'INHABILITADO', 'desc...         COHECHO,    \n",
       "\n",
       "                                       observaciones  \\\n",
       "0  EMPLEO, CARGO O COMISIÓN AL MOMENTO DE LA REAL...   \n",
       "\n",
       "                       institucionDependencia.nombre  \\\n",
       "0  FISCALÍA GENERAL DE JUSTICIA DEL ESTADO DE MÉXICO   \n",
       "\n",
       "  institucionDependencia.siglas institucionDependencia.clave  ... multa.monto  \\\n",
       "0                         FGJEM                      oau-002  ...         0.0   \n",
       "\n",
       "  multa.moneda.clave multa.moneda.valor         inhabilitacion.plazo  \\\n",
       "0                MXN      PESO MEXICANO  0 día(s) 4 mes(es) 4 año(s)   \n",
       "\n",
       "  inhabilitacion.fechaInicial inhabilitacion.fechaFinal tipoSancion.clave  \\\n",
       "0                         NaN                       NaN                 I   \n",
       "\n",
       "  tipoSancion.valor tipoSancion.descripcion  estado  \n",
       "0      INHABILITADO            INHABILITADO  EDOMEX  \n",
       "\n",
       "[1 rows x 31 columns]"
      ]
     },
     "execution_count": 10,
     "metadata": {},
     "output_type": "execute_result"
    }
   ],
   "source": [
    "edomex = read_all_json('/content/drive/MyDrive/Colab Notebooks/dataton_2022/s3s/EDOMEX', 'EDOMEX')\n",
    "edomex.head(1)"
   ]
  },
  {
   "cell_type": "code",
   "execution_count": null,
   "metadata": {
    "colab": {
     "base_uri": "https://localhost:8080/"
    },
    "id": "h9c_h6oyjFCR",
    "outputId": "8a7ecf9d-6ca7-46d4-9aaa-c41044480d40"
   },
   "outputs": [
    {
     "data": {
      "text/plain": [
       "Index(['id', 'fechaCaptura', 'autoridadSancionadora', 'tipoSancion',\n",
       "       'causaMotivoHechos', 'observaciones', 'institucionDependencia.nombre',\n",
       "       'institucionDependencia.siglas', 'institucionDependencia.clave',\n",
       "       'servidorPublicoSancionado.genero.clave',\n",
       "       'servidorPublicoSancionado.puesto', 'tipoFalta.clave',\n",
       "       'tipoFalta.valor', 'tipoFalta.descripcion',\n",
       "       'resolucion.fechaResolucion', 'multa.monto', 'multa.moneda.clave',\n",
       "       'inhabilitacion.plazo', 'inhabilitacion.fechaInicial',\n",
       "       'inhabilitacion.fechaFinal', 'tipoSancion.clave',\n",
       "       'tipoSancion.descripcion', 'estado',\n",
       "       'servidorPublicoSancionado.nombreCompleto'],\n",
       "      dtype='object')"
      ]
     },
     "execution_count": 36,
     "metadata": {},
     "output_type": "execute_result"
    }
   ],
   "source": [
    "edomex.columns"
   ]
  },
  {
   "cell_type": "code",
   "execution_count": null,
   "metadata": {
    "colab": {
     "base_uri": "https://localhost:8080/",
     "height": 869
    },
    "id": "sOkcQ0rvq5r6",
    "outputId": "1329f761-b321-4944-fe9b-282f5d78d078"
   },
   "outputs": [
    {
     "data": {
      "text/plain": [
       "<matplotlib.axes._subplots.AxesSubplot at 0x7f2a92756160>"
      ]
     },
     "execution_count": 12,
     "metadata": {},
     "output_type": "execute_result"
    },
    {
     "data": {
      "image/png": "[encoded data removed]",
      "text/plain": [
       "<Figure size 1800x720 with 2 Axes>"
      ]
     },
     "metadata": {
      "needs_background": "light"
     },
     "output_type": "display_data"
    }
   ],
   "source": [
    "missingno.matrix(edomex)"
   ]
  },
  {
   "cell_type": "code",
   "execution_count": null,
   "metadata": {
    "id": "qHLE-b5VjIAd"
   },
   "outputs": [],
   "source": [
    "edomex = name_clean(edomex)"
   ]
  },
  {
   "cell_type": "code",
   "execution_count": null,
   "metadata": {
    "colab": {
     "base_uri": "https://localhost:8080/"
    },
    "id": "LZHmmAf5jbGG",
    "outputId": "91b46ab0-82d8-491f-a9d0-56af008e920d"
   },
   "outputs": [
    {
     "data": {
      "text/plain": [
       "(96, 24)"
      ]
     },
     "execution_count": 14,
     "metadata": {},
     "output_type": "execute_result"
    }
   ],
   "source": [
    "edomex.shape"
   ]
  },
  {
   "cell_type": "code",
   "execution_count": null,
   "metadata": {
    "id": "IMDUD5swjiqL"
   },
   "outputs": [],
   "source": [
    "edomex = names_std(edomex)\n",
    "chiapas = names_std(chiapas)"
   ]
  },
  {
   "cell_type": "markdown",
   "metadata": {
    "id": "u2l_ou1erQNT"
   },
   "source": [
    "### EDA"
   ]
  },
  {
   "cell_type": "code",
   "execution_count": null,
   "metadata": {
    "colab": {
     "base_uri": "https://localhost:8080/"
    },
    "id": "sTlXXrr7rNNB",
    "outputId": "1e68d4d5-f428-4920-cfd4-862c499b97c7"
   },
   "outputs": [
    {
     "data": {
      "text/plain": [
       "DATOS NO PROPORCIONADOS    27\n",
       "Name: autoridadSancionadora, dtype: int64"
      ]
     },
     "execution_count": 15,
     "metadata": {},
     "output_type": "execute_result"
    }
   ],
   "source": [
    "chiapas['autoridadSancionadora'].value_counts()"
   ]
  },
  {
   "cell_type": "code",
   "execution_count": null,
   "metadata": {
    "colab": {
     "base_uri": "https://localhost:8080/"
    },
    "id": "BEY0myPzrcAj",
    "outputId": "7107d15a-5582-4c73-b9df-c03b3525bccd"
   },
   "outputs": [
    {
     "data": {
      "text/plain": [
       "NOVENA SALA ESPECIALIZADA EN MATERIA DE RESPONSABILIDADES ADMINISTRATIVAS    83\n",
       "OCTAVA SALA ESPECIALIZADA EN MATERIA DE RESPONSABILIDADES ADMINISTRATIVAS    13\n",
       "Name: autoridadSancionadora, dtype: int64"
      ]
     },
     "execution_count": 16,
     "metadata": {},
     "output_type": "execute_result"
    }
   ],
   "source": [
    "edomex['autoridadSancionadora'].value_counts()"
   ]
  },
  {
   "cell_type": "code",
   "execution_count": null,
   "metadata": {
    "colab": {
     "base_uri": "https://localhost:8080/"
    },
    "id": "Vyf1bxG1rhkH",
    "outputId": "cfac5f45-e7ee-4c25-eeae-8e3467a6d362"
   },
   "outputs": [
    {
     "data": {
      "text/plain": [
       "Fiscalia General del Estado                                                                      7\n",
       "Comisión de Caminos e Infraestructura Hidráulica                                                 4\n",
       "Secretaría de Hacienda                                                                           3\n",
       "Instituto de Elecciones y Participación Ciudadana                                                2\n",
       "Secretaría de Obras Públicas                                                                     2\n",
       "Instituto de la Infraestructura Física Educativa del Estado de Chiapas                           2\n",
       "Secretaría de Agricultura, Ganadería y Pesca                                                     2\n",
       "Secretaría de Bienestar                                                                          1\n",
       "Régimen Estatal de Protección Social en Salud                                                    1\n",
       "Instituto de Capacitación y Vinculación Tecnológica del Estado de Chiapas                        1\n",
       "Instituto Tecnológico Superior de Cintalapa                                                      1\n",
       "Sistema para el Desarrollo Integral de la Familia del Estado de Chiapas (SISTEMA DIF CHIAPAS)    1\n",
       "Name: institucionDependencia.nombre, dtype: int64"
      ]
     },
     "execution_count": 17,
     "metadata": {},
     "output_type": "execute_result"
    }
   ],
   "source": [
    "chiapas['institucionDependencia.nombre'].value_counts()"
   ]
  },
  {
   "cell_type": "code",
   "execution_count": null,
   "metadata": {
    "colab": {
     "base_uri": "https://localhost:8080/"
    },
    "id": "yjBKEkUgAOtG",
    "outputId": "657963c9-a3ff-4031-9155-a528ecda9bab"
   },
   "outputs": [
    {
     "data": {
      "text/plain": [
       "DATOS NO PROPORCIONADOS    27\n",
       "Name: servidorPublicoSancionado.nivel, dtype: int64"
      ]
     },
     "execution_count": 61,
     "metadata": {},
     "output_type": "execute_result"
    }
   ],
   "source": [
    "chiapas['servidorPublicoSancionado.nivel'].value_counts()"
   ]
  },
  {
   "cell_type": "code",
   "execution_count": null,
   "metadata": {
    "colab": {
     "base_uri": "https://localhost:8080/",
     "height": 989
    },
    "id": "zFlF3EgU7mqb",
    "outputId": "a68ed1aa-bf47-4a9e-d5df-de2d13f343e8"
   },
   "outputs": [
    {
     "data": {
      "text/html": [
       "\n",
       "  <div id=\"df-26e0d3c1-7be6-4f89-9633-eafb3fbf8fcf\">\n",
       "    <div class=\"colab-df-container\">\n",
       "      <div>\n",
       "<style scoped>\n",
       "    .dataframe tbody tr th:only-of-type {\n",
       "        vertical-align: middle;\n",
       "    }\n",
       "\n",
       "    .dataframe tbody tr th {\n",
       "        vertical-align: top;\n",
       "    }\n",
       "\n",
       "    .dataframe thead th {\n",
       "        text-align: right;\n",
       "    }\n",
       "</style>\n",
       "<table border=\"1\" class=\"dataframe\">\n",
       "  <thead>\n",
       "    <tr style=\"text-align: right;\">\n",
       "      <th></th>\n",
       "      <th></th>\n",
       "    </tr>\n",
       "    <tr>\n",
       "      <th>institucionDependencia.nombre</th>\n",
       "      <th>servidorPublicoSancionado.puesto</th>\n",
       "    </tr>\n",
       "  </thead>\n",
       "  <tbody>\n",
       "    <tr>\n",
       "      <th rowspan=\"4\" valign=\"top\">Comision de Caminos e Infraestructura Hidraulica</th>\n",
       "      <th>DIRECTOR DE SUPERVISION DE INFRAESTRUCTURA HIDRAULICA</th>\n",
       "    </tr>\n",
       "    <tr>\n",
       "      <th>DIRECTORA DE CONTRATOS Y ESTIMACIONES</th>\n",
       "    </tr>\n",
       "    <tr>\n",
       "      <th>JEFE DE LA UNIDAD APOYO ADMINISTRATIVO</th>\n",
       "    </tr>\n",
       "    <tr>\n",
       "      <th>SUPERVISOR DE OBRA</th>\n",
       "    </tr>\n",
       "    <tr>\n",
       "      <th rowspan=\"7\" valign=\"top\">Fiscalia General del Estado</th>\n",
       "      <th>ANALISTA TECNICO</th>\n",
       "    </tr>\n",
       "    <tr>\n",
       "      <th>AUXILIAR DE SEGURIDAD D</th>\n",
       "    </tr>\n",
       "    <tr>\n",
       "      <th>FISCAL DEL MINISTERIO PUBLICO, ADSCRITO A LA FISCALIA DE DISTRITO NORTE</th>\n",
       "    </tr>\n",
       "    <tr>\n",
       "      <th>FISCAL DEL MINISTERIO PUBLICO, ADSCRITO A LA FISCALIA DE LA MUJER</th>\n",
       "    </tr>\n",
       "    <tr>\n",
       "      <th>GESTOR ADMINISTRATIVO</th>\n",
       "    </tr>\n",
       "    <tr>\n",
       "      <th>SECRETARIA DE ACUERDOS MINISTERIALES, ADSCRITA A LA FISCALIA DE DISTRITO FRONTERIZO COSTA</th>\n",
       "    </tr>\n",
       "    <tr>\n",
       "      <th>SECRETARIA EJECUTIVA DE APOYO, ADSCRITA A LA FISCALIA DE DISTRITO METROPOLITANO</th>\n",
       "    </tr>\n",
       "    <tr>\n",
       "      <th>Instituto Tecnologico Superior de Cintalapa</th>\n",
       "      <th>SUBDIRECTOR DE VINCULACION</th>\n",
       "    </tr>\n",
       "    <tr>\n",
       "      <th>Instituto de Capacitacion y Vinculacion Tecnologica del Estado de Chiapas</th>\n",
       "      <th>JEFE DE DEPARTAMENTO</th>\n",
       "    </tr>\n",
       "    <tr>\n",
       "      <th rowspan=\"2\" valign=\"top\">Instituto de Elecciones y Participacion Ciudadana</th>\n",
       "      <th>PRESIDENTE DEL CONSEJO MUNICIPAL ELECTORAL DE MAZATAN, CHIAPAS</th>\n",
       "    </tr>\n",
       "    <tr>\n",
       "      <th>SECRETARIO TECNICO DEL CONSEJO MUNICIPAL ELECTORAL DE MAZATAN, CHIAPAS</th>\n",
       "    </tr>\n",
       "    <tr>\n",
       "      <th rowspan=\"2\" valign=\"top\">Instituto de la Infraestructura Fisica Educativa del Estado de Chiapas</th>\n",
       "      <th>ENLACE B</th>\n",
       "    </tr>\n",
       "    <tr>\n",
       "      <th>JEFE DE LA UNIDAD DE APOYO ADMINISTRATIVO</th>\n",
       "    </tr>\n",
       "    <tr>\n",
       "      <th>Regimen Estatal de Proteccion Social en Salud</th>\n",
       "      <th>AUXILIAR ADMINISTRATIVO (APOYO ADMINISTRATIVO EN SALUD A5)</th>\n",
       "    </tr>\n",
       "    <tr>\n",
       "      <th rowspan=\"2\" valign=\"top\">Secretaria de Agricultura, Ganaderia y Pesca</th>\n",
       "      <th>SUBSECRETARIO DE RECOVERSION PRODUCTIVA SUSTENTABLE</th>\n",
       "    </tr>\n",
       "    <tr>\n",
       "      <th>TITULAR DE LA DELEGACION III FROTERIZA, COMITAN</th>\n",
       "    </tr>\n",
       "    <tr>\n",
       "      <th>Secretaria de Bienestar</th>\n",
       "      <th>JEFA DE DEPARTAMENTO DE GESTION SOCIAL</th>\n",
       "    </tr>\n",
       "    <tr>\n",
       "      <th rowspan=\"3\" valign=\"top\">Secretaria de Hacienda</th>\n",
       "      <th>DIRECTOR DE CONTROL FINANCIERO</th>\n",
       "    </tr>\n",
       "    <tr>\n",
       "      <th>OPERADOR DEL MODULO DE GOBIERNO EXPRESS SAN CRISTOBAL II, ADSCRITO A LA DELEGACION DE HACIENDA SAN CRISTOBAL DELAS CASAS</th>\n",
       "    </tr>\n",
       "    <tr>\n",
       "      <th>RESPONSABLE DEL CENTRO DE RECAUDACION LOCAL TUXTLA I TORRE CHIAPAS</th>\n",
       "    </tr>\n",
       "    <tr>\n",
       "      <th rowspan=\"2\" valign=\"top\">Secretaria de Obras Publicas</th>\n",
       "      <th>DIRECTORA DE RECURSOS HUMANOS Y ORGANIZACION</th>\n",
       "    </tr>\n",
       "    <tr>\n",
       "      <th>JEFE DE AREA DE ASUNTOS ADMINISTRATIVOS</th>\n",
       "    </tr>\n",
       "    <tr>\n",
       "      <th>Sistema para el Desarrollo Integral de la Familia del Estado de Chiapas (SISTEMA DIF CHIAPAS)</th>\n",
       "      <th>AUXILIAR DE EDUCADORA</th>\n",
       "    </tr>\n",
       "  </tbody>\n",
       "</table>\n",
       "</div>\n",
       "      <button class=\"colab-df-convert\" onclick=\"convertToInteractive('df-26e0d3c1-7be6-4f89-9633-eafb3fbf8fcf')\"\n",
       "              title=\"Convert this dataframe to an interactive table.\"\n",
       "              style=\"display:none;\">\n",
       "        \n",
       "  <svg xmlns=\"http://www.w3.org/2000/svg\" height=\"24px\"viewBox=\"0 0 24 24\"\n",
       "       width=\"24px\">\n",
       "    <path d=\"M0 0h24v24H0V0z\" fill=\"none\"/>\n",
       "    <path d=\"M18.56 5.44l.94 2.06.94-2.06 2.06-.94-2.06-.94-.94-2.06-.94 2.06-2.06.94zm-11 1L8.5 8.5l.94-2.06 2.06-.94-2.06-.94L8.5 2.5l-.94 2.06-2.06.94zm10 10l.94 2.06.94-2.06 2.06-.94-2.06-.94-.94-2.06-.94 2.06-2.06.94z\"/><path d=\"M17.41 7.96l-1.37-1.37c-.4-.4-.92-.59-1.43-.59-.52 0-1.04.2-1.43.59L10.3 9.45l-7.72 7.72c-.78.78-.78 2.05 0 2.83L4 21.41c.39.39.9.59 1.41.59.51 0 1.02-.2 1.41-.59l7.78-7.78 2.81-2.81c.8-.78.8-2.07 0-2.86zM5.41 20L4 18.59l7.72-7.72 1.47 1.35L5.41 20z\"/>\n",
       "  </svg>\n",
       "      </button>\n",
       "      \n",
       "  <style>\n",
       "    .colab-df-container {\n",
       "      display:flex;\n",
       "      flex-wrap:wrap;\n",
       "      gap: 12px;\n",
       "    }\n",
       "\n",
       "    .colab-df-convert {\n",
       "      background-color: #E8F0FE;\n",
       "      border: none;\n",
       "      border-radius: 50%;\n",
       "      cursor: pointer;\n",
       "      display: none;\n",
       "      fill: #1967D2;\n",
       "      height: 32px;\n",
       "      padding: 0 0 0 0;\n",
       "      width: 32px;\n",
       "    }\n",
       "\n",
       "    .colab-df-convert:hover {\n",
       "      background-color: #E2EBFA;\n",
       "      box-shadow: 0px 1px 2px rgba(60, 64, 67, 0.3), 0px 1px 3px 1px rgba(60, 64, 67, 0.15);\n",
       "      fill: #174EA6;\n",
       "    }\n",
       "\n",
       "    [theme=dark] .colab-df-convert {\n",
       "      background-color: #3B4455;\n",
       "      fill: #D2E3FC;\n",
       "    }\n",
       "\n",
       "    [theme=dark] .colab-df-convert:hover {\n",
       "      background-color: #434B5C;\n",
       "      box-shadow: 0px 1px 3px 1px rgba(0, 0, 0, 0.15);\n",
       "      filter: drop-shadow(0px 1px 2px rgba(0, 0, 0, 0.3));\n",
       "      fill: #FFFFFF;\n",
       "    }\n",
       "  </style>\n",
       "\n",
       "      <script>\n",
       "        const buttonEl =\n",
       "          document.querySelector('#df-26e0d3c1-7be6-4f89-9633-eafb3fbf8fcf button.colab-df-convert');\n",
       "        buttonEl.style.display =\n",
       "          google.colab.kernel.accessAllowed ? 'block' : 'none';\n",
       "\n",
       "        async function convertToInteractive(key) {\n",
       "          const element = document.querySelector('#df-26e0d3c1-7be6-4f89-9633-eafb3fbf8fcf');\n",
       "          const dataTable =\n",
       "            await google.colab.kernel.invokeFunction('convertToInteractive',\n",
       "                                                     [key], {});\n",
       "          if (!dataTable) return;\n",
       "\n",
       "          const docLinkHtml = 'Like what you see? Visit the ' +\n",
       "            '<a target=\"_blank\" href=https://colab.research.google.com/notebooks/data_table.ipynb>data table notebook</a>'\n",
       "            + ' to learn more about interactive tables.';\n",
       "          element.innerHTML = '';\n",
       "          dataTable['output_type'] = 'display_data';\n",
       "          await google.colab.output.renderOutput(dataTable, element);\n",
       "          const docLink = document.createElement('div');\n",
       "          docLink.innerHTML = docLinkHtml;\n",
       "          element.appendChild(docLink);\n",
       "        }\n",
       "      </script>\n",
       "    </div>\n",
       "  </div>\n",
       "  "
      ],
      "text/plain": [
       "Empty DataFrame\n",
       "Columns: []\n",
       "Index: [(Comision de Caminos e Infraestructura Hidraulica, DIRECTOR DE SUPERVISION DE INFRAESTRUCTURA HIDRAULICA), (Comision de Caminos e Infraestructura Hidraulica, DIRECTORA DE CONTRATOS Y ESTIMACIONES), (Comision de Caminos e Infraestructura Hidraulica, JEFE DE LA UNIDAD APOYO ADMINISTRATIVO), (Comision de Caminos e Infraestructura Hidraulica, SUPERVISOR DE OBRA), (Fiscalia General del Estado, ANALISTA TECNICO), (Fiscalia General del Estado, AUXILIAR DE SEGURIDAD D), (Fiscalia General del Estado, FISCAL DEL MINISTERIO PUBLICO, ADSCRITO A LA FISCALIA DE DISTRITO NORTE), (Fiscalia General del Estado, FISCAL DEL MINISTERIO PUBLICO, ADSCRITO A LA FISCALIA DE LA MUJER), (Fiscalia General del Estado, GESTOR ADMINISTRATIVO), (Fiscalia General del Estado, SECRETARIA DE ACUERDOS MINISTERIALES, ADSCRITA A LA FISCALIA DE DISTRITO FRONTERIZO COSTA), (Fiscalia General del Estado, SECRETARIA EJECUTIVA DE APOYO, ADSCRITA A LA FISCALIA DE DISTRITO METROPOLITANO), (Instituto Tecnologico Superior de Cintalapa, SUBDIRECTOR DE VINCULACION), (Instituto de Capacitacion y Vinculacion Tecnologica del Estado de Chiapas, JEFE DE DEPARTAMENTO), (Instituto de Elecciones y Participacion Ciudadana, PRESIDENTE DEL CONSEJO MUNICIPAL ELECTORAL DE MAZATAN, CHIAPAS), (Instituto de Elecciones y Participacion Ciudadana, SECRETARIO TECNICO DEL CONSEJO MUNICIPAL ELECTORAL DE MAZATAN, CHIAPAS), (Instituto de la Infraestructura Fisica Educativa del Estado de Chiapas, ENLACE B), (Instituto de la Infraestructura Fisica Educativa del Estado de Chiapas, JEFE DE LA UNIDAD DE APOYO ADMINISTRATIVO), (Regimen Estatal de Proteccion Social en Salud, AUXILIAR ADMINISTRATIVO (APOYO ADMINISTRATIVO EN SALUD A5)), (Secretaria de Agricultura, Ganaderia y Pesca, SUBSECRETARIO DE RECOVERSION PRODUCTIVA SUSTENTABLE), (Secretaria de Agricultura, Ganaderia y Pesca, TITULAR DE LA DELEGACION III FROTERIZA, COMITAN), (Secretaria de Bienestar, JEFA DE DEPARTAMENTO DE GESTION SOCIAL), (Secretaria de Hacienda, DIRECTOR DE CONTROL FINANCIERO), (Secretaria de Hacienda, OPERADOR DEL MODULO DE GOBIERNO EXPRESS SAN CRISTOBAL II, ADSCRITO A LA DELEGACION DE HACIENDA SAN CRISTOBAL DELAS CASAS), (Secretaria de Hacienda, RESPONSABLE DEL CENTRO DE RECAUDACION LOCAL TUXTLA I TORRE CHIAPAS), (Secretaria de Obras Publicas, DIRECTORA DE RECURSOS HUMANOS Y ORGANIZACION), (Secretaria de Obras Publicas, JEFE DE AREA DE ASUNTOS ADMINISTRATIVOS), (Sistema para el Desarrollo Integral de la Familia del Estado de Chiapas (SISTEMA DIF CHIAPAS), AUXILIAR DE EDUCADORA)]"
      ]
     },
     "execution_count": 59,
     "metadata": {},
     "output_type": "execute_result"
    }
   ],
   "source": [
    "chiapas[['institucionDependencia.nombre', 'servidorPublicoSancionado.puesto']].groupby(['institucionDependencia.nombre','servidorPublicoSancionado.puesto']).count()"
   ]
  },
  {
   "cell_type": "code",
   "execution_count": null,
   "metadata": {
    "colab": {
     "base_uri": "https://localhost:8080/",
     "height": 655
    },
    "id": "8iHHwMiL-4M9",
    "outputId": "92af45ea-4edd-41a1-bfc0-5a7c573a3741"
   },
   "outputs": [
    {
     "data": {
      "text/html": [
       "\n",
       "  <div id=\"df-2ad618f8-7d2d-451d-92de-5cb12875dbc6\">\n",
       "    <div class=\"colab-df-container\">\n",
       "      <div>\n",
       "<style scoped>\n",
       "    .dataframe tbody tr th:only-of-type {\n",
       "        vertical-align: middle;\n",
       "    }\n",
       "\n",
       "    .dataframe tbody tr th {\n",
       "        vertical-align: top;\n",
       "    }\n",
       "\n",
       "    .dataframe thead th {\n",
       "        text-align: right;\n",
       "    }\n",
       "</style>\n",
       "<table border=\"1\" class=\"dataframe\">\n",
       "  <thead>\n",
       "    <tr style=\"text-align: right;\">\n",
       "      <th></th>\n",
       "      <th></th>\n",
       "    </tr>\n",
       "    <tr>\n",
       "      <th>institucionDependencia.nombre</th>\n",
       "      <th>servidorPublicoSancionado.puesto</th>\n",
       "    </tr>\n",
       "  </thead>\n",
       "  <tbody>\n",
       "    <tr>\n",
       "      <th rowspan=\"4\" valign=\"top\">ATIZAPAN DE ZARAGOZA</th>\n",
       "      <th>Analista Auxiliar</th>\n",
       "    </tr>\n",
       "    <tr>\n",
       "      <th>JEFE DE DEPARTAMENTO</th>\n",
       "    </tr>\n",
       "    <tr>\n",
       "      <th>Medica,o Veterinaria,o</th>\n",
       "    </tr>\n",
       "    <tr>\n",
       "      <th>Oficinista</th>\n",
       "    </tr>\n",
       "    <tr>\n",
       "      <th>COACALCO DE BERRIOZABAL</th>\n",
       "      <th>Agente del Ministerio Publico Auxiliar de la Fiscalia</th>\n",
       "    </tr>\n",
       "    <tr>\n",
       "      <th>...</th>\n",
       "      <th>...</th>\n",
       "    </tr>\n",
       "    <tr>\n",
       "      <th rowspan=\"3\" valign=\"top\">TONANITLA</th>\n",
       "      <th>SECRETARIO DEL AYUNTAMIENTO</th>\n",
       "    </tr>\n",
       "    <tr>\n",
       "      <th>SINDICO</th>\n",
       "    </tr>\n",
       "    <tr>\n",
       "      <th>TESORERO MUNICIPAL</th>\n",
       "    </tr>\n",
       "    <tr>\n",
       "      <th rowspan=\"2\" valign=\"top\">UNIVERSIDAD POLITECNICA DE CHIMALHUACAN</th>\n",
       "      <th>DIRECTOR</th>\n",
       "    </tr>\n",
       "    <tr>\n",
       "      <th>JEFE DE DEPARTAMENTO</th>\n",
       "    </tr>\n",
       "  </tbody>\n",
       "</table>\n",
       "<p>80 rows × 0 columns</p>\n",
       "</div>\n",
       "      <button class=\"colab-df-convert\" onclick=\"convertToInteractive('df-2ad618f8-7d2d-451d-92de-5cb12875dbc6')\"\n",
       "              title=\"Convert this dataframe to an interactive table.\"\n",
       "              style=\"display:none;\">\n",
       "        \n",
       "  <svg xmlns=\"http://www.w3.org/2000/svg\" height=\"24px\"viewBox=\"0 0 24 24\"\n",
       "       width=\"24px\">\n",
       "    <path d=\"M0 0h24v24H0V0z\" fill=\"none\"/>\n",
       "    <path d=\"M18.56 5.44l.94 2.06.94-2.06 2.06-.94-2.06-.94-.94-2.06-.94 2.06-2.06.94zm-11 1L8.5 8.5l.94-2.06 2.06-.94-2.06-.94L8.5 2.5l-.94 2.06-2.06.94zm10 10l.94 2.06.94-2.06 2.06-.94-2.06-.94-.94-2.06-.94 2.06-2.06.94z\"/><path d=\"M17.41 7.96l-1.37-1.37c-.4-.4-.92-.59-1.43-.59-.52 0-1.04.2-1.43.59L10.3 9.45l-7.72 7.72c-.78.78-.78 2.05 0 2.83L4 21.41c.39.39.9.59 1.41.59.51 0 1.02-.2 1.41-.59l7.78-7.78 2.81-2.81c.8-.78.8-2.07 0-2.86zM5.41 20L4 18.59l7.72-7.72 1.47 1.35L5.41 20z\"/>\n",
       "  </svg>\n",
       "      </button>\n",
       "      \n",
       "  <style>\n",
       "    .colab-df-container {\n",
       "      display:flex;\n",
       "      flex-wrap:wrap;\n",
       "      gap: 12px;\n",
       "    }\n",
       "\n",
       "    .colab-df-convert {\n",
       "      background-color: #E8F0FE;\n",
       "      border: none;\n",
       "      border-radius: 50%;\n",
       "      cursor: pointer;\n",
       "      display: none;\n",
       "      fill: #1967D2;\n",
       "      height: 32px;\n",
       "      padding: 0 0 0 0;\n",
       "      width: 32px;\n",
       "    }\n",
       "\n",
       "    .colab-df-convert:hover {\n",
       "      background-color: #E2EBFA;\n",
       "      box-shadow: 0px 1px 2px rgba(60, 64, 67, 0.3), 0px 1px 3px 1px rgba(60, 64, 67, 0.15);\n",
       "      fill: #174EA6;\n",
       "    }\n",
       "\n",
       "    [theme=dark] .colab-df-convert {\n",
       "      background-color: #3B4455;\n",
       "      fill: #D2E3FC;\n",
       "    }\n",
       "\n",
       "    [theme=dark] .colab-df-convert:hover {\n",
       "      background-color: #434B5C;\n",
       "      box-shadow: 0px 1px 3px 1px rgba(0, 0, 0, 0.15);\n",
       "      filter: drop-shadow(0px 1px 2px rgba(0, 0, 0, 0.3));\n",
       "      fill: #FFFFFF;\n",
       "    }\n",
       "  </style>\n",
       "\n",
       "      <script>\n",
       "        const buttonEl =\n",
       "          document.querySelector('#df-2ad618f8-7d2d-451d-92de-5cb12875dbc6 button.colab-df-convert');\n",
       "        buttonEl.style.display =\n",
       "          google.colab.kernel.accessAllowed ? 'block' : 'none';\n",
       "\n",
       "        async function convertToInteractive(key) {\n",
       "          const element = document.querySelector('#df-2ad618f8-7d2d-451d-92de-5cb12875dbc6');\n",
       "          const dataTable =\n",
       "            await google.colab.kernel.invokeFunction('convertToInteractive',\n",
       "                                                     [key], {});\n",
       "          if (!dataTable) return;\n",
       "\n",
       "          const docLinkHtml = 'Like what you see? Visit the ' +\n",
       "            '<a target=\"_blank\" href=https://colab.research.google.com/notebooks/data_table.ipynb>data table notebook</a>'\n",
       "            + ' to learn more about interactive tables.';\n",
       "          element.innerHTML = '';\n",
       "          dataTable['output_type'] = 'display_data';\n",
       "          await google.colab.output.renderOutput(dataTable, element);\n",
       "          const docLink = document.createElement('div');\n",
       "          docLink.innerHTML = docLinkHtml;\n",
       "          element.appendChild(docLink);\n",
       "        }\n",
       "      </script>\n",
       "    </div>\n",
       "  </div>\n",
       "  "
      ],
      "text/plain": [
       "Empty DataFrame\n",
       "Columns: []\n",
       "Index: [(ATIZAPAN DE ZARAGOZA, Analista Auxiliar), (ATIZAPAN DE ZARAGOZA, JEFE DE DEPARTAMENTO), (ATIZAPAN DE ZARAGOZA, Medica,o Veterinaria,o  ), (ATIZAPAN DE ZARAGOZA, Oficinista), (COACALCO DE BERRIOZABAL, Agente del Ministerio Publico Auxiliar de la Fiscalia), (CUAUTITLAN, Asesora,or Juridica,o Especializada,o), (CUAUTITLAN, JEFE DE UNIDAD), (CUAUTITLAN IZCALLI, Controlista Pagadora,or de Caja General), (ECATEPEC DE MORELOS, Analista Auxiliar), (ECATEPEC DE MORELOS, SUBDIRECTOR), (FISCALIA GENERAL DE JUSTICIA DEL ESTADO DE MEXICO, Agente Investigadora,or R-1), (FISCALIA GENERAL DE JUSTICIA DEL ESTADO DE MEXICO, Agente Investigadora,or R-3), (FISCALIA GENERAL DE JUSTICIA DEL ESTADO DE MEXICO, Agente del Ministerio Publico Auxiliar de la Fiscalia), (FISCALIA GENERAL DE JUSTICIA DEL ESTADO DE MEXICO, Agente del Ministerio Publico R-1), (FISCALIA GENERAL DE JUSTICIA DEL ESTADO DE MEXICO, Agente del Ministerio Publico R-2), (FISCALIA GENERAL DE JUSTICIA DEL ESTADO DE MEXICO, Jefa,e de Departamento ), (FISCALIA GENERAL DE JUSTICIA DEL ESTADO DE MEXICO, Secretaria,o del Ministerio Publico R-1), (FISCALIA GENERAL DE JUSTICIA DEL ESTADO DE MEXICO, Secretaria,o del Ministerio Publico R-2), (HUEYPOXTLA, PRESIDENTE MUNICIPAL CONSTITUCIONAL), (HUEYPOXTLA, SINDICO), (HUEYPOXTLA, TESORERO MUNICIPAL), (INSTITUTO ELECTORAL DEL ESTADO DE MEXICO, Analista Auxiliar), (INSTITUTO ELECTORAL DEL ESTADO DE MEXICO, Auxiliar Administrativa,o de Oficina de Servidora,or Publica,o Superiora,or), (INSTITUTO ELECTORAL DEL ESTADO DE MEXICO, CONSEJERO JURIDICO), (INSTITUTO ELECTORAL DEL ESTADO DE MEXICO, Comisionada,o Ejecutiva,o), (INSTITUTO ELECTORAL DEL ESTADO DE MEXICO, Enlace Administrativa,o), (INSTITUTO ELECTORAL DEL ESTADO DE MEXICO, Promotora,or de Organizacion de Productoras,es), (JALTENCO, DIRECTOR), (JALTENCO, DIRECTOR DE AREA), (JUCHITEPEC, REGIDOR), (NAUCALPAN, Auxiliar Administrativa,o), (NAUCALPAN, ENCARGADO DEL DESPACHO), (NAUCALPAN, SUBDIRECTOR), (NEZAHUALCOYOTL, COORDINADOR), (NEZAHUALCOYOTL, JEFE DE DEPARTAMENTO), (NEZAHUALCOYOTL, Supervisora,or Especializada,o de Servicio Tecnico), (NEZAHUALCOYOTL, Supervisora,or de Captura), (NOPALTEPEC, PRESIDENTE MUNICIPAL CONSTITUCIONAL), (NOPALTEPEC, Residente Regional de Obras Publicas), (NOPALTEPEC, SINDICO), (NOPALTEPEC, TESORERO MUNICIPAL), (ORGANISMO PUBLICO DESCENTRALIZADO PARA LA PRESTACION DE LOS SERVICIOS DE AGUA POTABLE, ALCANTARILLADO Y SANEAMIENTO DE ATIZAPAN DE ZARAGOZA, POR SUS SIGLAS S.A.P.A.S.A., AUXILIAR OPERATIVO), (ORGANISMO PUBLICO DESCENTRALIZADO PARA LA PRESTACION DE LOS SERVICIOS DE AGUA POTABLE, ALCANTARILLADO Y SANEAMIENTO DE ATIZAPAN DE ZARAGOZA, POR SUS SIGLAS S.A.P.A.S.A., Auxiliar Administrativa,o), (ORGANISMO PUBLICO DESCENTRALIZADO PARA LA PRESTACION DE LOS SERVICIOS DE AGUA POTABLE, ALCANTARILLADO Y SANEAMIENTO DE ATIZAPAN DE ZARAGOZA, POR SUS SIGLAS S.A.P.A.S.A., CONTRALOR), (ORGANISMO PUBLICO DESCENTRALIZADO PARA LA PRESTACION DE LOS SERVICIOS DE AGUA POTABLE, ALCANTARILLADO Y SANEAMIENTO DE ATIZAPAN DE ZARAGOZA, POR SUS SIGLAS S.A.P.A.S.A., JEFE DE DEPARTAMENTO), (ORGANISMO PUBLICO DESCENTRALIZADO PARA LA PRESTACION DE LOS SERVICIOS DE AGUA POTABLE, ALCANTARILLADO Y SANEAMIENTO DE ATIZAPAN DE ZARAGOZA, POR SUS SIGLAS S.A.P.A.S.A., Titular del Organo Interno de Control ), (ORGANISMO PUBLICO DESCENTRALIZADO PARA LA PRESTACION DE LOS SERVICIOS DE AGUA POTABLE, ALCANTARILLADO Y SANEAMIENTO DEL MUNICIPIO DE LA PAZ, MEXICO, 'OPDAPAS', Supervisora,or de Servicios), (ORGANISMO PUBLICO DESCENTRALIZADO PARA LA PRESTACION DE SERVICIOS DE AGUA POTABLE, ALCANTARILLADO Y SANEAMIENTO DE COACALCO DE BERRIOZABAL, JEFE DE DEPARTAMENTO C), (OTZOLOTEPEC, PRESIDENTE), (OTZOLOTEPEC, TESORERO MUNICIPAL), (PAPALOTLA, PRESIDENTE), (PAPALOTLA, SINDICO), (PAPALOTLA, TESORERO MUNICIPAL), (SISTEMA DE AGUA POTABLE, ALCANTARILLADO Y SANEAMIENTO DE ECATEPEC DE MORELOS, Auxiliar Administrativa,o), (SISTEMA DE AGUA POTABLE, ALCANTARILLADO Y SANEAMIENTO DE ECATEPEC DE MORELOS, Oficial), (SISTEMA DE AGUA POTABLE, ALCANTARILLADO Y SANEAMIENTO DE ECATEPEC DE MORELOS, Operador de pozos), (SISTEMA DE AGUA POTABLE, ALCANTARILLADO Y SANEAMIENTO DE ECATEPEC DE MORELOS, Secretaria,o 'A'  ), (SISTEMA MUNICIPAL PARA EL DESARROLLO INTEGRAL DE LA FAMILIA DE TEPETLAOXTOC, TESORERO MUNICIPAL), (TEMAMATLA, PRESIDENTE), (TEOLOYUCAN, Coordinadora,or Administrativa,o), (TEOLOYUCAN, Enfermera,o), (TEOLOYUCAN, PRESIDENTE), (TEOLOYUCAN, TESORERO MUNICIPAL), (TEOTIHUACAN, PRESIDENTE), (TEOTIHUACAN, TESORERO MUNICIPAL), (TEQUIXQUIAC, Directora,or General), (TEQUIXQUIAC, PRESIDENTE), (TEQUIXQUIAC, PRESIDENTE MUNICIPAL CONSTITUCIONAL), (TEQUIXQUIAC, TESORERO MUNICIPAL), (TLALMANALCO, Auxiliar Administrativa,o), (TLALNEPANTLA DE BAZ, JEFE DE UNIDAD), (TLALNEPANTLA DE BAZ, SECRETARIO TECNICO), (TLALNEPANTLA DE BAZ, SUBDIRECTOR), (TONANITLA, CONTRALOR), (TONANITLA, PRESIDENTE), (TONANITLA, SECRETARIO DEL AYUNTAMIENTO), (TONANITLA, SINDICO), (TONANITLA, TESORERO MUNICIPAL), (UNIVERSIDAD POLITECNICA DE CHIMALHUACAN, DIRECTOR), (UNIVERSIDAD POLITECNICA DE CHIMALHUACAN, JEFE DE DEPARTAMENTO)]\n",
       "\n",
       "[80 rows x 0 columns]"
      ]
     },
     "execution_count": 60,
     "metadata": {},
     "output_type": "execute_result"
    }
   ],
   "source": [
    "edomex[['institucionDependencia.nombre', 'servidorPublicoSancionado.puesto']].groupby(['institucionDependencia.nombre','servidorPublicoSancionado.puesto']).count()"
   ]
  },
  {
   "cell_type": "code",
   "execution_count": null,
   "metadata": {
    "colab": {
     "base_uri": "https://localhost:8080/"
    },
    "id": "7VM62c21rujH",
    "outputId": "833a3715-5a79-4f30-d8ba-83e9c67a85de"
   },
   "outputs": [
    {
     "data": {
      "text/plain": [
       "FISCALÍA GENERAL DE JUSTICIA DEL ESTADO DE MÉXICO                                                                                                                           16\n",
       "INSTITUTO ELECTORAL DEL ESTADO DE MÉXICO                                                                                                                                     6\n",
       "NEZAHUALCÓYOTL                                                                                                                                                               6\n",
       "TEQUIXQUIAC                                                                                                                                                                  5\n",
       "ORGANISMO PÚBLICO DESCENTRALIZADO PARA LA PRESTACIÓN DE LOS SERVICIOS DE AGUA POTABLE, ALCANTARILLADO Y SANEAMIENTO DE ATIZAPÁN DE ZARAGOZA, POR SUS SIGLAS S.A.P.A.S.A.     5\n",
       "TONANITLA                                                                                                                                                                    5\n",
       "TLALNEPANTLA DE BAZ                                                                                                                                                          5\n",
       "NOPALTEPEC                                                                                                                                                                   5\n",
       "NAUCALPAN                                                                                                                                                                    4\n",
       "SISTEMA DE AGUA POTABLE, ALCANTARILLADO Y SANEAMIENTO DE ECATEPEC DE MORELOS                                                                                                 4\n",
       "ATIZAPÁN DE ZARAGOZA                                                                                                                                                         4\n",
       "TEOLOYUCAN                                                                                                                                                                   4\n",
       "JALTENCO                                                                                                                                                                     3\n",
       "PAPALOTLA                                                                                                                                                                    3\n",
       "HUEYPOXTLA                                                                                                                                                                   3\n",
       "CUAUTITLÁN                                                                                                                                                                   2\n",
       "TEOTIHUACÁN                                                                                                                                                                  2\n",
       "OTZOLOTEPEC                                                                                                                                                                  2\n",
       "UNIVERSIDAD POLITÉCNICA DE CHIMALHUACÁN                                                                                                                                      2\n",
       "ECATEPEC DE MORELOS                                                                                                                                                          2\n",
       "SISTEMA MUNICIPAL PARA EL DESARROLLO INTEGRAL DE LA FAMILIA DE TEPETLAOXTOC                                                                                                  1\n",
       "JUCHITEPEC                                                                                                                                                                   1\n",
       "COACALCO DE BERRIOZABAL                                                                                                                                                      1\n",
       "ORGANISMO PÚBLICO DESCENTRALIZADO PARA LA PRESTACIÓN DE SERVICIOS DE AGUA POTABLE, ALCANTARILLADO Y SANEAMIENTO DE COACALCO DE BERRIOZÁBAL                                   1\n",
       "TEMAMATLA                                                                                                                                                                    1\n",
       "TLALMANALCO                                                                                                                                                                  1\n",
       "CUAUTITLÁN IZCALLI                                                                                                                                                           1\n",
       "ORGANISMO PÚBLICO DESCENTRALIZADO PARA LA PRESTACIÓN DE LOS SERVICIOS DE AGUA POTABLE, ALCANTARILLADO Y SANEAMIENTO DEL MUNICIPIO DE LA PAZ, MÉXICO, 'OPDAPAS'               1\n",
       "Name: institucionDependencia.nombre, dtype: int64"
      ]
     },
     "execution_count": 18,
     "metadata": {},
     "output_type": "execute_result"
    }
   ],
   "source": [
    "edomex['institucionDependencia.nombre'].value_counts()"
   ]
  },
  {
   "cell_type": "code",
   "execution_count": null,
   "metadata": {
    "colab": {
     "base_uri": "https://localhost:8080/"
    },
    "id": "RJoNhr_Ar0nn",
    "outputId": "6591030c-e27d-423d-80b9-b9496fd0eab9"
   },
   "outputs": [
    {
     "data": {
      "text/plain": [
       "OTRO    27\n",
       "Name: tipoFalta.valor, dtype: int64"
      ]
     },
     "execution_count": 19,
     "metadata": {},
     "output_type": "execute_result"
    }
   ],
   "source": [
    "chiapas['tipoFalta.valor'].value_counts()"
   ]
  },
  {
   "cell_type": "code",
   "execution_count": null,
   "metadata": {
    "colab": {
     "base_uri": "https://localhost:8080/"
    },
    "id": "KJ_7OxAcxJE3",
    "outputId": "afb71da6-fd78-4228-c9c2-ab3b33c1df4c"
   },
   "outputs": [
    {
     "data": {
      "text/plain": [
       "Index(['id', 'fechaCaptura', 'autoridadSancionadora', 'tipoSancion',\n",
       "       'causaMotivoHechos', 'observaciones', 'institucionDependencia.nombre',\n",
       "       'institucionDependencia.siglas', 'institucionDependencia.clave',\n",
       "       'servidorPublicoSancionado.genero.clave',\n",
       "       'servidorPublicoSancionado.puesto', 'tipoFalta.clave',\n",
       "       'tipoFalta.valor', 'tipoFalta.descripcion',\n",
       "       'resolucion.fechaResolucion', 'multa.monto', 'multa.moneda.clave',\n",
       "       'inhabilitacion.plazo', 'inhabilitacion.fechaInicial',\n",
       "       'inhabilitacion.fechaFinal', 'tipoSancion.clave',\n",
       "       'tipoSancion.descripcion', 'estado',\n",
       "       'servidorPublicoSancionado.nombreCompleto'],\n",
       "      dtype='object')"
      ]
     },
     "execution_count": 53,
     "metadata": {},
     "output_type": "execute_result"
    }
   ],
   "source": [
    "edomex.columns"
   ]
  },
  {
   "cell_type": "code",
   "execution_count": null,
   "metadata": {
    "colab": {
     "base_uri": "https://localhost:8080/"
    },
    "id": "eVydvfOFsMQe",
    "outputId": "a7aa70e5-e6bb-4737-a87c-5a69b66c8ee2"
   },
   "outputs": [
    {
     "data": {
      "text/plain": [
       "ADMINISTRATIVA GRAVE    96\n",
       "Name: tipoFalta.valor, dtype: int64"
      ]
     },
     "execution_count": 20,
     "metadata": {},
     "output_type": "execute_result"
    }
   ],
   "source": [
    "edomex['tipoFalta.valor'].value_counts()"
   ]
  },
  {
   "cell_type": "code",
   "execution_count": null,
   "metadata": {
    "colab": {
     "base_uri": "https://localhost:8080/"
    },
    "id": "pU4BQrKOxIhH",
    "outputId": "718d1b14-2d7b-4702-d65d-7d060a8792ea"
   },
   "outputs": [
    {
     "data": {
      "text/plain": [
       "ABUSO DE FUNCIONES,                                      50\n",
       "COHECHO,                                                 23\n",
       "DESVIO DE RECURSOS PUBLICOS,                             10\n",
       "COMETER O TOLERAR CONDUCTAS DE ACOSO SEXUAL,              3\n",
       "COMETER O TOLERAR CONDUCTAS DE HOSTIGAMIENTO SEXUAL,      3\n",
       "ACTUAR BAJO CONFLICTO DE INTERES,                         2\n",
       "PECULADO,                                                 2\n",
       "DESVIO DE RECURSOS PUBLICOS, ABUSO DE FUNCIONES,          1\n",
       "PECULADO, ABUSO DE FUNCIONES,                             1\n",
       "ABUSO DE FUNCIONES, COHECHO,                              1\n",
       "Name: tipoFalta.descripcion, dtype: int64"
      ]
     },
     "execution_count": 55,
     "metadata": {},
     "output_type": "execute_result"
    }
   ],
   "source": [
    "edomex['tipoFalta.descripcion'].value_counts()"
   ]
  },
  {
   "cell_type": "code",
   "execution_count": null,
   "metadata": {
    "colab": {
     "base_uri": "https://localhost:8080/",
     "height": 296
    },
    "id": "PA8i_1FSBHg_",
    "outputId": "aa3945de-f8ff-443b-b477-1b75d0de73a1"
   },
   "outputs": [
    {
     "data": {
      "text/plain": [
       "<matplotlib.axes._subplots.AxesSubplot at 0x7f2a8c51c880>"
      ]
     },
     "execution_count": 64,
     "metadata": {},
     "output_type": "execute_result"
    },
    {
     "data": {
      "image/png": "[encoded data removed]",
      "text/plain": [
       "<Figure size 432x288 with 1 Axes>"
      ]
     },
     "metadata": {
      "needs_background": "light"
     },
     "output_type": "display_data"
    }
   ],
   "source": [
    "sns.countplot(data=edomex, y='tipoFalta.descripcion')"
   ]
  },
  {
   "cell_type": "code",
   "execution_count": null,
   "metadata": {
    "colab": {
     "base_uri": "https://localhost:8080/"
    },
    "id": "ji_9oqFiswbJ",
    "outputId": "65d74a73-49ea-4074-aefa-3171d528721e"
   },
   "outputs": [
    {
     "data": {
      "text/plain": [
       "I    27\n",
       "Name: tipoSancion.clave, dtype: int64"
      ]
     },
     "execution_count": 21,
     "metadata": {},
     "output_type": "execute_result"
    }
   ],
   "source": [
    "chiapas['tipoSancion.clave'].value_counts()"
   ]
  },
  {
   "cell_type": "code",
   "execution_count": null,
   "metadata": {
    "colab": {
     "base_uri": "https://localhost:8080/"
    },
    "id": "HZyVSYc9sYr9",
    "outputId": "c2b43bed-580a-4224-c8a8-e16b8a0931d8"
   },
   "outputs": [
    {
     "data": {
      "text/plain": [
       "I       47\n",
       "IRSC    17\n",
       "S       16\n",
       "D       10\n",
       "SE       6\n",
       "Name: tipoSancion.clave, dtype: int64"
      ]
     },
     "execution_count": 22,
     "metadata": {},
     "output_type": "execute_result"
    }
   ],
   "source": [
    "edomex['tipoSancion.clave'].value_counts()"
   ]
  },
  {
   "cell_type": "code",
   "execution_count": null,
   "metadata": {
    "colab": {
     "base_uri": "https://localhost:8080/"
    },
    "id": "WhkPGb1YspmU",
    "outputId": "f53f2a77-cffd-42bf-d2a2-a6c972e5b40f"
   },
   "outputs": [
    {
     "data": {
      "text/plain": [
       "FISCAL DEL MINISTERIO PUBLICO, ADSCRITO A LA FISCALIA DE LA MUJER                                                           1\n",
       "JEFE DE AREA DE ASUNTOS ADMINISTRATIVOS                                                                                     1\n",
       "SUBSECRETARIO DE RECOVERSION PRODUCTIVA SUSTENTABLE                                                                         1\n",
       "RESPONSABLE DEL CENTRO DE RECAUDACION LOCAL TUXTLA I TORRE CHIAPAS                                                          1\n",
       "JEFE DE LA UNIDAD APOYO ADMINISTRATIVO                                                                                      1\n",
       "AUXILIAR DE EDUCADORA                                                                                                       1\n",
       "DIRECTORA DE CONTRATOS Y ESTIMACIONES                                                                                       1\n",
       "TITULAR DE LA DELEGACION III FROTERIZA, COMITAN                                                                             1\n",
       "SUBDIRECTOR DE VINCULACION                                                                                                  1\n",
       "DIRECTOR DE SUPERVISION DE INFRAESTRUCTURA HIDRAULICA                                                                       1\n",
       "ENLACE B                                                                                                                    1\n",
       "JEFE DE DEPARTAMENTO                                                                                                        1\n",
       "SUPERVISOR DE OBRA                                                                                                          1\n",
       "PRESIDENTE DEL CONSEJO MUNICIPAL ELECTORAL DE MAZATAN, CHIAPAS                                                              1\n",
       "SECRETARIA EJECUTIVA DE APOYO, ADSCRITA A LA FISCALIA DE DISTRITO METROPOLITANO                                             1\n",
       "DIRECTORA DE RECURSOS HUMANOS Y ORGANIZACION                                                                                1\n",
       "SECRETARIO TECNICO DEL CONSEJO MUNICIPAL ELECTORAL DE MAZATAN, CHIAPAS                                                      1\n",
       "AUXILIAR ADMINISTRATIVO (APOYO ADMINISTRATIVO EN SALUD A5)                                                                  1\n",
       "DIRECTOR DE CONTROL FINANCIERO                                                                                              1\n",
       "JEFA DE DEPARTAMENTO DE GESTION SOCIAL                                                                                      1\n",
       "OPERADOR DEL MODULO DE GOBIERNO EXPRESS SAN CRISTOBAL II, ADSCRITO A LA DELEGACION DE HACIENDA SAN CRISTOBAL DELAS CASAS    1\n",
       "FISCAL DEL MINISTERIO PUBLICO, ADSCRITO A LA FISCALIA DE DISTRITO NORTE                                                     1\n",
       "AUXILIAR DE SEGURIDAD D                                                                                                     1\n",
       "ANALISTA TECNICO                                                                                                            1\n",
       "SECRETARIA DE ACUERDOS MINISTERIALES, ADSCRITA A LA FISCALIA DE DISTRITO FRONTERIZO COSTA                                   1\n",
       "GESTOR ADMINISTRATIVO                                                                                                       1\n",
       "JEFE DE LA UNIDAD DE APOYO ADMINISTRATIVO                                                                                   1\n",
       "Name: servidorPublicoSancionado.puesto, dtype: int64"
      ]
     },
     "execution_count": 23,
     "metadata": {},
     "output_type": "execute_result"
    }
   ],
   "source": [
    "chiapas['servidorPublicoSancionado.puesto'].value_counts()"
   ]
  },
  {
   "cell_type": "code",
   "execution_count": null,
   "metadata": {
    "colab": {
     "base_uri": "https://localhost:8080/"
    },
    "id": "5hQtFcUotuTt",
    "outputId": "94fd7d64-df79-4ef2-e687-ff6855d61c2a"
   },
   "outputs": [
    {
     "data": {
      "text/plain": [
       "TESORERO MUNICIPAL                                                             11\n",
       "PRESIDENTE                                                                      7\n",
       "Secretaria,o del Ministerio Público R-1                                         4\n",
       "Auxiliar Administrativa,o                                                       4\n",
       "Agente del Ministerio Público Auxiliar de la Fiscalía                           4\n",
       "JEFE DE UNIDAD                                                                  4\n",
       "SINDICO                                                                         4\n",
       "JEFE DE DEPARTAMENTO                                                            4\n",
       "Agente del Ministerio Público R-1                                               3\n",
       "DIRECTOR                                                                        3\n",
       "SUBDIRECTOR                                                                     3\n",
       "COORDINADOR                                                                     3\n",
       "PRESIDENTE MUNICIPAL CONSTITUCIONAL                                             3\n",
       "Analista Auxiliar                                                               3\n",
       "ENCARGADO DEL DESPACHO                                                          2\n",
       "CONTRALOR                                                                       2\n",
       "Agente del Ministerio Público R-2                                               2\n",
       "Agente Investigadora,or R-3                                                     1\n",
       "Médica,o Veterinaria,o                                                          1\n",
       "CONSEJERO JURIDICO                                                              1\n",
       "DIRECTOR DE AREA                                                                1\n",
       "AUXILIAR OPERATIVO                                                              1\n",
       "Enlace Administrativa,o                                                         1\n",
       "Supervisora,or Especializada,o de Servicio Técnico                              1\n",
       "Controlista Pagadora,or de Caja General                                         1\n",
       "SECRETARIO TECNICO                                                              1\n",
       "Titular del Órgano Interno de Control                                           1\n",
       "Agente Investigadora,or R-1                                                     1\n",
       "Comisionada,o Ejecutiva,o                                                       1\n",
       "Promotora,or de Organización de Productoras,es                                  1\n",
       "Jefa,e de Departamento                                                          1\n",
       "Auxiliar Administrativa,o de Oficina de Servidora,or Pública,o Superiora,or     1\n",
       "Supervisora,or de Captura                                                       1\n",
       "REGIDOR                                                                         1\n",
       "Asesora,or Jurídica,o Especializada,o                                           1\n",
       "Enfermera,o                                                                     1\n",
       "Directora,or General                                                            1\n",
       "Residente Regional de Obras Públicas                                            1\n",
       "Secretaria,o del Ministerio Público R-2                                         1\n",
       "JEFE DE DEPARTAMENTO C                                                          1\n",
       "Secretaria,o 'A'                                                                1\n",
       "Oficial                                                                         1\n",
       "Oficinista                                                                      1\n",
       "SECRETARIO DEL AYUNTAMIENTO                                                     1\n",
       "Coordinadora,or Administrativa,o                                                1\n",
       "Operador de pozos                                                               1\n",
       "Supervisora,or de Servicios                                                     1\n",
       "Name: servidorPublicoSancionado.puesto, dtype: int64"
      ]
     },
     "execution_count": 24,
     "metadata": {},
     "output_type": "execute_result"
    }
   ],
   "source": [
    "edomex['servidorPublicoSancionado.puesto'].value_counts()"
   ]
  },
  {
   "cell_type": "code",
   "execution_count": null,
   "metadata": {
    "colab": {
     "base_uri": "https://localhost:8080/"
    },
    "id": "9Ic-yEQntz5O",
    "outputId": "369e95b2-343d-4cb1-a776-52518d487bd6"
   },
   "outputs": [
    {
     "data": {
      "text/plain": [
       "M    23\n",
       "F     4\n",
       "Name: servidorPublicoSancionado.genero.clave, dtype: int64"
      ]
     },
     "execution_count": 25,
     "metadata": {},
     "output_type": "execute_result"
    }
   ],
   "source": [
    "chiapas['servidorPublicoSancionado.genero.clave'].value_counts()"
   ]
  },
  {
   "cell_type": "code",
   "execution_count": null,
   "metadata": {
    "colab": {
     "base_uri": "https://localhost:8080/"
    },
    "id": "evLmdkeeuslU",
    "outputId": "24a290f9-19c3-4a12-a6ab-433c0a35301e"
   },
   "outputs": [
    {
     "data": {
      "text/plain": [
       "M    65\n",
       "F    31\n",
       "Name: servidorPublicoSancionado.genero.clave, dtype: int64"
      ]
     },
     "execution_count": 26,
     "metadata": {},
     "output_type": "execute_result"
    }
   ],
   "source": [
    "edomex['servidorPublicoSancionado.genero.clave'].value_counts()"
   ]
  },
  {
   "cell_type": "code",
   "execution_count": null,
   "metadata": {
    "colab": {
     "base_uri": "https://localhost:8080/"
    },
    "id": "P8hf4eM6uvcs",
    "outputId": "bb26d490-1d00-4d74-d89c-1673c0160f2d"
   },
   "outputs": [
    {
     "data": {
      "text/plain": [
       "0.0"
      ]
     },
     "execution_count": 27,
     "metadata": {},
     "output_type": "execute_result"
    }
   ],
   "source": [
    "chiapas['multa.monto'].mean()"
   ]
  },
  {
   "cell_type": "code",
   "execution_count": null,
   "metadata": {
    "colab": {
     "base_uri": "https://localhost:8080/"
    },
    "id": "BGwAJ9LnvMF9",
    "outputId": "32794232-246e-459b-9fd4-bdf5c3dcf3bd"
   },
   "outputs": [
    {
     "data": {
      "text/plain": [
       "array([0])"
      ]
     },
     "execution_count": 28,
     "metadata": {},
     "output_type": "execute_result"
    }
   ],
   "source": [
    "chiapas['multa.monto'].unique()"
   ]
  },
  {
   "cell_type": "code",
   "execution_count": null,
   "metadata": {
    "colab": {
     "base_uri": "https://localhost:8080/"
    },
    "id": "Jmp8BE3SvGjX",
    "outputId": "533df421-3b86-4f7e-a0ab-0d28eaa47eba"
   },
   "outputs": [
    {
     "data": {
      "text/plain": [
       "113741.205625"
      ]
     },
     "execution_count": 29,
     "metadata": {},
     "output_type": "execute_result"
    }
   ],
   "source": [
    "edomex['multa.monto'].mean()"
   ]
  },
  {
   "cell_type": "code",
   "execution_count": null,
   "metadata": {
    "id": "U7rzJe7lvYlU"
   },
   "outputs": [],
   "source": [
    "import seaborn as sns"
   ]
  },
  {
   "cell_type": "code",
   "execution_count": null,
   "metadata": {
    "colab": {
     "base_uri": "https://localhost:8080/",
     "height": 280
    },
    "id": "tm-S_V4-vKmH",
    "outputId": "a1120212-9ae8-4c58-b796-60c59f645759"
   },
   "outputs": [
    {
     "data": {
      "text/plain": [
       "<matplotlib.axes._subplots.AxesSubplot at 0x7f2a92655940>"
      ]
     },
     "execution_count": 31,
     "metadata": {},
     "output_type": "execute_result"
    },
    {
     "data": {
      "image/png": "[encoded data removed]",
      "text/plain": [
       "<Figure size 432x288 with 1 Axes>"
      ]
     },
     "metadata": {
      "needs_background": "light"
     },
     "output_type": "display_data"
    }
   ],
   "source": [
    "sns.violinplot(data=edomex, y='multa.monto')"
   ]
  },
  {
   "cell_type": "code",
   "execution_count": null,
   "metadata": {
    "colab": {
     "base_uri": "https://localhost:8080/",
     "height": 296
    },
    "id": "1rcDaho7vTQz",
    "outputId": "b3e6b863-9fe5-49ee-e4ea-ee964f216f46"
   },
   "outputs": [
    {
     "data": {
      "text/plain": [
       "<matplotlib.axes._subplots.AxesSubplot at 0x7f2a905c5d60>"
      ]
     },
     "execution_count": 32,
     "metadata": {},
     "output_type": "execute_result"
    },
    {
     "data": {
      "image/png": "[encoded data removed]",
      "text/plain": [
       "<Figure size 432x288 with 1 Axes>"
      ]
     },
     "metadata": {
      "needs_background": "light"
     },
     "output_type": "display_data"
    }
   ],
   "source": [
    "sns.countplot(data=chiapas, x='servidorPublicoSancionado.genero.clave')"
   ]
  },
  {
   "cell_type": "code",
   "execution_count": null,
   "metadata": {
    "colab": {
     "base_uri": "https://localhost:8080/",
     "height": 296
    },
    "id": "7Fm8ICTcy4PV",
    "outputId": "ed1aa021-9f6f-447c-cd27-1ca0923f3f48"
   },
   "outputs": [
    {
     "data": {
      "text/plain": [
       "<matplotlib.axes._subplots.AxesSubplot at 0x7f2a926b9c70>"
      ]
     },
     "execution_count": 33,
     "metadata": {},
     "output_type": "execute_result"
    },
    {
     "data": {
      "image/png": "[encoded data removed]",
      "text/plain": [
       "<Figure size 432x288 with 1 Axes>"
      ]
     },
     "metadata": {
      "needs_background": "light"
     },
     "output_type": "display_data"
    }
   ],
   "source": [
    "sns.countplot(data=edomex, x='servidorPublicoSancionado.genero.clave')"
   ]
  },
  {
   "cell_type": "code",
   "execution_count": null,
   "metadata": {
    "colab": {
     "base_uri": "https://localhost:8080/",
     "height": 296
    },
    "id": "m2TPwYuyy-ds",
    "outputId": "1f7a40b5-4547-44b1-b6a9-8eb2185f3d70"
   },
   "outputs": [
    {
     "data": {
      "text/plain": [
       "<matplotlib.axes._subplots.AxesSubplot at 0x7f2a905581f0>"
      ]
     },
     "execution_count": 34,
     "metadata": {},
     "output_type": "execute_result"
    },
    {
     "data": {
      "image/png": "[encoded data removed]",
      "text/plain": [
       "<Figure size 432x288 with 1 Axes>"
      ]
     },
     "metadata": {
      "needs_background": "light"
     },
     "output_type": "display_data"
    }
   ],
   "source": [
    "sns.countplot(data=edomex, x='tipoSancion.clave')"
   ]
  },
  {
   "cell_type": "code",
   "execution_count": null,
   "metadata": {
    "colab": {
     "base_uri": "https://localhost:8080/",
     "height": 296
    },
    "id": "psFEH3aWzcdA",
    "outputId": "a4e14f85-061a-434e-a2ec-7c95639852ce"
   },
   "outputs": [
    {
     "data": {
      "text/plain": [
       "<matplotlib.axes._subplots.AxesSubplot at 0x7f2a9052d8b0>"
      ]
     },
     "execution_count": 35,
     "metadata": {},
     "output_type": "execute_result"
    },
    {
     "data": {
      "image/png": "[encoded data removed]",
      "text/plain": [
       "<Figure size 432x288 with 1 Axes>"
      ]
     },
     "metadata": {
      "needs_background": "light"
     },
     "output_type": "display_data"
    }
   ],
   "source": [
    "sns.countplot(data=chiapas, x='tipoSancion.clave')"
   ]
  },
  {
   "cell_type": "code",
   "execution_count": null,
   "metadata": {
    "id": "X3aMedQ-sHsk"
   },
   "outputs": [],
   "source": [
    "chiapas.to_csv('/content/drive/MyDrive/Colab Notebooks/dataton_2022/S3_chiapas.csv', encoding='utf-8', index=False)"
   ]
  },
  {
   "cell_type": "code",
   "execution_count": null,
   "metadata": {
    "id": "BCn_rS6gszaV"
   },
   "outputs": [],
   "source": [
    "edomex.to_csv('/content/drive/MyDrive/Colab Notebooks/dataton_2022/S3_edomex.csv', encoding='utf-8', index=False)"
   ]
  }
 ],
 "metadata": {
  "colab": {
   "provenance": []
  },
  "kernelspec": {
   "display_name": "Python 3 (ipykernel)",
   "language": "python",
   "name": "python3"
  },
  "language_info": {
   "codemirror_mode": {
    "name": "ipython",
    "version": 3
   },
   "file_extension": ".py",
   "mimetype": "text/x-python",
   "name": "python",
   "nbconvert_exporter": "python",
   "pygments_lexer": "ipython3",
   "version": "3.10.6"
  },
  "vscode": {
   "interpreter": {
    "hash": "04eb5fd3382f5ae6ecd8e5ea5943a43c2b77f84302c9ef3aee2bb26e0a62d38e"
   }
  }
 },
 "nbformat": 4,
 "nbformat_minor": 1
}
